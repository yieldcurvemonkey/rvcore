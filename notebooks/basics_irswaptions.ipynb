{
 "cells": [
  {
   "cell_type": "markdown",
   "id": "64c8394e",
   "metadata": {},
   "source": [
    "# IRSwaptions in `rvcore`\n",
    "\n",
    "1. Data Source Configuration\n",
    "2. Data Fetching\n",
    "3. Pricing\n",
    "4. MTM PnL \n",
    "5. Backtesting"
   ]
  },
  {
   "cell_type": "code",
   "execution_count": 1,
   "id": "ced17e55",
   "metadata": {},
   "outputs": [],
   "source": [
    "import sys\n",
    "sys.path.append(\"../\")\n",
    "\n",
    "import os\n",
    "from dotenv import dotenv_values\n",
    "env_path = os.path.join(os.getcwd(), \"../.env\")\n",
    "config = dotenv_values(env_path)"
   ]
  },
  {
   "cell_type": "code",
   "execution_count": 2,
   "id": "49ced353",
   "metadata": {},
   "outputs": [],
   "source": [
    "%load_ext autoreload\n",
    "%autoreload 2\n",
    "%reload_ext autoreload\n",
    "\n",
    "import pandas as pd\n",
    "import QuantLib as ql\n",
    "from datetime import datetime\n",
    "\n",
    "from core.IRSwaps import IRSwaps, IRSwapQuery, IRSwapValue, IRSwapStructure, IRSwapStructureFunctionMap, IRSwapValueFunctionMap\n",
    "from core.IRSwaptions import IRSwaptions, IRSwaptionQuery, IRSwaptionValue, IRSwaptionStructure, IRSwaptionStructureFunctionMap, IRSwaptionValueFunctionMap\n",
    "from core.DataFetching.FixingsFetcher import FixingsFetcher\n",
    "from core.utils.ql_utils import ql_date_to_datetime\n",
    "\n",
    "import matplotlib.pyplot as plt\n",
    "import matplotlib.pylab as pylab\n",
    "import matplotlib.dates as mdates\n",
    "plt.style.use('ggplot')\n",
    "params = {'legend.fontsize': 'x-large',\n",
    "        'figure.figsize': (12, 8),\n",
    "        'axes.labelsize': 'x-large',\n",
    "        'axes.titlesize':'x-large',\n",
    "        'xtick.labelsize':'x-large',\n",
    "        'ytick.labelsize':'x-large'}\n",
    "pylab.rcParams.update(params)\n",
    "\n",
    "import nest_asyncio\n",
    "nest_asyncio.apply()"
   ]
  },
  {
   "cell_type": "markdown",
   "id": "33e5b679",
   "metadata": {},
   "source": [
    "## Data Source Configuration:\n",
    "- CSV ingest of a timeseries of 'Flatten' Volatility Cubes (columns must follow format `f\"{expiry}x{tail} ATMF-{strike offset in bps}\"`) with 'Date' column in ISO 8601 extended format with timezone offset (UTC)\n",
    "- `curve` are CME Clearing Conventions"
   ]
  },
  {
   "cell_type": "code",
   "execution_count": 4,
   "id": "3fc39c1e",
   "metadata": {},
   "outputs": [
    {
     "name": "stderr",
     "output_type": "stream",
     "text": [
      "BOOTSTRAPPING HISTORICAL IRSWAPS CURVE...: 100%|██████████| 248/248 [00:08<00:00, 29.48it/s]\n",
      "BOOTSTRAPPING INTRADAY IRSWAPS CURVE...: 0it [00:00, ?it/s]\n",
      "STRUCTURING FLATTEN CUBE...: 100%|██████████| 337/337 [00:07<00:00, 44.10it/s]\n"
     ]
    }
   ],
   "source": [
    "curve = \"USD-SOFR-1D\"\n",
    "swaps_data_source = r\"CSV_C:\\Users\\chris\\Project Bond King\\rvcore\\data\\usd_ois.csv\"\n",
    "swaptions_data_source = r\"CSV_C:\\Users\\chris\\Project Bond King\\rvcore\\data\\usd_vol_cube.csv\"\n",
    "\n",
    "usd_ois = IRSwaps(\n",
    "    curve=curve,\n",
    "    data_source=swaps_data_source,\n",
    "    ql_interpolation_algo=\"log_linear\",\n",
    "    pre_fetch_curves=True,\n",
    "    error_verbose=True,\n",
    "    max_njobs=-1,\n",
    ")\n",
    "\n",
    "usd_swaptions = IRSwaptions(\n",
    "    data_source=swaptions_data_source,\n",
    "    irswaps_product=usd_ois,\n",
    "    error_verbose=True,\n",
    "    max_n_jobs=-1,\n",
    ")"
   ]
  },
  {
   "cell_type": "markdown",
   "id": "848f5ce9",
   "metadata": {},
   "source": [
    "## Data Fetching:"
   ]
  },
  {
   "cell_type": "markdown",
   "id": "2200b0a9",
   "metadata": {},
   "source": [
    "### Quantlib Vol Cube"
   ]
  },
  {
   "cell_type": "code",
   "execution_count": 5,
   "id": "5c9a272e",
   "metadata": {},
   "outputs": [
    {
     "name": "stderr",
     "output_type": "stream",
     "text": [
      "BUILDING QL VOL CUBES...: 100%|██████████| 1/1 [00:00<00:00, 9446.63cube/s]\n"
     ]
    },
    {
     "data": {
      "text/plain": [
       "{datetime.datetime(2025, 5, 9, 0, 0): <QuantLib.QuantLib.InterpolatedSwaptionVolatilityCube; proxy of <Swig Object of type 'ext::shared_ptr< InterpolatedSwaptionVolatilityCube > *' at 0x0000027F33C575D0> >}"
      ]
     },
     "execution_count": 5,
     "metadata": {},
     "output_type": "execute_result"
    }
   ],
   "source": [
    "usd_swaptions.fetch_qlcubes(bdates=[datetime(2025, 5, 9)], to_pydt=True)"
   ]
  },
  {
   "cell_type": "markdown",
   "id": "ff03a1b9",
   "metadata": {},
   "source": [
    "### SCube (`Dict[int, pd.DataFrame]`)\n",
    "- keyed by ATMF strike offset"
   ]
  },
  {
   "cell_type": "code",
   "execution_count": 46,
   "id": "6791cc11",
   "metadata": {},
   "outputs": [
    {
     "data": {
      "text/html": [
       "<div>\n",
       "<style scoped>\n",
       "    .dataframe tbody tr th:only-of-type {\n",
       "        vertical-align: middle;\n",
       "    }\n",
       "\n",
       "    .dataframe tbody tr th {\n",
       "        vertical-align: top;\n",
       "    }\n",
       "\n",
       "    .dataframe thead th {\n",
       "        text-align: right;\n",
       "    }\n",
       "</style>\n",
       "<table border=\"1\" class=\"dataframe\">\n",
       "  <thead>\n",
       "    <tr style=\"text-align: right;\">\n",
       "      <th>Tail</th>\n",
       "      <th>1Y</th>\n",
       "      <th>2Y</th>\n",
       "      <th>3Y</th>\n",
       "      <th>4Y</th>\n",
       "      <th>5Y</th>\n",
       "      <th>6Y</th>\n",
       "      <th>7Y</th>\n",
       "      <th>8Y</th>\n",
       "      <th>9Y</th>\n",
       "      <th>10Y</th>\n",
       "      <th>15Y</th>\n",
       "      <th>20Y</th>\n",
       "      <th>30Y</th>\n",
       "    </tr>\n",
       "    <tr>\n",
       "      <th>Expiry</th>\n",
       "      <th></th>\n",
       "      <th></th>\n",
       "      <th></th>\n",
       "      <th></th>\n",
       "      <th></th>\n",
       "      <th></th>\n",
       "      <th></th>\n",
       "      <th></th>\n",
       "      <th></th>\n",
       "      <th></th>\n",
       "      <th></th>\n",
       "      <th></th>\n",
       "      <th></th>\n",
       "    </tr>\n",
       "  </thead>\n",
       "  <tbody>\n",
       "    <tr>\n",
       "      <th>1M</th>\n",
       "      <td>88.738499</td>\n",
       "      <td>108.105399</td>\n",
       "      <td>109.692849</td>\n",
       "      <td>108.740379</td>\n",
       "      <td>107.787908</td>\n",
       "      <td>106.044101</td>\n",
       "      <td>104.295517</td>\n",
       "      <td>102.813896</td>\n",
       "      <td>101.332275</td>\n",
       "      <td>99.850654</td>\n",
       "      <td>97.627615</td>\n",
       "      <td>95.405792</td>\n",
       "      <td>92.389636</td>\n",
       "    </tr>\n",
       "    <tr>\n",
       "      <th>3M</th>\n",
       "      <td>99.533164</td>\n",
       "      <td>112.391516</td>\n",
       "      <td>113.661476</td>\n",
       "      <td>110.039966</td>\n",
       "      <td>110.962810</td>\n",
       "      <td>106.425211</td>\n",
       "      <td>107.470418</td>\n",
       "      <td>105.882967</td>\n",
       "      <td>104.295517</td>\n",
       "      <td>102.708066</td>\n",
       "      <td>98.299679</td>\n",
       "      <td>97.945714</td>\n",
       "      <td>94.770812</td>\n",
       "    </tr>\n",
       "    <tr>\n",
       "      <th>6M</th>\n",
       "      <td>109.375359</td>\n",
       "      <td>114.296457</td>\n",
       "      <td>114.296457</td>\n",
       "      <td>112.000000</td>\n",
       "      <td>110.962810</td>\n",
       "      <td>107.000000</td>\n",
       "      <td>107.470418</td>\n",
       "      <td>105.935882</td>\n",
       "      <td>104.401347</td>\n",
       "      <td>102.866811</td>\n",
       "      <td>99.313285</td>\n",
       "      <td>98.263204</td>\n",
       "      <td>95.088302</td>\n",
       "    </tr>\n",
       "    <tr>\n",
       "      <th>9M</th>\n",
       "      <td>114.613947</td>\n",
       "      <td>116.042653</td>\n",
       "      <td>114.931437</td>\n",
       "      <td>113.000000</td>\n",
       "      <td>110.962810</td>\n",
       "      <td>107.000000</td>\n",
       "      <td>107.629163</td>\n",
       "      <td>106.094628</td>\n",
       "      <td>104.560092</td>\n",
       "      <td>103.025556</td>\n",
       "      <td>100.326890</td>\n",
       "      <td>97.786968</td>\n",
       "      <td>95.247047</td>\n",
       "    </tr>\n",
       "    <tr>\n",
       "      <th>1Y</th>\n",
       "      <td>117.788848</td>\n",
       "      <td>117.312613</td>\n",
       "      <td>115.725162</td>\n",
       "      <td>113.000000</td>\n",
       "      <td>110.962810</td>\n",
       "      <td>107.000000</td>\n",
       "      <td>107.629163</td>\n",
       "      <td>106.200458</td>\n",
       "      <td>104.771752</td>\n",
       "      <td>103.343046</td>\n",
       "      <td>100.168145</td>\n",
       "      <td>97.151988</td>\n",
       "      <td>95.564537</td>\n",
       "    </tr>\n",
       "    <tr>\n",
       "      <th>2Y</th>\n",
       "      <td>114.455202</td>\n",
       "      <td>113.026496</td>\n",
       "      <td>111.280300</td>\n",
       "      <td>109.000000</td>\n",
       "      <td>108.105399</td>\n",
       "      <td>105.000000</td>\n",
       "      <td>105.406732</td>\n",
       "      <td>104.242602</td>\n",
       "      <td>103.078471</td>\n",
       "      <td>101.914341</td>\n",
       "      <td>98.580694</td>\n",
       "      <td>96.199518</td>\n",
       "      <td>95.088302</td>\n",
       "    </tr>\n",
       "    <tr>\n",
       "      <th>3Y</th>\n",
       "      <td>110.804065</td>\n",
       "      <td>109.375359</td>\n",
       "      <td>107.787908</td>\n",
       "      <td>106.000000</td>\n",
       "      <td>104.930497</td>\n",
       "      <td>103.000000</td>\n",
       "      <td>103.025556</td>\n",
       "      <td>102.126001</td>\n",
       "      <td>101.226445</td>\n",
       "      <td>100.326890</td>\n",
       "      <td>96.993243</td>\n",
       "      <td>94.770812</td>\n",
       "      <td>93.659596</td>\n",
       "    </tr>\n",
       "    <tr>\n",
       "      <th>4Y</th>\n",
       "      <td>109.000000</td>\n",
       "      <td>106.000000</td>\n",
       "      <td>105.000000</td>\n",
       "      <td>104.000000</td>\n",
       "      <td>103.000000</td>\n",
       "      <td>101.000000</td>\n",
       "      <td>101.438105</td>\n",
       "      <td>100.625404</td>\n",
       "      <td>99.812702</td>\n",
       "      <td>99.000000</td>\n",
       "      <td>95.627353</td>\n",
       "      <td>94.000000</td>\n",
       "      <td>92.000000</td>\n",
       "    </tr>\n",
       "    <tr>\n",
       "      <th>5Y</th>\n",
       "      <td>106.676693</td>\n",
       "      <td>104.454262</td>\n",
       "      <td>103.343046</td>\n",
       "      <td>102.000000</td>\n",
       "      <td>101.279360</td>\n",
       "      <td>100.000000</td>\n",
       "      <td>99.850654</td>\n",
       "      <td>99.215674</td>\n",
       "      <td>98.580694</td>\n",
       "      <td>97.945714</td>\n",
       "      <td>94.261462</td>\n",
       "      <td>92.000000</td>\n",
       "      <td>91.278420</td>\n",
       "    </tr>\n",
       "    <tr>\n",
       "      <th>6Y</th>\n",
       "      <td>104.931453</td>\n",
       "      <td>102.740754</td>\n",
       "      <td>101.693002</td>\n",
       "      <td>100.459759</td>\n",
       "      <td>99.724510</td>\n",
       "      <td>98.542441</td>\n",
       "      <td>98.264073</td>\n",
       "      <td>97.629093</td>\n",
       "      <td>96.994112</td>\n",
       "      <td>96.295669</td>\n",
       "      <td>92.895572</td>\n",
       "      <td>90.935463</td>\n",
       "      <td>89.755302</td>\n",
       "    </tr>\n",
       "    <tr>\n",
       "      <th>7Y</th>\n",
       "      <td>103.181432</td>\n",
       "      <td>101.022551</td>\n",
       "      <td>100.038436</td>\n",
       "      <td>98.915299</td>\n",
       "      <td>98.165401</td>\n",
       "      <td>97.080889</td>\n",
       "      <td>96.673145</td>\n",
       "      <td>96.038165</td>\n",
       "      <td>95.381914</td>\n",
       "      <td>94.641103</td>\n",
       "      <td>91.525940</td>\n",
       "      <td>89.868010</td>\n",
       "      <td>88.228011</td>\n",
       "    </tr>\n",
       "    <tr>\n",
       "      <th>8Y</th>\n",
       "      <td>101.436193</td>\n",
       "      <td>99.309043</td>\n",
       "      <td>98.388391</td>\n",
       "      <td>97.375058</td>\n",
       "      <td>96.610551</td>\n",
       "      <td>95.623330</td>\n",
       "      <td>95.086563</td>\n",
       "      <td>94.451583</td>\n",
       "      <td>93.731869</td>\n",
       "      <td>92.991059</td>\n",
       "      <td>90.311345</td>\n",
       "      <td>88.803473</td>\n",
       "      <td>86.704893</td>\n",
       "    </tr>\n",
       "    <tr>\n",
       "      <th>9Y</th>\n",
       "      <td>99.690953</td>\n",
       "      <td>97.595535</td>\n",
       "      <td>96.738347</td>\n",
       "      <td>95.834817</td>\n",
       "      <td>95.055701</td>\n",
       "      <td>94.165771</td>\n",
       "      <td>93.499982</td>\n",
       "      <td>92.822635</td>\n",
       "      <td>92.081824</td>\n",
       "      <td>91.341014</td>\n",
       "      <td>89.246809</td>\n",
       "      <td>87.738937</td>\n",
       "      <td>85.181775</td>\n",
       "    </tr>\n",
       "    <tr>\n",
       "      <th>10Y</th>\n",
       "      <td>97.945714</td>\n",
       "      <td>95.882028</td>\n",
       "      <td>95.088302</td>\n",
       "      <td>94.294577</td>\n",
       "      <td>93.500851</td>\n",
       "      <td>92.708212</td>\n",
       "      <td>91.913401</td>\n",
       "      <td>91.172590</td>\n",
       "      <td>90.431780</td>\n",
       "      <td>89.690969</td>\n",
       "      <td>88.182272</td>\n",
       "      <td>86.674400</td>\n",
       "      <td>83.658656</td>\n",
       "    </tr>\n",
       "    <tr>\n",
       "      <th>15Y</th>\n",
       "      <td>91.503343</td>\n",
       "      <td>89.557576</td>\n",
       "      <td>88.990623</td>\n",
       "      <td>88.588937</td>\n",
       "      <td>87.745115</td>\n",
       "      <td>87.301015</td>\n",
       "      <td>86.048984</td>\n",
       "      <td>85.085645</td>\n",
       "      <td>84.346966</td>\n",
       "      <td>83.608321</td>\n",
       "      <td>84.198679</td>\n",
       "      <td>82.692801</td>\n",
       "      <td>78.041375</td>\n",
       "    </tr>\n",
       "    <tr>\n",
       "      <th>20Y</th>\n",
       "      <td>87.193626</td>\n",
       "      <td>85.327466</td>\n",
       "      <td>84.905323</td>\n",
       "      <td>84.753630</td>\n",
       "      <td>83.879838</td>\n",
       "      <td>83.659081</td>\n",
       "      <td>82.118804</td>\n",
       "      <td>81.017387</td>\n",
       "      <td>80.282089</td>\n",
       "      <td>79.546877</td>\n",
       "      <td>81.483522</td>\n",
       "      <td>79.980860</td>\n",
       "      <td>74.288340</td>\n",
       "    </tr>\n",
       "    <tr>\n",
       "      <th>30Y</th>\n",
       "      <td>81.461590</td>\n",
       "      <td>79.702261</td>\n",
       "      <td>79.463605</td>\n",
       "      <td>79.628096</td>\n",
       "      <td>78.719167</td>\n",
       "      <td>78.782337</td>\n",
       "      <td>76.882170</td>\n",
       "      <td>75.611371</td>\n",
       "      <td>74.883143</td>\n",
       "      <td>74.155108</td>\n",
       "      <td>77.804565</td>\n",
       "      <td>76.308763</td>\n",
       "      <td>69.302940</td>\n",
       "    </tr>\n",
       "  </tbody>\n",
       "</table>\n",
       "</div>"
      ],
      "text/plain": [
       "Tail            1Y          2Y          3Y          4Y          5Y  \\\n",
       "Expiry                                                               \n",
       "1M       88.738499  108.105399  109.692849  108.740379  107.787908   \n",
       "3M       99.533164  112.391516  113.661476  110.039966  110.962810   \n",
       "6M      109.375359  114.296457  114.296457  112.000000  110.962810   \n",
       "9M      114.613947  116.042653  114.931437  113.000000  110.962810   \n",
       "1Y      117.788848  117.312613  115.725162  113.000000  110.962810   \n",
       "2Y      114.455202  113.026496  111.280300  109.000000  108.105399   \n",
       "3Y      110.804065  109.375359  107.787908  106.000000  104.930497   \n",
       "4Y      109.000000  106.000000  105.000000  104.000000  103.000000   \n",
       "5Y      106.676693  104.454262  103.343046  102.000000  101.279360   \n",
       "6Y      104.931453  102.740754  101.693002  100.459759   99.724510   \n",
       "7Y      103.181432  101.022551  100.038436   98.915299   98.165401   \n",
       "8Y      101.436193   99.309043   98.388391   97.375058   96.610551   \n",
       "9Y       99.690953   97.595535   96.738347   95.834817   95.055701   \n",
       "10Y      97.945714   95.882028   95.088302   94.294577   93.500851   \n",
       "15Y      91.503343   89.557576   88.990623   88.588937   87.745115   \n",
       "20Y      87.193626   85.327466   84.905323   84.753630   83.879838   \n",
       "30Y      81.461590   79.702261   79.463605   79.628096   78.719167   \n",
       "\n",
       "Tail            6Y          7Y          8Y          9Y         10Y  \\\n",
       "Expiry                                                               \n",
       "1M      106.044101  104.295517  102.813896  101.332275   99.850654   \n",
       "3M      106.425211  107.470418  105.882967  104.295517  102.708066   \n",
       "6M      107.000000  107.470418  105.935882  104.401347  102.866811   \n",
       "9M      107.000000  107.629163  106.094628  104.560092  103.025556   \n",
       "1Y      107.000000  107.629163  106.200458  104.771752  103.343046   \n",
       "2Y      105.000000  105.406732  104.242602  103.078471  101.914341   \n",
       "3Y      103.000000  103.025556  102.126001  101.226445  100.326890   \n",
       "4Y      101.000000  101.438105  100.625404   99.812702   99.000000   \n",
       "5Y      100.000000   99.850654   99.215674   98.580694   97.945714   \n",
       "6Y       98.542441   98.264073   97.629093   96.994112   96.295669   \n",
       "7Y       97.080889   96.673145   96.038165   95.381914   94.641103   \n",
       "8Y       95.623330   95.086563   94.451583   93.731869   92.991059   \n",
       "9Y       94.165771   93.499982   92.822635   92.081824   91.341014   \n",
       "10Y      92.708212   91.913401   91.172590   90.431780   89.690969   \n",
       "15Y      87.301015   86.048984   85.085645   84.346966   83.608321   \n",
       "20Y      83.659081   82.118804   81.017387   80.282089   79.546877   \n",
       "30Y      78.782337   76.882170   75.611371   74.883143   74.155108   \n",
       "\n",
       "Tail           15Y        20Y        30Y  \n",
       "Expiry                                    \n",
       "1M       97.627615  95.405792  92.389636  \n",
       "3M       98.299679  97.945714  94.770812  \n",
       "6M       99.313285  98.263204  95.088302  \n",
       "9M      100.326890  97.786968  95.247047  \n",
       "1Y      100.168145  97.151988  95.564537  \n",
       "2Y       98.580694  96.199518  95.088302  \n",
       "3Y       96.993243  94.770812  93.659596  \n",
       "4Y       95.627353  94.000000  92.000000  \n",
       "5Y       94.261462  92.000000  91.278420  \n",
       "6Y       92.895572  90.935463  89.755302  \n",
       "7Y       91.525940  89.868010  88.228011  \n",
       "8Y       90.311345  88.803473  86.704893  \n",
       "9Y       89.246809  87.738937  85.181775  \n",
       "10Y      88.182272  86.674400  83.658656  \n",
       "15Y      84.198679  82.692801  78.041375  \n",
       "20Y      81.483522  79.980860  74.288340  \n",
       "30Y      77.804565  76.308763  69.302940  "
      ]
     },
     "execution_count": 46,
     "metadata": {},
     "output_type": "execute_result"
    }
   ],
   "source": [
    "dt = datetime(2025, 5, 9)\n",
    "scube = usd_swaptions.fetch_scubes(bdates=[dt], to_pydt=True)[dt]\n",
    "\n",
    "scube[0]"
   ]
  },
  {
   "cell_type": "markdown",
   "id": "ed3a0b00",
   "metadata": {},
   "source": [
    "### Term Structures"
   ]
  },
  {
   "cell_type": "code",
   "execution_count": 47,
   "id": "01f3b673",
   "metadata": {},
   "outputs": [
    {
     "name": "stderr",
     "output_type": "stream",
     "text": [
      "BUILDING QL VOL CUBES...: 100%|██████████| 2/2 [00:00<00:00, 5899.16cube/s]\n"
     ]
    },
    {
     "data": {
      "application/vnd.plotly.v1+json": {
       "config": {
        "plotlyServerURL": "https://plot.ly"
       },
       "data": [
        {
         "customdata": [
          [
           1.7128,
           -200
          ],
          [
           2.2128,
           -150
          ],
          [
           2.4628,
           -125
          ],
          [
           2.7128,
           -100
          ],
          [
           2.9628,
           -75
          ],
          [
           3.2128,
           -50
          ],
          [
           3.4628,
           -25
          ],
          [
           3.6128,
           -10
          ],
          [
           3.7128,
           0
          ],
          [
           3.8128,
           10
          ],
          [
           3.9628,
           25
          ],
          [
           4.2128,
           50
          ],
          [
           4.4628,
           75
          ],
          [
           4.7128,
           100
          ],
          [
           4.9628,
           125
          ],
          [
           5.2128,
           150
          ],
          [
           5.7128,
           200
          ]
         ],
         "hovertemplate": "<b>Strike:</b> %{customdata[0]}<br><b>Strike Offset:</b> %{customdata[1]}<br><b>NVOL:</b> %{y}<extra></extra>",
         "line": {
          "width": 2
         },
         "marker": {
          "size": 8
         },
         "mode": "lines+markers",
         "name": "2025-04-01",
         "type": "scatter",
         "x": [
          -200,
          -150,
          -125,
          -100,
          -75,
          -50,
          -25,
          -10,
          0,
          10,
          25,
          50,
          75,
          100,
          125,
          150,
          200
         ],
         "y": [
          143.9506615131357,
          133.6369289046416,
          127.71025595748941,
          121.78358301033724,
          115.9505051225005,
          110.11742723466377,
          105.4091148764974,
          103.40749729912208,
          102.07308558087188,
          102.02712699605965,
          101.95818911884132,
          104.26405733607024,
          109.73036914596558,
          115.19668095586093,
          122.78327954709295,
          130.36987813832494,
          147.02929440666486
         ]
        },
        {
         "customdata": [
          [
           1.63969,
           -200
          ],
          [
           2.13969,
           -150
          ],
          [
           2.38969,
           -125
          ],
          [
           2.63969,
           -100
          ],
          [
           2.88969,
           -75
          ],
          [
           3.13969,
           -50
          ],
          [
           3.38969,
           -25
          ],
          [
           3.53969,
           -10
          ],
          [
           3.63969,
           0
          ],
          [
           3.73969,
           10
          ],
          [
           3.88969,
           25
          ],
          [
           4.13969,
           50
          ],
          [
           4.38969,
           75
          ],
          [
           4.63969,
           100
          ],
          [
           4.88969,
           125
          ],
          [
           5.13969,
           150
          ],
          [
           5.63969,
           200
          ]
         ],
         "hovertemplate": "<b>Strike:</b> %{customdata[0]}<br><b>Strike Offset:</b> %{customdata[1]}<br><b>NVOL:</b> %{y}<extra></extra>",
         "line": {
          "width": 2
         },
         "marker": {
          "size": 8
         },
         "mode": "lines+markers",
         "name": "2025-04-07",
         "type": "scatter",
         "x": [
          -200,
          -150,
          -125,
          -100,
          -75,
          -50,
          -25,
          -10,
          0,
          10,
          25,
          50,
          75,
          100,
          125,
          150,
          200
         ],
         "y": [
          156.69669068928977,
          147.65804004938568,
          142.15421944991152,
          136.65039885043737,
          131.1421486493238,
          125.63389844821023,
          121.14495772173035,
          119.22653915704781,
          117.94759344725946,
          117.75944203499819,
          117.4772149166063,
          119.31452030249116,
          124.37219038263271,
          129.42986046277423,
          136.95739182346472,
          144.4849231841552,
          161.56360646776815
         ]
        },
        {
         "customdata": [
          [
           1.8438,
           -200
          ],
          [
           2.3438,
           -150
          ],
          [
           2.5938,
           -125
          ],
          [
           2.8438,
           -100
          ],
          [
           3.0938,
           -75
          ],
          [
           3.3438,
           -50
          ],
          [
           3.5938,
           -25
          ],
          [
           3.7438,
           -10
          ],
          [
           3.8438,
           0
          ],
          [
           3.9438,
           10
          ],
          [
           4.0938,
           25
          ],
          [
           4.3438,
           50
          ],
          [
           4.5938,
           75
          ],
          [
           4.8438,
           100
          ],
          [
           5.0938,
           125
          ],
          [
           5.3438,
           150
          ],
          [
           5.8438,
           200
          ]
         ],
         "hovertemplate": "<b>Strike:</b> %{customdata[0]}<br><b>Strike Offset:</b> %{customdata[1]}<br><b>NVOL:</b> %{y}<extra></extra>",
         "line": {
          "width": 2
         },
         "marker": {
          "size": 8
         },
         "mode": "lines+markers",
         "name": "2025-05-09",
         "type": "scatter",
         "x": [
          -200,
          -150,
          -125,
          -100,
          -75,
          -50,
          -25,
          -10,
          0,
          10,
          25,
          50,
          75,
          100,
          125,
          150,
          200
         ],
         "y": [
          140.17815949037788,
          129.9024533637184,
          124.30621737845982,
          118.70998139320126,
          113.54803473810911,
          108.38608808301694,
          104.6309809258487,
          103.47723190765593,
          102.70806589552744,
          102.90003253608907,
          103.18798249693153,
          106.13906429340078,
          111.7893505076141,
          117.43963672182743,
          124.90844578820621,
          132.377254854585,
          148.6213674946869
         ]
        }
       ],
       "layout": {
        "height": 750,
        "legend": {
         "orientation": "h",
         "title": {
          "text": "Smiles:"
         },
         "x": 1,
         "xanchor": "right",
         "y": 1.02,
         "yanchor": "bottom"
        },
        "showlegend": true,
        "template": {
         "data": {
          "bar": [
           {
            "error_x": {
             "color": "#f2f5fa"
            },
            "error_y": {
             "color": "#f2f5fa"
            },
            "marker": {
             "line": {
              "color": "rgb(17,17,17)",
              "width": 0.5
             },
             "pattern": {
              "fillmode": "overlay",
              "size": 10,
              "solidity": 0.2
             }
            },
            "type": "bar"
           }
          ],
          "barpolar": [
           {
            "marker": {
             "line": {
              "color": "rgb(17,17,17)",
              "width": 0.5
             },
             "pattern": {
              "fillmode": "overlay",
              "size": 10,
              "solidity": 0.2
             }
            },
            "type": "barpolar"
           }
          ],
          "carpet": [
           {
            "aaxis": {
             "endlinecolor": "#A2B1C6",
             "gridcolor": "#506784",
             "linecolor": "#506784",
             "minorgridcolor": "#506784",
             "startlinecolor": "#A2B1C6"
            },
            "baxis": {
             "endlinecolor": "#A2B1C6",
             "gridcolor": "#506784",
             "linecolor": "#506784",
             "minorgridcolor": "#506784",
             "startlinecolor": "#A2B1C6"
            },
            "type": "carpet"
           }
          ],
          "choropleth": [
           {
            "colorbar": {
             "outlinewidth": 0,
             "ticks": ""
            },
            "type": "choropleth"
           }
          ],
          "contour": [
           {
            "colorbar": {
             "outlinewidth": 0,
             "ticks": ""
            },
            "colorscale": [
             [
              0,
              "#0d0887"
             ],
             [
              0.1111111111111111,
              "#46039f"
             ],
             [
              0.2222222222222222,
              "#7201a8"
             ],
             [
              0.3333333333333333,
              "#9c179e"
             ],
             [
              0.4444444444444444,
              "#bd3786"
             ],
             [
              0.5555555555555556,
              "#d8576b"
             ],
             [
              0.6666666666666666,
              "#ed7953"
             ],
             [
              0.7777777777777778,
              "#fb9f3a"
             ],
             [
              0.8888888888888888,
              "#fdca26"
             ],
             [
              1,
              "#f0f921"
             ]
            ],
            "type": "contour"
           }
          ],
          "contourcarpet": [
           {
            "colorbar": {
             "outlinewidth": 0,
             "ticks": ""
            },
            "type": "contourcarpet"
           }
          ],
          "heatmap": [
           {
            "colorbar": {
             "outlinewidth": 0,
             "ticks": ""
            },
            "colorscale": [
             [
              0,
              "#0d0887"
             ],
             [
              0.1111111111111111,
              "#46039f"
             ],
             [
              0.2222222222222222,
              "#7201a8"
             ],
             [
              0.3333333333333333,
              "#9c179e"
             ],
             [
              0.4444444444444444,
              "#bd3786"
             ],
             [
              0.5555555555555556,
              "#d8576b"
             ],
             [
              0.6666666666666666,
              "#ed7953"
             ],
             [
              0.7777777777777778,
              "#fb9f3a"
             ],
             [
              0.8888888888888888,
              "#fdca26"
             ],
             [
              1,
              "#f0f921"
             ]
            ],
            "type": "heatmap"
           }
          ],
          "heatmapgl": [
           {
            "colorbar": {
             "outlinewidth": 0,
             "ticks": ""
            },
            "colorscale": [
             [
              0,
              "#0d0887"
             ],
             [
              0.1111111111111111,
              "#46039f"
             ],
             [
              0.2222222222222222,
              "#7201a8"
             ],
             [
              0.3333333333333333,
              "#9c179e"
             ],
             [
              0.4444444444444444,
              "#bd3786"
             ],
             [
              0.5555555555555556,
              "#d8576b"
             ],
             [
              0.6666666666666666,
              "#ed7953"
             ],
             [
              0.7777777777777778,
              "#fb9f3a"
             ],
             [
              0.8888888888888888,
              "#fdca26"
             ],
             [
              1,
              "#f0f921"
             ]
            ],
            "type": "heatmapgl"
           }
          ],
          "histogram": [
           {
            "marker": {
             "pattern": {
              "fillmode": "overlay",
              "size": 10,
              "solidity": 0.2
             }
            },
            "type": "histogram"
           }
          ],
          "histogram2d": [
           {
            "colorbar": {
             "outlinewidth": 0,
             "ticks": ""
            },
            "colorscale": [
             [
              0,
              "#0d0887"
             ],
             [
              0.1111111111111111,
              "#46039f"
             ],
             [
              0.2222222222222222,
              "#7201a8"
             ],
             [
              0.3333333333333333,
              "#9c179e"
             ],
             [
              0.4444444444444444,
              "#bd3786"
             ],
             [
              0.5555555555555556,
              "#d8576b"
             ],
             [
              0.6666666666666666,
              "#ed7953"
             ],
             [
              0.7777777777777778,
              "#fb9f3a"
             ],
             [
              0.8888888888888888,
              "#fdca26"
             ],
             [
              1,
              "#f0f921"
             ]
            ],
            "type": "histogram2d"
           }
          ],
          "histogram2dcontour": [
           {
            "colorbar": {
             "outlinewidth": 0,
             "ticks": ""
            },
            "colorscale": [
             [
              0,
              "#0d0887"
             ],
             [
              0.1111111111111111,
              "#46039f"
             ],
             [
              0.2222222222222222,
              "#7201a8"
             ],
             [
              0.3333333333333333,
              "#9c179e"
             ],
             [
              0.4444444444444444,
              "#bd3786"
             ],
             [
              0.5555555555555556,
              "#d8576b"
             ],
             [
              0.6666666666666666,
              "#ed7953"
             ],
             [
              0.7777777777777778,
              "#fb9f3a"
             ],
             [
              0.8888888888888888,
              "#fdca26"
             ],
             [
              1,
              "#f0f921"
             ]
            ],
            "type": "histogram2dcontour"
           }
          ],
          "mesh3d": [
           {
            "colorbar": {
             "outlinewidth": 0,
             "ticks": ""
            },
            "type": "mesh3d"
           }
          ],
          "parcoords": [
           {
            "line": {
             "colorbar": {
              "outlinewidth": 0,
              "ticks": ""
             }
            },
            "type": "parcoords"
           }
          ],
          "pie": [
           {
            "automargin": true,
            "type": "pie"
           }
          ],
          "scatter": [
           {
            "marker": {
             "line": {
              "color": "#283442"
             }
            },
            "type": "scatter"
           }
          ],
          "scatter3d": [
           {
            "line": {
             "colorbar": {
              "outlinewidth": 0,
              "ticks": ""
             }
            },
            "marker": {
             "colorbar": {
              "outlinewidth": 0,
              "ticks": ""
             }
            },
            "type": "scatter3d"
           }
          ],
          "scattercarpet": [
           {
            "marker": {
             "colorbar": {
              "outlinewidth": 0,
              "ticks": ""
             }
            },
            "type": "scattercarpet"
           }
          ],
          "scattergeo": [
           {
            "marker": {
             "colorbar": {
              "outlinewidth": 0,
              "ticks": ""
             }
            },
            "type": "scattergeo"
           }
          ],
          "scattergl": [
           {
            "marker": {
             "line": {
              "color": "#283442"
             }
            },
            "type": "scattergl"
           }
          ],
          "scattermapbox": [
           {
            "marker": {
             "colorbar": {
              "outlinewidth": 0,
              "ticks": ""
             }
            },
            "type": "scattermapbox"
           }
          ],
          "scatterpolar": [
           {
            "marker": {
             "colorbar": {
              "outlinewidth": 0,
              "ticks": ""
             }
            },
            "type": "scatterpolar"
           }
          ],
          "scatterpolargl": [
           {
            "marker": {
             "colorbar": {
              "outlinewidth": 0,
              "ticks": ""
             }
            },
            "type": "scatterpolargl"
           }
          ],
          "scatterternary": [
           {
            "marker": {
             "colorbar": {
              "outlinewidth": 0,
              "ticks": ""
             }
            },
            "type": "scatterternary"
           }
          ],
          "surface": [
           {
            "colorbar": {
             "outlinewidth": 0,
             "ticks": ""
            },
            "colorscale": [
             [
              0,
              "#0d0887"
             ],
             [
              0.1111111111111111,
              "#46039f"
             ],
             [
              0.2222222222222222,
              "#7201a8"
             ],
             [
              0.3333333333333333,
              "#9c179e"
             ],
             [
              0.4444444444444444,
              "#bd3786"
             ],
             [
              0.5555555555555556,
              "#d8576b"
             ],
             [
              0.6666666666666666,
              "#ed7953"
             ],
             [
              0.7777777777777778,
              "#fb9f3a"
             ],
             [
              0.8888888888888888,
              "#fdca26"
             ],
             [
              1,
              "#f0f921"
             ]
            ],
            "type": "surface"
           }
          ],
          "table": [
           {
            "cells": {
             "fill": {
              "color": "#506784"
             },
             "line": {
              "color": "rgb(17,17,17)"
             }
            },
            "header": {
             "fill": {
              "color": "#2a3f5f"
             },
             "line": {
              "color": "rgb(17,17,17)"
             }
            },
            "type": "table"
           }
          ]
         },
         "layout": {
          "annotationdefaults": {
           "arrowcolor": "#f2f5fa",
           "arrowhead": 0,
           "arrowwidth": 1
          },
          "autotypenumbers": "strict",
          "coloraxis": {
           "colorbar": {
            "outlinewidth": 0,
            "ticks": ""
           }
          },
          "colorscale": {
           "diverging": [
            [
             0,
             "#8e0152"
            ],
            [
             0.1,
             "#c51b7d"
            ],
            [
             0.2,
             "#de77ae"
            ],
            [
             0.3,
             "#f1b6da"
            ],
            [
             0.4,
             "#fde0ef"
            ],
            [
             0.5,
             "#f7f7f7"
            ],
            [
             0.6,
             "#e6f5d0"
            ],
            [
             0.7,
             "#b8e186"
            ],
            [
             0.8,
             "#7fbc41"
            ],
            [
             0.9,
             "#4d9221"
            ],
            [
             1,
             "#276419"
            ]
           ],
           "sequential": [
            [
             0,
             "#0d0887"
            ],
            [
             0.1111111111111111,
             "#46039f"
            ],
            [
             0.2222222222222222,
             "#7201a8"
            ],
            [
             0.3333333333333333,
             "#9c179e"
            ],
            [
             0.4444444444444444,
             "#bd3786"
            ],
            [
             0.5555555555555556,
             "#d8576b"
            ],
            [
             0.6666666666666666,
             "#ed7953"
            ],
            [
             0.7777777777777778,
             "#fb9f3a"
            ],
            [
             0.8888888888888888,
             "#fdca26"
            ],
            [
             1,
             "#f0f921"
            ]
           ],
           "sequentialminus": [
            [
             0,
             "#0d0887"
            ],
            [
             0.1111111111111111,
             "#46039f"
            ],
            [
             0.2222222222222222,
             "#7201a8"
            ],
            [
             0.3333333333333333,
             "#9c179e"
            ],
            [
             0.4444444444444444,
             "#bd3786"
            ],
            [
             0.5555555555555556,
             "#d8576b"
            ],
            [
             0.6666666666666666,
             "#ed7953"
            ],
            [
             0.7777777777777778,
             "#fb9f3a"
            ],
            [
             0.8888888888888888,
             "#fdca26"
            ],
            [
             1,
             "#f0f921"
            ]
           ]
          },
          "colorway": [
           "#636efa",
           "#EF553B",
           "#00cc96",
           "#ab63fa",
           "#FFA15A",
           "#19d3f3",
           "#FF6692",
           "#B6E880",
           "#FF97FF",
           "#FECB52"
          ],
          "font": {
           "color": "#f2f5fa"
          },
          "geo": {
           "bgcolor": "rgb(17,17,17)",
           "lakecolor": "rgb(17,17,17)",
           "landcolor": "rgb(17,17,17)",
           "showlakes": true,
           "showland": true,
           "subunitcolor": "#506784"
          },
          "hoverlabel": {
           "align": "left"
          },
          "hovermode": "closest",
          "mapbox": {
           "style": "dark"
          },
          "paper_bgcolor": "rgb(17,17,17)",
          "plot_bgcolor": "rgb(17,17,17)",
          "polar": {
           "angularaxis": {
            "gridcolor": "#506784",
            "linecolor": "#506784",
            "ticks": ""
           },
           "bgcolor": "rgb(17,17,17)",
           "radialaxis": {
            "gridcolor": "#506784",
            "linecolor": "#506784",
            "ticks": ""
           }
          },
          "scene": {
           "xaxis": {
            "backgroundcolor": "rgb(17,17,17)",
            "gridcolor": "#506784",
            "gridwidth": 2,
            "linecolor": "#506784",
            "showbackground": true,
            "ticks": "",
            "zerolinecolor": "#C8D4E3"
           },
           "yaxis": {
            "backgroundcolor": "rgb(17,17,17)",
            "gridcolor": "#506784",
            "gridwidth": 2,
            "linecolor": "#506784",
            "showbackground": true,
            "ticks": "",
            "zerolinecolor": "#C8D4E3"
           },
           "zaxis": {
            "backgroundcolor": "rgb(17,17,17)",
            "gridcolor": "#506784",
            "gridwidth": 2,
            "linecolor": "#506784",
            "showbackground": true,
            "ticks": "",
            "zerolinecolor": "#C8D4E3"
           }
          },
          "shapedefaults": {
           "line": {
            "color": "#f2f5fa"
           }
          },
          "sliderdefaults": {
           "bgcolor": "#C8D4E3",
           "bordercolor": "rgb(17,17,17)",
           "borderwidth": 1,
           "tickwidth": 0
          },
          "ternary": {
           "aaxis": {
            "gridcolor": "#506784",
            "linecolor": "#506784",
            "ticks": ""
           },
           "baxis": {
            "gridcolor": "#506784",
            "linecolor": "#506784",
            "ticks": ""
           },
           "bgcolor": "rgb(17,17,17)",
           "caxis": {
            "gridcolor": "#506784",
            "linecolor": "#506784",
            "ticks": ""
           }
          },
          "title": {
           "x": 0.05
          },
          "updatemenudefaults": {
           "bgcolor": "#506784",
           "borderwidth": 0
          },
          "xaxis": {
           "automargin": true,
           "gridcolor": "#283442",
           "linecolor": "#506784",
           "ticks": "",
           "title": {
            "standoff": 15
           },
           "zerolinecolor": "#283442",
           "zerolinewidth": 2
          },
          "yaxis": {
           "automargin": true,
           "gridcolor": "#283442",
           "linecolor": "#506784",
           "ticks": "",
           "title": {
            "standoff": 15
           },
           "zerolinecolor": "#283442",
           "zerolinewidth": 2
          }
         }
        },
        "title": {
         "text": "3Mx10Y USD-SOFR-1D IRSwaption Smile"
        },
        "width": 1250,
        "xaxis": {
         "showspikes": true,
         "spikecolor": "white",
         "spikemode": "across",
         "spikesnap": "cursor",
         "title": {
          "text": "Strike Offset (bps)"
         }
        },
        "yaxis": {
         "showspikes": true,
         "spikecolor": "white",
         "spikesnap": "cursor",
         "spikethickness": 0.5,
         "title": {
          "text": "IRSWAPTION"
         }
        }
       }
      }
     },
     "metadata": {},
     "output_type": "display_data"
    }
   ],
   "source": [
    "usd_swaptions.vol_smile_plotter(dates=[datetime(2025, 4, 1), datetime(2025, 4, 7), datetime(2025, 5, 9)], tenor=\"3Mx10Y\", use_plotly=True)"
   ]
  },
  {
   "cell_type": "code",
   "execution_count": 48,
   "id": "20b95ea2",
   "metadata": {},
   "outputs": [
    {
     "name": "stderr",
     "output_type": "stream",
     "text": [
      "PLOTTING TERM STRUCTURE...: 100%|██████████| 3/3 [00:04<00:00,  1.38s/it]\n"
     ]
    },
    {
     "data": {
      "application/vnd.plotly.v1+json": {
       "config": {
        "plotlyServerURL": "https://plot.ly"
       },
       "data": [
        {
         "mode": "lines",
         "name": "2025-04-01 17:00:00 EDT - 1Y",
         "type": "scatter",
         "x": [
          12,
          24,
          36,
          48,
          60,
          72,
          84,
          96,
          108,
          120,
          180,
          240,
          360
         ],
         "y": [
          113.50273124467093,
          114.73011176072988,
          113.01271479215463,
          110.34499431830328,
          107.77712766240984,
          105.7963629402295,
          104.67366660040513,
          103.27533537315433,
          101.8439613360802,
          100.41811675466435,
          98.63837190492873,
          96.46538720438078,
          91.72926437792175
         ]
        },
        {
         "mode": "lines",
         "name": "2025-04-07 17:00:00 EDT - 1Y",
         "type": "scatter",
         "x": [
          12,
          24,
          36,
          48,
          60,
          72,
          84,
          96,
          108,
          120,
          180,
          240,
          360
         ],
         "y": [
          121.27557501480325,
          122.23705417230418,
          122.24825891216562,
          119.01530290658177,
          116.51579297119325,
          113.60688891440265,
          112.68836709691075,
          110.90835253826494,
          109.12496501179349,
          107.48088858336084,
          105.47893008802683,
          103.02155773874796,
          97.55417852986633
         ]
        },
        {
         "mode": "lines",
         "name": "2025-05-09 17:00:00 EDT - 1Y",
         "type": "scatter",
         "x": [
          12,
          24,
          36,
          48,
          60,
          72,
          84,
          96,
          108,
          120,
          180,
          240,
          360
         ],
         "y": [
          116.93834610899971,
          117.21794422685166,
          115.8765774445719,
          113.30870342917365,
          110.84868161183672,
          109.25287912238647,
          107.82719969069082,
          106.30673675431723,
          104.69976924921058,
          103.02405386935331,
          101.9705222530643,
          100.34409042360983,
          96.39206067941042
         ]
        }
       ],
       "layout": {
        "font": {
         "size": 11
        },
        "height": 750,
        "legend": {
         "orientation": "h",
         "title": {
          "text": "Curves:"
         },
         "x": 1,
         "xanchor": "right",
         "y": 1.02,
         "yanchor": "bottom"
        },
        "showlegend": true,
        "template": {
         "data": {
          "bar": [
           {
            "error_x": {
             "color": "#f2f5fa"
            },
            "error_y": {
             "color": "#f2f5fa"
            },
            "marker": {
             "line": {
              "color": "rgb(17,17,17)",
              "width": 0.5
             },
             "pattern": {
              "fillmode": "overlay",
              "size": 10,
              "solidity": 0.2
             }
            },
            "type": "bar"
           }
          ],
          "barpolar": [
           {
            "marker": {
             "line": {
              "color": "rgb(17,17,17)",
              "width": 0.5
             },
             "pattern": {
              "fillmode": "overlay",
              "size": 10,
              "solidity": 0.2
             }
            },
            "type": "barpolar"
           }
          ],
          "carpet": [
           {
            "aaxis": {
             "endlinecolor": "#A2B1C6",
             "gridcolor": "#506784",
             "linecolor": "#506784",
             "minorgridcolor": "#506784",
             "startlinecolor": "#A2B1C6"
            },
            "baxis": {
             "endlinecolor": "#A2B1C6",
             "gridcolor": "#506784",
             "linecolor": "#506784",
             "minorgridcolor": "#506784",
             "startlinecolor": "#A2B1C6"
            },
            "type": "carpet"
           }
          ],
          "choropleth": [
           {
            "colorbar": {
             "outlinewidth": 0,
             "ticks": ""
            },
            "type": "choropleth"
           }
          ],
          "contour": [
           {
            "colorbar": {
             "outlinewidth": 0,
             "ticks": ""
            },
            "colorscale": [
             [
              0,
              "#0d0887"
             ],
             [
              0.1111111111111111,
              "#46039f"
             ],
             [
              0.2222222222222222,
              "#7201a8"
             ],
             [
              0.3333333333333333,
              "#9c179e"
             ],
             [
              0.4444444444444444,
              "#bd3786"
             ],
             [
              0.5555555555555556,
              "#d8576b"
             ],
             [
              0.6666666666666666,
              "#ed7953"
             ],
             [
              0.7777777777777778,
              "#fb9f3a"
             ],
             [
              0.8888888888888888,
              "#fdca26"
             ],
             [
              1,
              "#f0f921"
             ]
            ],
            "type": "contour"
           }
          ],
          "contourcarpet": [
           {
            "colorbar": {
             "outlinewidth": 0,
             "ticks": ""
            },
            "type": "contourcarpet"
           }
          ],
          "heatmap": [
           {
            "colorbar": {
             "outlinewidth": 0,
             "ticks": ""
            },
            "colorscale": [
             [
              0,
              "#0d0887"
             ],
             [
              0.1111111111111111,
              "#46039f"
             ],
             [
              0.2222222222222222,
              "#7201a8"
             ],
             [
              0.3333333333333333,
              "#9c179e"
             ],
             [
              0.4444444444444444,
              "#bd3786"
             ],
             [
              0.5555555555555556,
              "#d8576b"
             ],
             [
              0.6666666666666666,
              "#ed7953"
             ],
             [
              0.7777777777777778,
              "#fb9f3a"
             ],
             [
              0.8888888888888888,
              "#fdca26"
             ],
             [
              1,
              "#f0f921"
             ]
            ],
            "type": "heatmap"
           }
          ],
          "heatmapgl": [
           {
            "colorbar": {
             "outlinewidth": 0,
             "ticks": ""
            },
            "colorscale": [
             [
              0,
              "#0d0887"
             ],
             [
              0.1111111111111111,
              "#46039f"
             ],
             [
              0.2222222222222222,
              "#7201a8"
             ],
             [
              0.3333333333333333,
              "#9c179e"
             ],
             [
              0.4444444444444444,
              "#bd3786"
             ],
             [
              0.5555555555555556,
              "#d8576b"
             ],
             [
              0.6666666666666666,
              "#ed7953"
             ],
             [
              0.7777777777777778,
              "#fb9f3a"
             ],
             [
              0.8888888888888888,
              "#fdca26"
             ],
             [
              1,
              "#f0f921"
             ]
            ],
            "type": "heatmapgl"
           }
          ],
          "histogram": [
           {
            "marker": {
             "pattern": {
              "fillmode": "overlay",
              "size": 10,
              "solidity": 0.2
             }
            },
            "type": "histogram"
           }
          ],
          "histogram2d": [
           {
            "colorbar": {
             "outlinewidth": 0,
             "ticks": ""
            },
            "colorscale": [
             [
              0,
              "#0d0887"
             ],
             [
              0.1111111111111111,
              "#46039f"
             ],
             [
              0.2222222222222222,
              "#7201a8"
             ],
             [
              0.3333333333333333,
              "#9c179e"
             ],
             [
              0.4444444444444444,
              "#bd3786"
             ],
             [
              0.5555555555555556,
              "#d8576b"
             ],
             [
              0.6666666666666666,
              "#ed7953"
             ],
             [
              0.7777777777777778,
              "#fb9f3a"
             ],
             [
              0.8888888888888888,
              "#fdca26"
             ],
             [
              1,
              "#f0f921"
             ]
            ],
            "type": "histogram2d"
           }
          ],
          "histogram2dcontour": [
           {
            "colorbar": {
             "outlinewidth": 0,
             "ticks": ""
            },
            "colorscale": [
             [
              0,
              "#0d0887"
             ],
             [
              0.1111111111111111,
              "#46039f"
             ],
             [
              0.2222222222222222,
              "#7201a8"
             ],
             [
              0.3333333333333333,
              "#9c179e"
             ],
             [
              0.4444444444444444,
              "#bd3786"
             ],
             [
              0.5555555555555556,
              "#d8576b"
             ],
             [
              0.6666666666666666,
              "#ed7953"
             ],
             [
              0.7777777777777778,
              "#fb9f3a"
             ],
             [
              0.8888888888888888,
              "#fdca26"
             ],
             [
              1,
              "#f0f921"
             ]
            ],
            "type": "histogram2dcontour"
           }
          ],
          "mesh3d": [
           {
            "colorbar": {
             "outlinewidth": 0,
             "ticks": ""
            },
            "type": "mesh3d"
           }
          ],
          "parcoords": [
           {
            "line": {
             "colorbar": {
              "outlinewidth": 0,
              "ticks": ""
             }
            },
            "type": "parcoords"
           }
          ],
          "pie": [
           {
            "automargin": true,
            "type": "pie"
           }
          ],
          "scatter": [
           {
            "marker": {
             "line": {
              "color": "#283442"
             }
            },
            "type": "scatter"
           }
          ],
          "scatter3d": [
           {
            "line": {
             "colorbar": {
              "outlinewidth": 0,
              "ticks": ""
             }
            },
            "marker": {
             "colorbar": {
              "outlinewidth": 0,
              "ticks": ""
             }
            },
            "type": "scatter3d"
           }
          ],
          "scattercarpet": [
           {
            "marker": {
             "colorbar": {
              "outlinewidth": 0,
              "ticks": ""
             }
            },
            "type": "scattercarpet"
           }
          ],
          "scattergeo": [
           {
            "marker": {
             "colorbar": {
              "outlinewidth": 0,
              "ticks": ""
             }
            },
            "type": "scattergeo"
           }
          ],
          "scattergl": [
           {
            "marker": {
             "line": {
              "color": "#283442"
             }
            },
            "type": "scattergl"
           }
          ],
          "scattermapbox": [
           {
            "marker": {
             "colorbar": {
              "outlinewidth": 0,
              "ticks": ""
             }
            },
            "type": "scattermapbox"
           }
          ],
          "scatterpolar": [
           {
            "marker": {
             "colorbar": {
              "outlinewidth": 0,
              "ticks": ""
             }
            },
            "type": "scatterpolar"
           }
          ],
          "scatterpolargl": [
           {
            "marker": {
             "colorbar": {
              "outlinewidth": 0,
              "ticks": ""
             }
            },
            "type": "scatterpolargl"
           }
          ],
          "scatterternary": [
           {
            "marker": {
             "colorbar": {
              "outlinewidth": 0,
              "ticks": ""
             }
            },
            "type": "scatterternary"
           }
          ],
          "surface": [
           {
            "colorbar": {
             "outlinewidth": 0,
             "ticks": ""
            },
            "colorscale": [
             [
              0,
              "#0d0887"
             ],
             [
              0.1111111111111111,
              "#46039f"
             ],
             [
              0.2222222222222222,
              "#7201a8"
             ],
             [
              0.3333333333333333,
              "#9c179e"
             ],
             [
              0.4444444444444444,
              "#bd3786"
             ],
             [
              0.5555555555555556,
              "#d8576b"
             ],
             [
              0.6666666666666666,
              "#ed7953"
             ],
             [
              0.7777777777777778,
              "#fb9f3a"
             ],
             [
              0.8888888888888888,
              "#fdca26"
             ],
             [
              1,
              "#f0f921"
             ]
            ],
            "type": "surface"
           }
          ],
          "table": [
           {
            "cells": {
             "fill": {
              "color": "#506784"
             },
             "line": {
              "color": "rgb(17,17,17)"
             }
            },
            "header": {
             "fill": {
              "color": "#2a3f5f"
             },
             "line": {
              "color": "rgb(17,17,17)"
             }
            },
            "type": "table"
           }
          ]
         },
         "layout": {
          "annotationdefaults": {
           "arrowcolor": "#f2f5fa",
           "arrowhead": 0,
           "arrowwidth": 1
          },
          "autotypenumbers": "strict",
          "coloraxis": {
           "colorbar": {
            "outlinewidth": 0,
            "ticks": ""
           }
          },
          "colorscale": {
           "diverging": [
            [
             0,
             "#8e0152"
            ],
            [
             0.1,
             "#c51b7d"
            ],
            [
             0.2,
             "#de77ae"
            ],
            [
             0.3,
             "#f1b6da"
            ],
            [
             0.4,
             "#fde0ef"
            ],
            [
             0.5,
             "#f7f7f7"
            ],
            [
             0.6,
             "#e6f5d0"
            ],
            [
             0.7,
             "#b8e186"
            ],
            [
             0.8,
             "#7fbc41"
            ],
            [
             0.9,
             "#4d9221"
            ],
            [
             1,
             "#276419"
            ]
           ],
           "sequential": [
            [
             0,
             "#0d0887"
            ],
            [
             0.1111111111111111,
             "#46039f"
            ],
            [
             0.2222222222222222,
             "#7201a8"
            ],
            [
             0.3333333333333333,
             "#9c179e"
            ],
            [
             0.4444444444444444,
             "#bd3786"
            ],
            [
             0.5555555555555556,
             "#d8576b"
            ],
            [
             0.6666666666666666,
             "#ed7953"
            ],
            [
             0.7777777777777778,
             "#fb9f3a"
            ],
            [
             0.8888888888888888,
             "#fdca26"
            ],
            [
             1,
             "#f0f921"
            ]
           ],
           "sequentialminus": [
            [
             0,
             "#0d0887"
            ],
            [
             0.1111111111111111,
             "#46039f"
            ],
            [
             0.2222222222222222,
             "#7201a8"
            ],
            [
             0.3333333333333333,
             "#9c179e"
            ],
            [
             0.4444444444444444,
             "#bd3786"
            ],
            [
             0.5555555555555556,
             "#d8576b"
            ],
            [
             0.6666666666666666,
             "#ed7953"
            ],
            [
             0.7777777777777778,
             "#fb9f3a"
            ],
            [
             0.8888888888888888,
             "#fdca26"
            ],
            [
             1,
             "#f0f921"
            ]
           ]
          },
          "colorway": [
           "#636efa",
           "#EF553B",
           "#00cc96",
           "#ab63fa",
           "#FFA15A",
           "#19d3f3",
           "#FF6692",
           "#B6E880",
           "#FF97FF",
           "#FECB52"
          ],
          "font": {
           "color": "#f2f5fa"
          },
          "geo": {
           "bgcolor": "rgb(17,17,17)",
           "lakecolor": "rgb(17,17,17)",
           "landcolor": "rgb(17,17,17)",
           "showlakes": true,
           "showland": true,
           "subunitcolor": "#506784"
          },
          "hoverlabel": {
           "align": "left"
          },
          "hovermode": "closest",
          "mapbox": {
           "style": "dark"
          },
          "paper_bgcolor": "rgb(17,17,17)",
          "plot_bgcolor": "rgb(17,17,17)",
          "polar": {
           "angularaxis": {
            "gridcolor": "#506784",
            "linecolor": "#506784",
            "ticks": ""
           },
           "bgcolor": "rgb(17,17,17)",
           "radialaxis": {
            "gridcolor": "#506784",
            "linecolor": "#506784",
            "ticks": ""
           }
          },
          "scene": {
           "xaxis": {
            "backgroundcolor": "rgb(17,17,17)",
            "gridcolor": "#506784",
            "gridwidth": 2,
            "linecolor": "#506784",
            "showbackground": true,
            "ticks": "",
            "zerolinecolor": "#C8D4E3"
           },
           "yaxis": {
            "backgroundcolor": "rgb(17,17,17)",
            "gridcolor": "#506784",
            "gridwidth": 2,
            "linecolor": "#506784",
            "showbackground": true,
            "ticks": "",
            "zerolinecolor": "#C8D4E3"
           },
           "zaxis": {
            "backgroundcolor": "rgb(17,17,17)",
            "gridcolor": "#506784",
            "gridwidth": 2,
            "linecolor": "#506784",
            "showbackground": true,
            "ticks": "",
            "zerolinecolor": "#C8D4E3"
           }
          },
          "shapedefaults": {
           "line": {
            "color": "#f2f5fa"
           }
          },
          "sliderdefaults": {
           "bgcolor": "#C8D4E3",
           "bordercolor": "rgb(17,17,17)",
           "borderwidth": 1,
           "tickwidth": 0
          },
          "ternary": {
           "aaxis": {
            "gridcolor": "#506784",
            "linecolor": "#506784",
            "ticks": ""
           },
           "baxis": {
            "gridcolor": "#506784",
            "linecolor": "#506784",
            "ticks": ""
           },
           "bgcolor": "rgb(17,17,17)",
           "caxis": {
            "gridcolor": "#506784",
            "linecolor": "#506784",
            "ticks": ""
           }
          },
          "title": {
           "x": 0.05
          },
          "updatemenudefaults": {
           "bgcolor": "#506784",
           "borderwidth": 0
          },
          "xaxis": {
           "automargin": true,
           "gridcolor": "#283442",
           "linecolor": "#506784",
           "ticks": "",
           "title": {
            "standoff": 15
           },
           "zerolinecolor": "#283442",
           "zerolinewidth": 2
          },
          "yaxis": {
           "automargin": true,
           "gridcolor": "#283442",
           "linecolor": "#506784",
           "ticks": "",
           "title": {
            "standoff": 15
           },
           "zerolinecolor": "#283442",
           "zerolinewidth": 2
          }
         }
        },
        "title": {
         "text": "ATMF+0 Term Structure for 1Y Expiry"
        },
        "xaxis": {
         "showgrid": true,
         "showspikes": true,
         "spikecolor": "white",
         "spikemode": "across",
         "spikesnap": "cursor",
         "ticktext": [
          "1Y",
          "2Y",
          "3Y",
          "4Y",
          "5Y",
          "6Y",
          "7Y",
          "8Y",
          "9Y",
          "10Y",
          "15Y",
          "20Y",
          "30Y"
         ],
         "tickvals": [
          12,
          24,
          36,
          48,
          60,
          72,
          84,
          96,
          108,
          120,
          180,
          240,
          360
         ],
         "title": {
          "text": "Tail"
         }
        },
        "yaxis": {
         "showgrid": true,
         "showspikes": true,
         "spikecolor": "white",
         "spikesnap": "cursor",
         "spikethickness": 0.5,
         "title": {
          "text": "IRSWAPTION"
         }
        }
       }
      }
     },
     "metadata": {},
     "output_type": "display_data"
    }
   ],
   "source": [
    "usd_swaptions.term_structure_plotter(dates=[datetime(2025, 4, 1), datetime(2025, 4, 7), datetime(2025, 5, 9)], expiry=\"1Y\")"
   ]
  },
  {
   "cell_type": "code",
   "execution_count": 49,
   "id": "7522b387",
   "metadata": {},
   "outputs": [
    {
     "name": "stderr",
     "output_type": "stream",
     "text": [
      "PLOTTING TERM STRUCTURE...: 100%|██████████| 3/3 [00:03<00:00,  1.22s/it]\n"
     ]
    },
    {
     "data": {
      "application/vnd.plotly.v1+json": {
       "config": {
        "plotlyServerURL": "https://plot.ly"
       },
       "data": [
        {
         "mode": "lines",
         "name": "2025-04-01 17:00:00 EDT - 10Y",
         "type": "scatter",
         "x": [
          1,
          3,
          6,
          9,
          12,
          24,
          36,
          48,
          60,
          72,
          84,
          96,
          108,
          120,
          180,
          240,
          360
         ],
         "y": [
          103.5017912888468,
          102.07024250153134,
          100.97033417001906,
          100.33321617040482,
          100.31869377373917,
          98.21064548417834,
          96.01465167382145,
          93.85682400036809,
          92.003071055729,
          90.20581205088668,
          88.38879101353731,
          86.64759549338615,
          84.90279547854254,
          83.15986200956482,
          78.62577128616245,
          77.61415053699963,
          78.4048765599769
         ]
        },
        {
         "mode": "lines",
         "name": "2025-04-07 17:00:00 EDT - 10Y",
         "type": "scatter",
         "x": [
          1,
          3,
          6,
          9,
          12,
          24,
          36,
          48,
          60,
          72,
          84,
          96,
          108,
          120,
          180,
          240,
          360
         ],
         "y": [
          130.72185131423146,
          117.79839264736341,
          111.06622998647875,
          108.77080029790905,
          107.76420493718312,
          103.71353994138516,
          100.52404947033826,
          98.03304755477605,
          95.99783051014676,
          94.07812069842414,
          92.13243336641447,
          90.27570668433253,
          88.4136528302938,
          86.5458417842969,
          81.60027651975955,
          80.28943162152547,
          80.58009748562607
         ]
        },
        {
         "mode": "lines",
         "name": "2025-05-09 17:00:00 EDT - 10Y",
         "type": "scatter",
         "x": [
          1,
          3,
          6,
          9,
          12,
          24,
          36,
          48,
          60,
          72,
          84,
          96,
          108,
          120,
          180,
          240,
          360
         ],
         "y": [
          102.4370369494643,
          103.66804366821393,
          103.58407255519424,
          103.23270662709068,
          102.86504870404771,
          100.9546799369248,
          99.00459350169511,
          97.31949744607171,
          95.61003937094415,
          93.66441655883688,
          91.73366040963887,
          89.82221774905075,
          87.94116637921593,
          86.09549808579587,
          81.09633213081612,
          79.94101572886865,
          80.1772333693389
         ]
        }
       ],
       "layout": {
        "font": {
         "size": 11
        },
        "height": 750,
        "legend": {
         "orientation": "h",
         "title": {
          "text": "Curves:"
         },
         "x": 1,
         "xanchor": "right",
         "y": 1.02,
         "yanchor": "bottom"
        },
        "showlegend": true,
        "template": {
         "data": {
          "bar": [
           {
            "error_x": {
             "color": "#f2f5fa"
            },
            "error_y": {
             "color": "#f2f5fa"
            },
            "marker": {
             "line": {
              "color": "rgb(17,17,17)",
              "width": 0.5
             },
             "pattern": {
              "fillmode": "overlay",
              "size": 10,
              "solidity": 0.2
             }
            },
            "type": "bar"
           }
          ],
          "barpolar": [
           {
            "marker": {
             "line": {
              "color": "rgb(17,17,17)",
              "width": 0.5
             },
             "pattern": {
              "fillmode": "overlay",
              "size": 10,
              "solidity": 0.2
             }
            },
            "type": "barpolar"
           }
          ],
          "carpet": [
           {
            "aaxis": {
             "endlinecolor": "#A2B1C6",
             "gridcolor": "#506784",
             "linecolor": "#506784",
             "minorgridcolor": "#506784",
             "startlinecolor": "#A2B1C6"
            },
            "baxis": {
             "endlinecolor": "#A2B1C6",
             "gridcolor": "#506784",
             "linecolor": "#506784",
             "minorgridcolor": "#506784",
             "startlinecolor": "#A2B1C6"
            },
            "type": "carpet"
           }
          ],
          "choropleth": [
           {
            "colorbar": {
             "outlinewidth": 0,
             "ticks": ""
            },
            "type": "choropleth"
           }
          ],
          "contour": [
           {
            "colorbar": {
             "outlinewidth": 0,
             "ticks": ""
            },
            "colorscale": [
             [
              0,
              "#0d0887"
             ],
             [
              0.1111111111111111,
              "#46039f"
             ],
             [
              0.2222222222222222,
              "#7201a8"
             ],
             [
              0.3333333333333333,
              "#9c179e"
             ],
             [
              0.4444444444444444,
              "#bd3786"
             ],
             [
              0.5555555555555556,
              "#d8576b"
             ],
             [
              0.6666666666666666,
              "#ed7953"
             ],
             [
              0.7777777777777778,
              "#fb9f3a"
             ],
             [
              0.8888888888888888,
              "#fdca26"
             ],
             [
              1,
              "#f0f921"
             ]
            ],
            "type": "contour"
           }
          ],
          "contourcarpet": [
           {
            "colorbar": {
             "outlinewidth": 0,
             "ticks": ""
            },
            "type": "contourcarpet"
           }
          ],
          "heatmap": [
           {
            "colorbar": {
             "outlinewidth": 0,
             "ticks": ""
            },
            "colorscale": [
             [
              0,
              "#0d0887"
             ],
             [
              0.1111111111111111,
              "#46039f"
             ],
             [
              0.2222222222222222,
              "#7201a8"
             ],
             [
              0.3333333333333333,
              "#9c179e"
             ],
             [
              0.4444444444444444,
              "#bd3786"
             ],
             [
              0.5555555555555556,
              "#d8576b"
             ],
             [
              0.6666666666666666,
              "#ed7953"
             ],
             [
              0.7777777777777778,
              "#fb9f3a"
             ],
             [
              0.8888888888888888,
              "#fdca26"
             ],
             [
              1,
              "#f0f921"
             ]
            ],
            "type": "heatmap"
           }
          ],
          "heatmapgl": [
           {
            "colorbar": {
             "outlinewidth": 0,
             "ticks": ""
            },
            "colorscale": [
             [
              0,
              "#0d0887"
             ],
             [
              0.1111111111111111,
              "#46039f"
             ],
             [
              0.2222222222222222,
              "#7201a8"
             ],
             [
              0.3333333333333333,
              "#9c179e"
             ],
             [
              0.4444444444444444,
              "#bd3786"
             ],
             [
              0.5555555555555556,
              "#d8576b"
             ],
             [
              0.6666666666666666,
              "#ed7953"
             ],
             [
              0.7777777777777778,
              "#fb9f3a"
             ],
             [
              0.8888888888888888,
              "#fdca26"
             ],
             [
              1,
              "#f0f921"
             ]
            ],
            "type": "heatmapgl"
           }
          ],
          "histogram": [
           {
            "marker": {
             "pattern": {
              "fillmode": "overlay",
              "size": 10,
              "solidity": 0.2
             }
            },
            "type": "histogram"
           }
          ],
          "histogram2d": [
           {
            "colorbar": {
             "outlinewidth": 0,
             "ticks": ""
            },
            "colorscale": [
             [
              0,
              "#0d0887"
             ],
             [
              0.1111111111111111,
              "#46039f"
             ],
             [
              0.2222222222222222,
              "#7201a8"
             ],
             [
              0.3333333333333333,
              "#9c179e"
             ],
             [
              0.4444444444444444,
              "#bd3786"
             ],
             [
              0.5555555555555556,
              "#d8576b"
             ],
             [
              0.6666666666666666,
              "#ed7953"
             ],
             [
              0.7777777777777778,
              "#fb9f3a"
             ],
             [
              0.8888888888888888,
              "#fdca26"
             ],
             [
              1,
              "#f0f921"
             ]
            ],
            "type": "histogram2d"
           }
          ],
          "histogram2dcontour": [
           {
            "colorbar": {
             "outlinewidth": 0,
             "ticks": ""
            },
            "colorscale": [
             [
              0,
              "#0d0887"
             ],
             [
              0.1111111111111111,
              "#46039f"
             ],
             [
              0.2222222222222222,
              "#7201a8"
             ],
             [
              0.3333333333333333,
              "#9c179e"
             ],
             [
              0.4444444444444444,
              "#bd3786"
             ],
             [
              0.5555555555555556,
              "#d8576b"
             ],
             [
              0.6666666666666666,
              "#ed7953"
             ],
             [
              0.7777777777777778,
              "#fb9f3a"
             ],
             [
              0.8888888888888888,
              "#fdca26"
             ],
             [
              1,
              "#f0f921"
             ]
            ],
            "type": "histogram2dcontour"
           }
          ],
          "mesh3d": [
           {
            "colorbar": {
             "outlinewidth": 0,
             "ticks": ""
            },
            "type": "mesh3d"
           }
          ],
          "parcoords": [
           {
            "line": {
             "colorbar": {
              "outlinewidth": 0,
              "ticks": ""
             }
            },
            "type": "parcoords"
           }
          ],
          "pie": [
           {
            "automargin": true,
            "type": "pie"
           }
          ],
          "scatter": [
           {
            "marker": {
             "line": {
              "color": "#283442"
             }
            },
            "type": "scatter"
           }
          ],
          "scatter3d": [
           {
            "line": {
             "colorbar": {
              "outlinewidth": 0,
              "ticks": ""
             }
            },
            "marker": {
             "colorbar": {
              "outlinewidth": 0,
              "ticks": ""
             }
            },
            "type": "scatter3d"
           }
          ],
          "scattercarpet": [
           {
            "marker": {
             "colorbar": {
              "outlinewidth": 0,
              "ticks": ""
             }
            },
            "type": "scattercarpet"
           }
          ],
          "scattergeo": [
           {
            "marker": {
             "colorbar": {
              "outlinewidth": 0,
              "ticks": ""
             }
            },
            "type": "scattergeo"
           }
          ],
          "scattergl": [
           {
            "marker": {
             "line": {
              "color": "#283442"
             }
            },
            "type": "scattergl"
           }
          ],
          "scattermapbox": [
           {
            "marker": {
             "colorbar": {
              "outlinewidth": 0,
              "ticks": ""
             }
            },
            "type": "scattermapbox"
           }
          ],
          "scatterpolar": [
           {
            "marker": {
             "colorbar": {
              "outlinewidth": 0,
              "ticks": ""
             }
            },
            "type": "scatterpolar"
           }
          ],
          "scatterpolargl": [
           {
            "marker": {
             "colorbar": {
              "outlinewidth": 0,
              "ticks": ""
             }
            },
            "type": "scatterpolargl"
           }
          ],
          "scatterternary": [
           {
            "marker": {
             "colorbar": {
              "outlinewidth": 0,
              "ticks": ""
             }
            },
            "type": "scatterternary"
           }
          ],
          "surface": [
           {
            "colorbar": {
             "outlinewidth": 0,
             "ticks": ""
            },
            "colorscale": [
             [
              0,
              "#0d0887"
             ],
             [
              0.1111111111111111,
              "#46039f"
             ],
             [
              0.2222222222222222,
              "#7201a8"
             ],
             [
              0.3333333333333333,
              "#9c179e"
             ],
             [
              0.4444444444444444,
              "#bd3786"
             ],
             [
              0.5555555555555556,
              "#d8576b"
             ],
             [
              0.6666666666666666,
              "#ed7953"
             ],
             [
              0.7777777777777778,
              "#fb9f3a"
             ],
             [
              0.8888888888888888,
              "#fdca26"
             ],
             [
              1,
              "#f0f921"
             ]
            ],
            "type": "surface"
           }
          ],
          "table": [
           {
            "cells": {
             "fill": {
              "color": "#506784"
             },
             "line": {
              "color": "rgb(17,17,17)"
             }
            },
            "header": {
             "fill": {
              "color": "#2a3f5f"
             },
             "line": {
              "color": "rgb(17,17,17)"
             }
            },
            "type": "table"
           }
          ]
         },
         "layout": {
          "annotationdefaults": {
           "arrowcolor": "#f2f5fa",
           "arrowhead": 0,
           "arrowwidth": 1
          },
          "autotypenumbers": "strict",
          "coloraxis": {
           "colorbar": {
            "outlinewidth": 0,
            "ticks": ""
           }
          },
          "colorscale": {
           "diverging": [
            [
             0,
             "#8e0152"
            ],
            [
             0.1,
             "#c51b7d"
            ],
            [
             0.2,
             "#de77ae"
            ],
            [
             0.3,
             "#f1b6da"
            ],
            [
             0.4,
             "#fde0ef"
            ],
            [
             0.5,
             "#f7f7f7"
            ],
            [
             0.6,
             "#e6f5d0"
            ],
            [
             0.7,
             "#b8e186"
            ],
            [
             0.8,
             "#7fbc41"
            ],
            [
             0.9,
             "#4d9221"
            ],
            [
             1,
             "#276419"
            ]
           ],
           "sequential": [
            [
             0,
             "#0d0887"
            ],
            [
             0.1111111111111111,
             "#46039f"
            ],
            [
             0.2222222222222222,
             "#7201a8"
            ],
            [
             0.3333333333333333,
             "#9c179e"
            ],
            [
             0.4444444444444444,
             "#bd3786"
            ],
            [
             0.5555555555555556,
             "#d8576b"
            ],
            [
             0.6666666666666666,
             "#ed7953"
            ],
            [
             0.7777777777777778,
             "#fb9f3a"
            ],
            [
             0.8888888888888888,
             "#fdca26"
            ],
            [
             1,
             "#f0f921"
            ]
           ],
           "sequentialminus": [
            [
             0,
             "#0d0887"
            ],
            [
             0.1111111111111111,
             "#46039f"
            ],
            [
             0.2222222222222222,
             "#7201a8"
            ],
            [
             0.3333333333333333,
             "#9c179e"
            ],
            [
             0.4444444444444444,
             "#bd3786"
            ],
            [
             0.5555555555555556,
             "#d8576b"
            ],
            [
             0.6666666666666666,
             "#ed7953"
            ],
            [
             0.7777777777777778,
             "#fb9f3a"
            ],
            [
             0.8888888888888888,
             "#fdca26"
            ],
            [
             1,
             "#f0f921"
            ]
           ]
          },
          "colorway": [
           "#636efa",
           "#EF553B",
           "#00cc96",
           "#ab63fa",
           "#FFA15A",
           "#19d3f3",
           "#FF6692",
           "#B6E880",
           "#FF97FF",
           "#FECB52"
          ],
          "font": {
           "color": "#f2f5fa"
          },
          "geo": {
           "bgcolor": "rgb(17,17,17)",
           "lakecolor": "rgb(17,17,17)",
           "landcolor": "rgb(17,17,17)",
           "showlakes": true,
           "showland": true,
           "subunitcolor": "#506784"
          },
          "hoverlabel": {
           "align": "left"
          },
          "hovermode": "closest",
          "mapbox": {
           "style": "dark"
          },
          "paper_bgcolor": "rgb(17,17,17)",
          "plot_bgcolor": "rgb(17,17,17)",
          "polar": {
           "angularaxis": {
            "gridcolor": "#506784",
            "linecolor": "#506784",
            "ticks": ""
           },
           "bgcolor": "rgb(17,17,17)",
           "radialaxis": {
            "gridcolor": "#506784",
            "linecolor": "#506784",
            "ticks": ""
           }
          },
          "scene": {
           "xaxis": {
            "backgroundcolor": "rgb(17,17,17)",
            "gridcolor": "#506784",
            "gridwidth": 2,
            "linecolor": "#506784",
            "showbackground": true,
            "ticks": "",
            "zerolinecolor": "#C8D4E3"
           },
           "yaxis": {
            "backgroundcolor": "rgb(17,17,17)",
            "gridcolor": "#506784",
            "gridwidth": 2,
            "linecolor": "#506784",
            "showbackground": true,
            "ticks": "",
            "zerolinecolor": "#C8D4E3"
           },
           "zaxis": {
            "backgroundcolor": "rgb(17,17,17)",
            "gridcolor": "#506784",
            "gridwidth": 2,
            "linecolor": "#506784",
            "showbackground": true,
            "ticks": "",
            "zerolinecolor": "#C8D4E3"
           }
          },
          "shapedefaults": {
           "line": {
            "color": "#f2f5fa"
           }
          },
          "sliderdefaults": {
           "bgcolor": "#C8D4E3",
           "bordercolor": "rgb(17,17,17)",
           "borderwidth": 1,
           "tickwidth": 0
          },
          "ternary": {
           "aaxis": {
            "gridcolor": "#506784",
            "linecolor": "#506784",
            "ticks": ""
           },
           "baxis": {
            "gridcolor": "#506784",
            "linecolor": "#506784",
            "ticks": ""
           },
           "bgcolor": "rgb(17,17,17)",
           "caxis": {
            "gridcolor": "#506784",
            "linecolor": "#506784",
            "ticks": ""
           }
          },
          "title": {
           "x": 0.05
          },
          "updatemenudefaults": {
           "bgcolor": "#506784",
           "borderwidth": 0
          },
          "xaxis": {
           "automargin": true,
           "gridcolor": "#283442",
           "linecolor": "#506784",
           "ticks": "",
           "title": {
            "standoff": 15
           },
           "zerolinecolor": "#283442",
           "zerolinewidth": 2
          },
          "yaxis": {
           "automargin": true,
           "gridcolor": "#283442",
           "linecolor": "#506784",
           "ticks": "",
           "title": {
            "standoff": 15
           },
           "zerolinecolor": "#283442",
           "zerolinewidth": 2
          }
         }
        },
        "title": {
         "text": "ATMF+0 Term Structure for 10Y Tail"
        },
        "xaxis": {
         "showgrid": true,
         "showspikes": true,
         "spikecolor": "white",
         "spikemode": "across",
         "spikesnap": "cursor",
         "ticktext": [
          "1M",
          "3M",
          "6M",
          "9M",
          "1Y",
          "2Y",
          "3Y",
          "4Y",
          "5Y",
          "6Y",
          "7Y",
          "8Y",
          "9Y",
          "10Y",
          "15Y",
          "20Y",
          "30Y"
         ],
         "tickvals": [
          1,
          3,
          6,
          9,
          12,
          24,
          36,
          48,
          60,
          72,
          84,
          96,
          108,
          120,
          180,
          240,
          360
         ],
         "title": {
          "text": "Expiry"
         }
        },
        "yaxis": {
         "showgrid": true,
         "showspikes": true,
         "spikecolor": "white",
         "spikesnap": "cursor",
         "spikethickness": 0.5,
         "title": {
          "text": "IRSWAPTION"
         }
        }
       }
      }
     },
     "metadata": {},
     "output_type": "display_data"
    }
   ],
   "source": [
    "usd_swaptions.term_structure_plotter(dates=[datetime(2025, 4, 1), datetime(2025, 4, 7), datetime(2025, 5, 9)], tail=\"10Y\")"
   ]
  },
  {
   "cell_type": "code",
   "execution_count": 50,
   "id": "7c65d8e0",
   "metadata": {},
   "outputs": [
    {
     "data": {
      "application/vnd.plotly.v1+json": {
       "config": {
        "plotlyServerURL": "https://plot.ly"
       },
       "data": [
        {
         "colorscale": [
          [
           0,
           "rgb(0,104,55)"
          ],
          [
           0.1,
           "rgb(26,152,80)"
          ],
          [
           0.2,
           "rgb(102,189,99)"
          ],
          [
           0.3,
           "rgb(166,217,106)"
          ],
          [
           0.4,
           "rgb(217,239,139)"
          ],
          [
           0.5,
           "rgb(255,255,191)"
          ],
          [
           0.6,
           "rgb(254,224,139)"
          ],
          [
           0.7,
           "rgb(253,174,97)"
          ],
          [
           0.8,
           "rgb(244,109,67)"
          ],
          [
           0.9,
           "rgb(215,48,39)"
          ],
          [
           1,
           "rgb(165,0,38)"
          ]
         ],
         "contours": {
          "z": {
           "highlightcolor": "limegreen",
           "project": {
            "z": true
           },
           "show": true,
           "usecolormap": true
          }
         },
         "hovertemplate": "Expiry: %{x}<br>Tail: %{y}<br>IRSWAPTION: %{z}<extra></extra>",
         "showscale": true,
         "type": "surface",
         "x": [
          [
           0,
           1,
           2,
           3,
           4,
           5,
           6,
           7,
           8,
           9,
           10,
           11,
           12,
           13,
           14,
           15,
           16
          ],
          [
           0,
           1,
           2,
           3,
           4,
           5,
           6,
           7,
           8,
           9,
           10,
           11,
           12,
           13,
           14,
           15,
           16
          ],
          [
           0,
           1,
           2,
           3,
           4,
           5,
           6,
           7,
           8,
           9,
           10,
           11,
           12,
           13,
           14,
           15,
           16
          ],
          [
           0,
           1,
           2,
           3,
           4,
           5,
           6,
           7,
           8,
           9,
           10,
           11,
           12,
           13,
           14,
           15,
           16
          ],
          [
           0,
           1,
           2,
           3,
           4,
           5,
           6,
           7,
           8,
           9,
           10,
           11,
           12,
           13,
           14,
           15,
           16
          ],
          [
           0,
           1,
           2,
           3,
           4,
           5,
           6,
           7,
           8,
           9,
           10,
           11,
           12,
           13,
           14,
           15,
           16
          ],
          [
           0,
           1,
           2,
           3,
           4,
           5,
           6,
           7,
           8,
           9,
           10,
           11,
           12,
           13,
           14,
           15,
           16
          ],
          [
           0,
           1,
           2,
           3,
           4,
           5,
           6,
           7,
           8,
           9,
           10,
           11,
           12,
           13,
           14,
           15,
           16
          ],
          [
           0,
           1,
           2,
           3,
           4,
           5,
           6,
           7,
           8,
           9,
           10,
           11,
           12,
           13,
           14,
           15,
           16
          ],
          [
           0,
           1,
           2,
           3,
           4,
           5,
           6,
           7,
           8,
           9,
           10,
           11,
           12,
           13,
           14,
           15,
           16
          ],
          [
           0,
           1,
           2,
           3,
           4,
           5,
           6,
           7,
           8,
           9,
           10,
           11,
           12,
           13,
           14,
           15,
           16
          ],
          [
           0,
           1,
           2,
           3,
           4,
           5,
           6,
           7,
           8,
           9,
           10,
           11,
           12,
           13,
           14,
           15,
           16
          ],
          [
           0,
           1,
           2,
           3,
           4,
           5,
           6,
           7,
           8,
           9,
           10,
           11,
           12,
           13,
           14,
           15,
           16
          ]
         ],
         "y": [
          [
           0,
           0,
           0,
           0,
           0,
           0,
           0,
           0,
           0,
           0,
           0,
           0,
           0,
           0,
           0,
           0,
           0
          ],
          [
           1,
           1,
           1,
           1,
           1,
           1,
           1,
           1,
           1,
           1,
           1,
           1,
           1,
           1,
           1,
           1,
           1
          ],
          [
           2,
           2,
           2,
           2,
           2,
           2,
           2,
           2,
           2,
           2,
           2,
           2,
           2,
           2,
           2,
           2,
           2
          ],
          [
           3,
           3,
           3,
           3,
           3,
           3,
           3,
           3,
           3,
           3,
           3,
           3,
           3,
           3,
           3,
           3,
           3
          ],
          [
           4,
           4,
           4,
           4,
           4,
           4,
           4,
           4,
           4,
           4,
           4,
           4,
           4,
           4,
           4,
           4,
           4
          ],
          [
           5,
           5,
           5,
           5,
           5,
           5,
           5,
           5,
           5,
           5,
           5,
           5,
           5,
           5,
           5,
           5,
           5
          ],
          [
           6,
           6,
           6,
           6,
           6,
           6,
           6,
           6,
           6,
           6,
           6,
           6,
           6,
           6,
           6,
           6,
           6
          ],
          [
           7,
           7,
           7,
           7,
           7,
           7,
           7,
           7,
           7,
           7,
           7,
           7,
           7,
           7,
           7,
           7,
           7
          ],
          [
           8,
           8,
           8,
           8,
           8,
           8,
           8,
           8,
           8,
           8,
           8,
           8,
           8,
           8,
           8,
           8,
           8
          ],
          [
           9,
           9,
           9,
           9,
           9,
           9,
           9,
           9,
           9,
           9,
           9,
           9,
           9,
           9,
           9,
           9,
           9
          ],
          [
           10,
           10,
           10,
           10,
           10,
           10,
           10,
           10,
           10,
           10,
           10,
           10,
           10,
           10,
           10,
           10,
           10
          ],
          [
           11,
           11,
           11,
           11,
           11,
           11,
           11,
           11,
           11,
           11,
           11,
           11,
           11,
           11,
           11,
           11,
           11
          ],
          [
           12,
           12,
           12,
           12,
           12,
           12,
           12,
           12,
           12,
           12,
           12,
           12,
           12,
           12,
           12,
           12,
           12
          ]
         ],
         "z": [
          [
           81.46159031112649,
           87.19362623069372,
           91.50334258992508,
           97.94571353561118,
           99.6909531052592,
           101.43619267490716,
           103.1814322445552,
           104.93145329247623,
           106.6766928621243,
           108.99999999999996,
           110.80406490738504,
           114.45520171665424,
           117.78884836859557,
           114.613946795318,
           109.3753591994102,
           99.53316432224996,
           88.73849897310637
          ],
          [
           79.7022605347394,
           85.32746577947844,
           89.55757639285291,
           95.88202751298078,
           97.59553545408974,
           99.30904339519869,
           101.02255133630769,
           102.74075381972104,
           104.45426176083004,
           105.99999999999996,
           109.3753591994102,
           113.02649600867932,
           117.31261313260391,
           116.0426525032929,
           114.29645663799036,
           112.39151569402378,
           108.10539857009914
          ],
          [
           79.4636048327044,
           84.9053231812242,
           88.99062290753733,
           95.08830211966138,
           96.7383468036923,
           98.38839148772313,
           100.03843617175396,
           101.69300152615205,
           103.34304621018288,
           104.99999999999996,
           107.78790841277146,
           111.28030014337666,
           115.7251623459652,
           114.93143695264578,
           114.29645663799036,
           113.66147632333482,
           109.69284935673797
          ],
          [
           79.62809561607123,
           84.75363016134901,
           88.58893664423667,
           94.29457672634204,
           95.8348174135738,
           97.37505810080548,
           98.9152987880372,
           100.45975931276824,
           101.99999999999996,
           103.99999999999996,
           105.99999999999996,
           108.99999999999996,
           113.00000000000004,
           113.00000000000004,
           111.99999999999996,
           110.03996638821856,
           108.7403788847547
          ],
          [
           78.71916651212182,
           83.87983848647914,
           87.74511485192487,
           93.50085133302262,
           95.05570113143636,
           96.61055092985002,
           98.16540072826368,
           99.7245103891388,
           101.27936018755253,
           103,
           104.93049699682172,
           108.10539857009914,
           110.96280998604894,
           110.96280998604894,
           110.96280998604894,
           110.96280998604894,
           107.78790841277146
          ],
          [
           78.78233736034069,
           83.65908137144226,
           87.3010152671772,
           92.70821174735492,
           94.16577073542464,
           95.6233297234945,
           97.08088871156434,
           98.5424410119302,
           100.00000000000004,
           101.00000000000004,
           103,
           104.99999999999996,
           106.99999999999996,
           106.99999999999996,
           106.99999999999996,
           106.4252112538288,
           106.04410132430232
          ],
          [
           76.88217013474033,
           82.11880365275432,
           86.04898437477964,
           91.91340054638393,
           93.49998197333662,
           95.08656340028936,
           96.67314482724215,
           98.26407305262488,
           99.8506544795777,
           101.43810526621638,
           103.0255560528552,
           105.40673223281324,
           107.62916333410752,
           107.62916333410752,
           107.47041825544368,
           107.47041825544368,
           104.2955166821662
          ],
          [
           75.61137089529433,
           81.01738734398599,
           85.08564451323596,
           91.17259017928576,
           92.8226348633167,
           94.45158308563384,
           96.03816451258662,
           97.6290927379694,
           99.21567416492212,
           100.62540351081095,
           102.1260006070932,
           104.24260165594488,
           106.2004576261327,
           106.09462757369008,
           105.93588249502626,
           105.88296746880488,
           102.81389594796998
          ],
          [
           74.88314303560784,
           80.28208875347921,
           84.346965742011,
           90.43177981218774,
           92.08182449621856,
           93.73186918024942,
           95.38191386428032,
           96.99411242331388,
           98.58069385026666,
           99.8127017554055,
           101.2264451613313,
           103.07847107907644,
           104.77175191815776,
           104.56009181327263,
           104.40134673460872,
           104.29551668216612,
           101.33227521377384
          ],
          [
           74.15510769718811,
           79.54687654792482,
           83.60832094764174,
           89.69096944508966,
           91.34101412912052,
           92.99105881315134,
           94.64110349718224,
           96.29566885158032,
           97.94571353561118,
           99,
           100.3268897155693,
           101.91434050220803,
           103.34304621018288,
           103.0255560528552,
           102.86681097419124,
           102.70806589552744,
           99.8506544795777
          ],
          [
           77.80456532886647,
           81.48352225749018,
           84.19867909174404,
           88.18227186380034,
           89.24680854379959,
           90.31134522379888,
           91.52593956689664,
           92.89557206505113,
           94.26146239791,
           95.627352730769,
           96.99324306362792,
           98.58069385026666,
           100.16814463690535,
           100.3268897155693,
           99.31328451365972,
           98.29967931175022,
           97.62761499309278
          ],
          [
           76.30876258660517,
           79.98085958953175,
           82.69280060374489,
           86.67440006115433,
           87.73893674115365,
           88.80347342115287,
           89.86801010115218,
           90.93546332000074,
           92,
           94,
           94.77081196233364,
           96.1995176703085,
           97.15198814229176,
           97.78696845694724,
           98.2632036929389,
           97.94571353561118,
           95.40579227698916
          ],
          [
           69.3029403442582,
           74.28834031929938,
           78.04137491897315,
           83.65865645586237,
           85.18177462573699,
           86.70489279561161,
           88.22801096548628,
           89.75530206185371,
           91.2784202317284,
           92,
           93.65959641168656,
           95.08830211966138,
           95.564537355653,
           95.24704719832523,
           95.08830211966138,
           94.77081196233364,
           92.38963578237556
          ]
         ]
        }
       ],
       "layout": {
        "height": 750,
        "scene": {
         "aspectratio": {
          "x": 1,
          "y": 1,
          "z": 0.6
         },
         "xaxis": {
          "ticktext": [
           "30Y",
           "20Y",
           "15Y",
           "10Y",
           "9Y",
           "8Y",
           "7Y",
           "6Y",
           "5Y",
           "4Y",
           "3Y",
           "2Y",
           "1Y",
           "9M",
           "6M",
           "3M",
           "1M"
          ],
          "tickvals": [
           0,
           1,
           2,
           3,
           4,
           5,
           6,
           7,
           8,
           9,
           10,
           11,
           12,
           13,
           14,
           15,
           16
          ],
          "title": {
           "text": "Expiry"
          }
         },
         "yaxis": {
          "ticktext": [
           "1Y",
           "2Y",
           "3Y",
           "4Y",
           "5Y",
           "6Y",
           "7Y",
           "8Y",
           "9Y",
           "10Y",
           "15Y",
           "20Y",
           "30Y"
          ],
          "tickvals": [
           0,
           1,
           2,
           3,
           4,
           5,
           6,
           7,
           8,
           9,
           10,
           11,
           12
          ],
          "title": {
           "text": "Tail"
          }
         },
         "zaxis": {
          "title": {
           "text": "IRSWAPTION"
          }
         }
        },
        "template": {
         "data": {
          "bar": [
           {
            "error_x": {
             "color": "#f2f5fa"
            },
            "error_y": {
             "color": "#f2f5fa"
            },
            "marker": {
             "line": {
              "color": "rgb(17,17,17)",
              "width": 0.5
             },
             "pattern": {
              "fillmode": "overlay",
              "size": 10,
              "solidity": 0.2
             }
            },
            "type": "bar"
           }
          ],
          "barpolar": [
           {
            "marker": {
             "line": {
              "color": "rgb(17,17,17)",
              "width": 0.5
             },
             "pattern": {
              "fillmode": "overlay",
              "size": 10,
              "solidity": 0.2
             }
            },
            "type": "barpolar"
           }
          ],
          "carpet": [
           {
            "aaxis": {
             "endlinecolor": "#A2B1C6",
             "gridcolor": "#506784",
             "linecolor": "#506784",
             "minorgridcolor": "#506784",
             "startlinecolor": "#A2B1C6"
            },
            "baxis": {
             "endlinecolor": "#A2B1C6",
             "gridcolor": "#506784",
             "linecolor": "#506784",
             "minorgridcolor": "#506784",
             "startlinecolor": "#A2B1C6"
            },
            "type": "carpet"
           }
          ],
          "choropleth": [
           {
            "colorbar": {
             "outlinewidth": 0,
             "ticks": ""
            },
            "type": "choropleth"
           }
          ],
          "contour": [
           {
            "colorbar": {
             "outlinewidth": 0,
             "ticks": ""
            },
            "colorscale": [
             [
              0,
              "#0d0887"
             ],
             [
              0.1111111111111111,
              "#46039f"
             ],
             [
              0.2222222222222222,
              "#7201a8"
             ],
             [
              0.3333333333333333,
              "#9c179e"
             ],
             [
              0.4444444444444444,
              "#bd3786"
             ],
             [
              0.5555555555555556,
              "#d8576b"
             ],
             [
              0.6666666666666666,
              "#ed7953"
             ],
             [
              0.7777777777777778,
              "#fb9f3a"
             ],
             [
              0.8888888888888888,
              "#fdca26"
             ],
             [
              1,
              "#f0f921"
             ]
            ],
            "type": "contour"
           }
          ],
          "contourcarpet": [
           {
            "colorbar": {
             "outlinewidth": 0,
             "ticks": ""
            },
            "type": "contourcarpet"
           }
          ],
          "heatmap": [
           {
            "colorbar": {
             "outlinewidth": 0,
             "ticks": ""
            },
            "colorscale": [
             [
              0,
              "#0d0887"
             ],
             [
              0.1111111111111111,
              "#46039f"
             ],
             [
              0.2222222222222222,
              "#7201a8"
             ],
             [
              0.3333333333333333,
              "#9c179e"
             ],
             [
              0.4444444444444444,
              "#bd3786"
             ],
             [
              0.5555555555555556,
              "#d8576b"
             ],
             [
              0.6666666666666666,
              "#ed7953"
             ],
             [
              0.7777777777777778,
              "#fb9f3a"
             ],
             [
              0.8888888888888888,
              "#fdca26"
             ],
             [
              1,
              "#f0f921"
             ]
            ],
            "type": "heatmap"
           }
          ],
          "heatmapgl": [
           {
            "colorbar": {
             "outlinewidth": 0,
             "ticks": ""
            },
            "colorscale": [
             [
              0,
              "#0d0887"
             ],
             [
              0.1111111111111111,
              "#46039f"
             ],
             [
              0.2222222222222222,
              "#7201a8"
             ],
             [
              0.3333333333333333,
              "#9c179e"
             ],
             [
              0.4444444444444444,
              "#bd3786"
             ],
             [
              0.5555555555555556,
              "#d8576b"
             ],
             [
              0.6666666666666666,
              "#ed7953"
             ],
             [
              0.7777777777777778,
              "#fb9f3a"
             ],
             [
              0.8888888888888888,
              "#fdca26"
             ],
             [
              1,
              "#f0f921"
             ]
            ],
            "type": "heatmapgl"
           }
          ],
          "histogram": [
           {
            "marker": {
             "pattern": {
              "fillmode": "overlay",
              "size": 10,
              "solidity": 0.2
             }
            },
            "type": "histogram"
           }
          ],
          "histogram2d": [
           {
            "colorbar": {
             "outlinewidth": 0,
             "ticks": ""
            },
            "colorscale": [
             [
              0,
              "#0d0887"
             ],
             [
              0.1111111111111111,
              "#46039f"
             ],
             [
              0.2222222222222222,
              "#7201a8"
             ],
             [
              0.3333333333333333,
              "#9c179e"
             ],
             [
              0.4444444444444444,
              "#bd3786"
             ],
             [
              0.5555555555555556,
              "#d8576b"
             ],
             [
              0.6666666666666666,
              "#ed7953"
             ],
             [
              0.7777777777777778,
              "#fb9f3a"
             ],
             [
              0.8888888888888888,
              "#fdca26"
             ],
             [
              1,
              "#f0f921"
             ]
            ],
            "type": "histogram2d"
           }
          ],
          "histogram2dcontour": [
           {
            "colorbar": {
             "outlinewidth": 0,
             "ticks": ""
            },
            "colorscale": [
             [
              0,
              "#0d0887"
             ],
             [
              0.1111111111111111,
              "#46039f"
             ],
             [
              0.2222222222222222,
              "#7201a8"
             ],
             [
              0.3333333333333333,
              "#9c179e"
             ],
             [
              0.4444444444444444,
              "#bd3786"
             ],
             [
              0.5555555555555556,
              "#d8576b"
             ],
             [
              0.6666666666666666,
              "#ed7953"
             ],
             [
              0.7777777777777778,
              "#fb9f3a"
             ],
             [
              0.8888888888888888,
              "#fdca26"
             ],
             [
              1,
              "#f0f921"
             ]
            ],
            "type": "histogram2dcontour"
           }
          ],
          "mesh3d": [
           {
            "colorbar": {
             "outlinewidth": 0,
             "ticks": ""
            },
            "type": "mesh3d"
           }
          ],
          "parcoords": [
           {
            "line": {
             "colorbar": {
              "outlinewidth": 0,
              "ticks": ""
             }
            },
            "type": "parcoords"
           }
          ],
          "pie": [
           {
            "automargin": true,
            "type": "pie"
           }
          ],
          "scatter": [
           {
            "marker": {
             "line": {
              "color": "#283442"
             }
            },
            "type": "scatter"
           }
          ],
          "scatter3d": [
           {
            "line": {
             "colorbar": {
              "outlinewidth": 0,
              "ticks": ""
             }
            },
            "marker": {
             "colorbar": {
              "outlinewidth": 0,
              "ticks": ""
             }
            },
            "type": "scatter3d"
           }
          ],
          "scattercarpet": [
           {
            "marker": {
             "colorbar": {
              "outlinewidth": 0,
              "ticks": ""
             }
            },
            "type": "scattercarpet"
           }
          ],
          "scattergeo": [
           {
            "marker": {
             "colorbar": {
              "outlinewidth": 0,
              "ticks": ""
             }
            },
            "type": "scattergeo"
           }
          ],
          "scattergl": [
           {
            "marker": {
             "line": {
              "color": "#283442"
             }
            },
            "type": "scattergl"
           }
          ],
          "scattermapbox": [
           {
            "marker": {
             "colorbar": {
              "outlinewidth": 0,
              "ticks": ""
             }
            },
            "type": "scattermapbox"
           }
          ],
          "scatterpolar": [
           {
            "marker": {
             "colorbar": {
              "outlinewidth": 0,
              "ticks": ""
             }
            },
            "type": "scatterpolar"
           }
          ],
          "scatterpolargl": [
           {
            "marker": {
             "colorbar": {
              "outlinewidth": 0,
              "ticks": ""
             }
            },
            "type": "scatterpolargl"
           }
          ],
          "scatterternary": [
           {
            "marker": {
             "colorbar": {
              "outlinewidth": 0,
              "ticks": ""
             }
            },
            "type": "scatterternary"
           }
          ],
          "surface": [
           {
            "colorbar": {
             "outlinewidth": 0,
             "ticks": ""
            },
            "colorscale": [
             [
              0,
              "#0d0887"
             ],
             [
              0.1111111111111111,
              "#46039f"
             ],
             [
              0.2222222222222222,
              "#7201a8"
             ],
             [
              0.3333333333333333,
              "#9c179e"
             ],
             [
              0.4444444444444444,
              "#bd3786"
             ],
             [
              0.5555555555555556,
              "#d8576b"
             ],
             [
              0.6666666666666666,
              "#ed7953"
             ],
             [
              0.7777777777777778,
              "#fb9f3a"
             ],
             [
              0.8888888888888888,
              "#fdca26"
             ],
             [
              1,
              "#f0f921"
             ]
            ],
            "type": "surface"
           }
          ],
          "table": [
           {
            "cells": {
             "fill": {
              "color": "#506784"
             },
             "line": {
              "color": "rgb(17,17,17)"
             }
            },
            "header": {
             "fill": {
              "color": "#2a3f5f"
             },
             "line": {
              "color": "rgb(17,17,17)"
             }
            },
            "type": "table"
           }
          ]
         },
         "layout": {
          "annotationdefaults": {
           "arrowcolor": "#f2f5fa",
           "arrowhead": 0,
           "arrowwidth": 1
          },
          "autotypenumbers": "strict",
          "coloraxis": {
           "colorbar": {
            "outlinewidth": 0,
            "ticks": ""
           }
          },
          "colorscale": {
           "diverging": [
            [
             0,
             "#8e0152"
            ],
            [
             0.1,
             "#c51b7d"
            ],
            [
             0.2,
             "#de77ae"
            ],
            [
             0.3,
             "#f1b6da"
            ],
            [
             0.4,
             "#fde0ef"
            ],
            [
             0.5,
             "#f7f7f7"
            ],
            [
             0.6,
             "#e6f5d0"
            ],
            [
             0.7,
             "#b8e186"
            ],
            [
             0.8,
             "#7fbc41"
            ],
            [
             0.9,
             "#4d9221"
            ],
            [
             1,
             "#276419"
            ]
           ],
           "sequential": [
            [
             0,
             "#0d0887"
            ],
            [
             0.1111111111111111,
             "#46039f"
            ],
            [
             0.2222222222222222,
             "#7201a8"
            ],
            [
             0.3333333333333333,
             "#9c179e"
            ],
            [
             0.4444444444444444,
             "#bd3786"
            ],
            [
             0.5555555555555556,
             "#d8576b"
            ],
            [
             0.6666666666666666,
             "#ed7953"
            ],
            [
             0.7777777777777778,
             "#fb9f3a"
            ],
            [
             0.8888888888888888,
             "#fdca26"
            ],
            [
             1,
             "#f0f921"
            ]
           ],
           "sequentialminus": [
            [
             0,
             "#0d0887"
            ],
            [
             0.1111111111111111,
             "#46039f"
            ],
            [
             0.2222222222222222,
             "#7201a8"
            ],
            [
             0.3333333333333333,
             "#9c179e"
            ],
            [
             0.4444444444444444,
             "#bd3786"
            ],
            [
             0.5555555555555556,
             "#d8576b"
            ],
            [
             0.6666666666666666,
             "#ed7953"
            ],
            [
             0.7777777777777778,
             "#fb9f3a"
            ],
            [
             0.8888888888888888,
             "#fdca26"
            ],
            [
             1,
             "#f0f921"
            ]
           ]
          },
          "colorway": [
           "#636efa",
           "#EF553B",
           "#00cc96",
           "#ab63fa",
           "#FFA15A",
           "#19d3f3",
           "#FF6692",
           "#B6E880",
           "#FF97FF",
           "#FECB52"
          ],
          "font": {
           "color": "#f2f5fa"
          },
          "geo": {
           "bgcolor": "rgb(17,17,17)",
           "lakecolor": "rgb(17,17,17)",
           "landcolor": "rgb(17,17,17)",
           "showlakes": true,
           "showland": true,
           "subunitcolor": "#506784"
          },
          "hoverlabel": {
           "align": "left"
          },
          "hovermode": "closest",
          "mapbox": {
           "style": "dark"
          },
          "paper_bgcolor": "rgb(17,17,17)",
          "plot_bgcolor": "rgb(17,17,17)",
          "polar": {
           "angularaxis": {
            "gridcolor": "#506784",
            "linecolor": "#506784",
            "ticks": ""
           },
           "bgcolor": "rgb(17,17,17)",
           "radialaxis": {
            "gridcolor": "#506784",
            "linecolor": "#506784",
            "ticks": ""
           }
          },
          "scene": {
           "xaxis": {
            "backgroundcolor": "rgb(17,17,17)",
            "gridcolor": "#506784",
            "gridwidth": 2,
            "linecolor": "#506784",
            "showbackground": true,
            "ticks": "",
            "zerolinecolor": "#C8D4E3"
           },
           "yaxis": {
            "backgroundcolor": "rgb(17,17,17)",
            "gridcolor": "#506784",
            "gridwidth": 2,
            "linecolor": "#506784",
            "showbackground": true,
            "ticks": "",
            "zerolinecolor": "#C8D4E3"
           },
           "zaxis": {
            "backgroundcolor": "rgb(17,17,17)",
            "gridcolor": "#506784",
            "gridwidth": 2,
            "linecolor": "#506784",
            "showbackground": true,
            "ticks": "",
            "zerolinecolor": "#C8D4E3"
           }
          },
          "shapedefaults": {
           "line": {
            "color": "#f2f5fa"
           }
          },
          "sliderdefaults": {
           "bgcolor": "#C8D4E3",
           "bordercolor": "rgb(17,17,17)",
           "borderwidth": 1,
           "tickwidth": 0
          },
          "ternary": {
           "aaxis": {
            "gridcolor": "#506784",
            "linecolor": "#506784",
            "ticks": ""
           },
           "baxis": {
            "gridcolor": "#506784",
            "linecolor": "#506784",
            "ticks": ""
           },
           "bgcolor": "rgb(17,17,17)",
           "caxis": {
            "gridcolor": "#506784",
            "linecolor": "#506784",
            "ticks": ""
           }
          },
          "title": {
           "x": 0.05
          },
          "updatemenudefaults": {
           "bgcolor": "#506784",
           "borderwidth": 0
          },
          "xaxis": {
           "automargin": true,
           "gridcolor": "#283442",
           "linecolor": "#506784",
           "ticks": "",
           "title": {
            "standoff": 15
           },
           "zerolinecolor": "#283442",
           "zerolinewidth": 2
          },
          "yaxis": {
           "automargin": true,
           "gridcolor": "#283442",
           "linecolor": "#506784",
           "ticks": "",
           "title": {
            "standoff": 15
           },
           "zerolinecolor": "#283442",
           "zerolinewidth": 2
          }
         }
        },
        "title": {
         "text": "2025-05-09 ATMF+0 Vol Grid"
        },
        "width": 1250,
        "xaxis": {
         "showspikes": true,
         "spikecolor": "white",
         "spikemode": "across",
         "spikesnap": "cursor"
        },
        "yaxis": {
         "showspikes": true,
         "spikecolor": "white",
         "spikesnap": "cursor",
         "spikethickness": 0.5
        }
       }
      }
     },
     "metadata": {},
     "output_type": "display_data"
    }
   ],
   "source": [
    "usd_swaptions.vol_surface_plotter(date=datetime(2025, 5, 9), strike_offset=0, use_plotly=True)"
   ]
  },
  {
   "cell_type": "code",
   "execution_count": 51,
   "id": "be03ab34",
   "metadata": {},
   "outputs": [
    {
     "data": {
      "application/vnd.plotly.v1+json": {
       "config": {
        "plotlyServerURL": "https://plot.ly"
       },
       "data": [
        {
         "colorscale": [
          [
           0,
           "rgb(0,104,55)"
          ],
          [
           0.1,
           "rgb(26,152,80)"
          ],
          [
           0.2,
           "rgb(102,189,99)"
          ],
          [
           0.3,
           "rgb(166,217,106)"
          ],
          [
           0.4,
           "rgb(217,239,139)"
          ],
          [
           0.5,
           "rgb(255,255,191)"
          ],
          [
           0.6,
           "rgb(254,224,139)"
          ],
          [
           0.7,
           "rgb(253,174,97)"
          ],
          [
           0.8,
           "rgb(244,109,67)"
          ],
          [
           0.9,
           "rgb(215,48,39)"
          ],
          [
           1,
           "rgb(165,0,38)"
          ]
         ],
         "contours": {
          "z": {
           "highlightcolor": "limegreen",
           "project": {
            "z": true
           },
           "show": true,
           "usecolormap": true
          }
         },
         "hovertemplate": "ATMF Strike Offsets: %{x}<br>Expiry: %{y}<br>IRSWAPTION: %{z}<extra></extra>",
         "showscale": true,
         "type": "surface",
         "x": [
          [
           0,
           1,
           2,
           3,
           4,
           5,
           6,
           7,
           8,
           9,
           10
          ],
          [
           0,
           1,
           2,
           3,
           4,
           5,
           6,
           7,
           8,
           9,
           10
          ],
          [
           0,
           1,
           2,
           3,
           4,
           5,
           6,
           7,
           8,
           9,
           10
          ],
          [
           0,
           1,
           2,
           3,
           4,
           5,
           6,
           7,
           8,
           9,
           10
          ],
          [
           0,
           1,
           2,
           3,
           4,
           5,
           6,
           7,
           8,
           9,
           10
          ],
          [
           0,
           1,
           2,
           3,
           4,
           5,
           6,
           7,
           8,
           9,
           10
          ],
          [
           0,
           1,
           2,
           3,
           4,
           5,
           6,
           7,
           8,
           9,
           10
          ],
          [
           0,
           1,
           2,
           3,
           4,
           5,
           6,
           7,
           8,
           9,
           10
          ],
          [
           0,
           1,
           2,
           3,
           4,
           5,
           6,
           7,
           8,
           9,
           10
          ],
          [
           0,
           1,
           2,
           3,
           4,
           5,
           6,
           7,
           8,
           9,
           10
          ],
          [
           0,
           1,
           2,
           3,
           4,
           5,
           6,
           7,
           8,
           9,
           10
          ],
          [
           0,
           1,
           2,
           3,
           4,
           5,
           6,
           7,
           8,
           9,
           10
          ],
          [
           0,
           1,
           2,
           3,
           4,
           5,
           6,
           7,
           8,
           9,
           10
          ],
          [
           0,
           1,
           2,
           3,
           4,
           5,
           6,
           7,
           8,
           9,
           10
          ],
          [
           0,
           1,
           2,
           3,
           4,
           5,
           6,
           7,
           8,
           9,
           10
          ],
          [
           0,
           1,
           2,
           3,
           4,
           5,
           6,
           7,
           8,
           9,
           10
          ],
          [
           0,
           1,
           2,
           3,
           4,
           5,
           6,
           7,
           8,
           9,
           10
          ]
         ],
         "y": [
          [
           0,
           0,
           0,
           0,
           0,
           0,
           0,
           0,
           0,
           0,
           0
          ],
          [
           1,
           1,
           1,
           1,
           1,
           1,
           1,
           1,
           1,
           1,
           1
          ],
          [
           2,
           2,
           2,
           2,
           2,
           2,
           2,
           2,
           2,
           2,
           2
          ],
          [
           3,
           3,
           3,
           3,
           3,
           3,
           3,
           3,
           3,
           3,
           3
          ],
          [
           4,
           4,
           4,
           4,
           4,
           4,
           4,
           4,
           4,
           4,
           4
          ],
          [
           5,
           5,
           5,
           5,
           5,
           5,
           5,
           5,
           5,
           5,
           5
          ],
          [
           6,
           6,
           6,
           6,
           6,
           6,
           6,
           6,
           6,
           6,
           6
          ],
          [
           7,
           7,
           7,
           7,
           7,
           7,
           7,
           7,
           7,
           7,
           7
          ],
          [
           8,
           8,
           8,
           8,
           8,
           8,
           8,
           8,
           8,
           8,
           8
          ],
          [
           9,
           9,
           9,
           9,
           9,
           9,
           9,
           9,
           9,
           9,
           9
          ],
          [
           10,
           10,
           10,
           10,
           10,
           10,
           10,
           10,
           10,
           10,
           10
          ],
          [
           11,
           11,
           11,
           11,
           11,
           11,
           11,
           11,
           11,
           11,
           11
          ],
          [
           12,
           12,
           12,
           12,
           12,
           12,
           12,
           12,
           12,
           12,
           12
          ],
          [
           13,
           13,
           13,
           13,
           13,
           13,
           13,
           13,
           13,
           13,
           13
          ],
          [
           14,
           14,
           14,
           14,
           14,
           14,
           14,
           14,
           14,
           14,
           14
          ],
          [
           15,
           15,
           15,
           15,
           15,
           15,
           15,
           15,
           15,
           15,
           15
          ],
          [
           16,
           16,
           16,
           16,
           16,
           16,
           16,
           16,
           16,
           16,
           16
          ]
         ],
         "z": [
          [
           171.46211837529822,
           151.26538363567255,
           130.6184312701207,
           111.95233587557318,
           105.13764072392988,
           99.8506544795777,
           102.13446087561614,
           106.94720786837324,
           125.27446622500491,
           148.63952003895417,
           173.1585410012387
          ],
          [
           140.17815949037788,
           129.9024533637184,
           118.70998139320126,
           108.38608808301694,
           104.63098092584872,
           102.70806589552744,
           103.18798249693153,
           106.13906429340078,
           117.43963672182744,
           132.377254854585,
           148.6213674946869
          ],
          [
           123.2914883963206,
           117.89198460387702,
           111.69467132929309,
           106.17316200940913,
           104.30941154642804,
           102.86681097419124,
           103.86494799199716,
           105.62730335323808,
           112.7048480611079,
           122.95575800595935,
           134.83261393592463
          ],
          [
           118.1937594136394,
           113.73571148924869,
           108.7376761431397,
           104.59823559200156,
           103.41379564034771,
           103.0255560528552,
           103.97803478596184,
           105.9565967466635,
           112.90960383069512,
           122.59367954863296,
           133.73864952195552
          ],
          [
           113.26226072387172,
           109.7149690196625,
           105.87710471305644,
           103.07466547081374,
           102.54738460077,
           103.34304621018288,
           104.08743396707996,
           106.27515231204252,
           113.10768278170887,
           122.24340799752376,
           132.680357860616
          ],
          [
           101.38926024506286,
           101.10564742063607,
           100.48562677370651,
           100.47670190544498,
           100.97168656580094,
           101.91434050220803,
           103.3551940938759,
           105.30837446960815,
           110.64530864734884,
           117.52436399744128,
           125.46305436192893
          ],
          [
           96.67615982168886,
           97.56407170202644,
           97.94570508898876,
           98.63910557756296,
           99.32343876794272,
           100.3268897155693,
           101.6959371173388,
           103.4530616679576,
           108.10538993284162,
           114.07036769369324,
           121.0164921527034
          ],
          [
           93.70667549641716,
           95.1287754534684,
           96.0407681784485,
           97.17859823716732,
           98.02472843287984,
           99,
           100.55362003933293,
           102.29760784545772,
           106.75606071034925,
           112.3587803936844,
           118.84502732082252
          ],
          [
           90.73719117114555,
           92.69347920491042,
           94.13583126790824,
           95.71809089677156,
           96.72601809781683,
           97.94571353561118,
           99.41130296132708,
           101.14215402295788,
           105.40673148785676,
           110.64719309367572,
           116.67356248894151
          ],
          [
           88.38719460272976,
           90.55138154810908,
           92.20019803933484,
           93.956623510456,
           95.02978479340908,
           96.29566885158032,
           97.78619828058012,
           99.5196900764646,
           103.7249462855788,
           108.83294141082168,
           114.67445313709668
          ],
          [
           86.03075968755122,
           88.40341513060419,
           90.25926170602564,
           92.1903301860958,
           93.32890427446884,
           94.64110349718224,
           96.15664125824216,
           97.89278102326874,
           102.03855345260958,
           107.01371917541194,
           112.66986677332903
          ],
          [
           83.68076311913549,
           86.26131747380288,
           88.32362847745222,
           90.42886279978018,
           91.63267097006108,
           92.99105881315134,
           94.53153657749522,
           96.27031707677553,
           100.35676825033156,
           105.199467492558,
           110.6707574214842
          ],
          [
           81.33076655071973,
           84.11921981700159,
           86.38799524887884,
           88.66739541346467,
           89.93643766565336,
           91.34101412912052,
           92.90643189674832,
           94.64785313028231,
           98.67498304805356,
           103.38521580970402,
           108.67164806963946
          ],
          [
           78.980769982304,
           81.97712216020024,
           84.45236202030542,
           86.90592802714913,
           88.2402043612456,
           89.69096944508966,
           91.28132721600142,
           93.02538918378916,
           96.99319784577555,
           101.57096412685009,
           106.67253871779468
          ],
          [
           70.54526734514357,
           74.22271423561665,
           77.39249765731924,
           80.44113659704956,
           81.99946562806007,
           83.60832094764174,
           85.28220646357961,
           87.0308859526016,
           90.7780234639698,
           94.8745302655746,
           99.3090908821718
          ],
          [
           65.11560270809953,
           69.1728885238094,
           72.74708136404064,
           76.15063777232439,
           77.84360690191298,
           79.54687654792482,
           81.26881093928561,
           83.0158629944941,
           86.61382155137058,
           90.39548680043112,
           94.39792006629256
          ],
          [
           58.16465762072019,
           62.63316365748036,
           66.66900303449907,
           70.48897971637173,
           72.34114618062615,
           74.15510769718811,
           75.93062832028392,
           77.66927781734988,
           81.06676114907826,
           84.43907593692322,
           87.88530671007783
          ]
         ]
        }
       ],
       "layout": {
        "height": 750,
        "scene": {
         "aspectratio": {
          "x": 1,
          "y": 1,
          "z": 0.6
         },
         "xaxis": {
          "ticktext": [
           -200,
           -150,
           -100,
           -50,
           -25,
           0,
           25,
           50,
           100,
           150,
           200
          ],
          "tickvals": [
           0,
           1,
           2,
           3,
           4,
           5,
           6,
           7,
           8,
           9,
           10
          ],
          "title": {
           "text": "ATMF Strike Offsets"
          }
         },
         "yaxis": {
          "ticktext": [
           "1M",
           "3M",
           "6M",
           "9M",
           "1Y",
           "2Y",
           "3Y",
           "4Y",
           "5Y",
           "6Y",
           "7Y",
           "8Y",
           "9Y",
           "10Y",
           "15Y",
           "20Y",
           "30Y"
          ],
          "tickvals": [
           0,
           1,
           2,
           3,
           4,
           5,
           6,
           7,
           8,
           9,
           10,
           11,
           12,
           13,
           14,
           15,
           16
          ],
          "title": {
           "text": "Expiry"
          }
         },
         "zaxis": {
          "title": {
           "text": "IRSWAPTION"
          }
         }
        },
        "template": {
         "data": {
          "bar": [
           {
            "error_x": {
             "color": "#f2f5fa"
            },
            "error_y": {
             "color": "#f2f5fa"
            },
            "marker": {
             "line": {
              "color": "rgb(17,17,17)",
              "width": 0.5
             },
             "pattern": {
              "fillmode": "overlay",
              "size": 10,
              "solidity": 0.2
             }
            },
            "type": "bar"
           }
          ],
          "barpolar": [
           {
            "marker": {
             "line": {
              "color": "rgb(17,17,17)",
              "width": 0.5
             },
             "pattern": {
              "fillmode": "overlay",
              "size": 10,
              "solidity": 0.2
             }
            },
            "type": "barpolar"
           }
          ],
          "carpet": [
           {
            "aaxis": {
             "endlinecolor": "#A2B1C6",
             "gridcolor": "#506784",
             "linecolor": "#506784",
             "minorgridcolor": "#506784",
             "startlinecolor": "#A2B1C6"
            },
            "baxis": {
             "endlinecolor": "#A2B1C6",
             "gridcolor": "#506784",
             "linecolor": "#506784",
             "minorgridcolor": "#506784",
             "startlinecolor": "#A2B1C6"
            },
            "type": "carpet"
           }
          ],
          "choropleth": [
           {
            "colorbar": {
             "outlinewidth": 0,
             "ticks": ""
            },
            "type": "choropleth"
           }
          ],
          "contour": [
           {
            "colorbar": {
             "outlinewidth": 0,
             "ticks": ""
            },
            "colorscale": [
             [
              0,
              "#0d0887"
             ],
             [
              0.1111111111111111,
              "#46039f"
             ],
             [
              0.2222222222222222,
              "#7201a8"
             ],
             [
              0.3333333333333333,
              "#9c179e"
             ],
             [
              0.4444444444444444,
              "#bd3786"
             ],
             [
              0.5555555555555556,
              "#d8576b"
             ],
             [
              0.6666666666666666,
              "#ed7953"
             ],
             [
              0.7777777777777778,
              "#fb9f3a"
             ],
             [
              0.8888888888888888,
              "#fdca26"
             ],
             [
              1,
              "#f0f921"
             ]
            ],
            "type": "contour"
           }
          ],
          "contourcarpet": [
           {
            "colorbar": {
             "outlinewidth": 0,
             "ticks": ""
            },
            "type": "contourcarpet"
           }
          ],
          "heatmap": [
           {
            "colorbar": {
             "outlinewidth": 0,
             "ticks": ""
            },
            "colorscale": [
             [
              0,
              "#0d0887"
             ],
             [
              0.1111111111111111,
              "#46039f"
             ],
             [
              0.2222222222222222,
              "#7201a8"
             ],
             [
              0.3333333333333333,
              "#9c179e"
             ],
             [
              0.4444444444444444,
              "#bd3786"
             ],
             [
              0.5555555555555556,
              "#d8576b"
             ],
             [
              0.6666666666666666,
              "#ed7953"
             ],
             [
              0.7777777777777778,
              "#fb9f3a"
             ],
             [
              0.8888888888888888,
              "#fdca26"
             ],
             [
              1,
              "#f0f921"
             ]
            ],
            "type": "heatmap"
           }
          ],
          "heatmapgl": [
           {
            "colorbar": {
             "outlinewidth": 0,
             "ticks": ""
            },
            "colorscale": [
             [
              0,
              "#0d0887"
             ],
             [
              0.1111111111111111,
              "#46039f"
             ],
             [
              0.2222222222222222,
              "#7201a8"
             ],
             [
              0.3333333333333333,
              "#9c179e"
             ],
             [
              0.4444444444444444,
              "#bd3786"
             ],
             [
              0.5555555555555556,
              "#d8576b"
             ],
             [
              0.6666666666666666,
              "#ed7953"
             ],
             [
              0.7777777777777778,
              "#fb9f3a"
             ],
             [
              0.8888888888888888,
              "#fdca26"
             ],
             [
              1,
              "#f0f921"
             ]
            ],
            "type": "heatmapgl"
           }
          ],
          "histogram": [
           {
            "marker": {
             "pattern": {
              "fillmode": "overlay",
              "size": 10,
              "solidity": 0.2
             }
            },
            "type": "histogram"
           }
          ],
          "histogram2d": [
           {
            "colorbar": {
             "outlinewidth": 0,
             "ticks": ""
            },
            "colorscale": [
             [
              0,
              "#0d0887"
             ],
             [
              0.1111111111111111,
              "#46039f"
             ],
             [
              0.2222222222222222,
              "#7201a8"
             ],
             [
              0.3333333333333333,
              "#9c179e"
             ],
             [
              0.4444444444444444,
              "#bd3786"
             ],
             [
              0.5555555555555556,
              "#d8576b"
             ],
             [
              0.6666666666666666,
              "#ed7953"
             ],
             [
              0.7777777777777778,
              "#fb9f3a"
             ],
             [
              0.8888888888888888,
              "#fdca26"
             ],
             [
              1,
              "#f0f921"
             ]
            ],
            "type": "histogram2d"
           }
          ],
          "histogram2dcontour": [
           {
            "colorbar": {
             "outlinewidth": 0,
             "ticks": ""
            },
            "colorscale": [
             [
              0,
              "#0d0887"
             ],
             [
              0.1111111111111111,
              "#46039f"
             ],
             [
              0.2222222222222222,
              "#7201a8"
             ],
             [
              0.3333333333333333,
              "#9c179e"
             ],
             [
              0.4444444444444444,
              "#bd3786"
             ],
             [
              0.5555555555555556,
              "#d8576b"
             ],
             [
              0.6666666666666666,
              "#ed7953"
             ],
             [
              0.7777777777777778,
              "#fb9f3a"
             ],
             [
              0.8888888888888888,
              "#fdca26"
             ],
             [
              1,
              "#f0f921"
             ]
            ],
            "type": "histogram2dcontour"
           }
          ],
          "mesh3d": [
           {
            "colorbar": {
             "outlinewidth": 0,
             "ticks": ""
            },
            "type": "mesh3d"
           }
          ],
          "parcoords": [
           {
            "line": {
             "colorbar": {
              "outlinewidth": 0,
              "ticks": ""
             }
            },
            "type": "parcoords"
           }
          ],
          "pie": [
           {
            "automargin": true,
            "type": "pie"
           }
          ],
          "scatter": [
           {
            "marker": {
             "line": {
              "color": "#283442"
             }
            },
            "type": "scatter"
           }
          ],
          "scatter3d": [
           {
            "line": {
             "colorbar": {
              "outlinewidth": 0,
              "ticks": ""
             }
            },
            "marker": {
             "colorbar": {
              "outlinewidth": 0,
              "ticks": ""
             }
            },
            "type": "scatter3d"
           }
          ],
          "scattercarpet": [
           {
            "marker": {
             "colorbar": {
              "outlinewidth": 0,
              "ticks": ""
             }
            },
            "type": "scattercarpet"
           }
          ],
          "scattergeo": [
           {
            "marker": {
             "colorbar": {
              "outlinewidth": 0,
              "ticks": ""
             }
            },
            "type": "scattergeo"
           }
          ],
          "scattergl": [
           {
            "marker": {
             "line": {
              "color": "#283442"
             }
            },
            "type": "scattergl"
           }
          ],
          "scattermapbox": [
           {
            "marker": {
             "colorbar": {
              "outlinewidth": 0,
              "ticks": ""
             }
            },
            "type": "scattermapbox"
           }
          ],
          "scatterpolar": [
           {
            "marker": {
             "colorbar": {
              "outlinewidth": 0,
              "ticks": ""
             }
            },
            "type": "scatterpolar"
           }
          ],
          "scatterpolargl": [
           {
            "marker": {
             "colorbar": {
              "outlinewidth": 0,
              "ticks": ""
             }
            },
            "type": "scatterpolargl"
           }
          ],
          "scatterternary": [
           {
            "marker": {
             "colorbar": {
              "outlinewidth": 0,
              "ticks": ""
             }
            },
            "type": "scatterternary"
           }
          ],
          "surface": [
           {
            "colorbar": {
             "outlinewidth": 0,
             "ticks": ""
            },
            "colorscale": [
             [
              0,
              "#0d0887"
             ],
             [
              0.1111111111111111,
              "#46039f"
             ],
             [
              0.2222222222222222,
              "#7201a8"
             ],
             [
              0.3333333333333333,
              "#9c179e"
             ],
             [
              0.4444444444444444,
              "#bd3786"
             ],
             [
              0.5555555555555556,
              "#d8576b"
             ],
             [
              0.6666666666666666,
              "#ed7953"
             ],
             [
              0.7777777777777778,
              "#fb9f3a"
             ],
             [
              0.8888888888888888,
              "#fdca26"
             ],
             [
              1,
              "#f0f921"
             ]
            ],
            "type": "surface"
           }
          ],
          "table": [
           {
            "cells": {
             "fill": {
              "color": "#506784"
             },
             "line": {
              "color": "rgb(17,17,17)"
             }
            },
            "header": {
             "fill": {
              "color": "#2a3f5f"
             },
             "line": {
              "color": "rgb(17,17,17)"
             }
            },
            "type": "table"
           }
          ]
         },
         "layout": {
          "annotationdefaults": {
           "arrowcolor": "#f2f5fa",
           "arrowhead": 0,
           "arrowwidth": 1
          },
          "autotypenumbers": "strict",
          "coloraxis": {
           "colorbar": {
            "outlinewidth": 0,
            "ticks": ""
           }
          },
          "colorscale": {
           "diverging": [
            [
             0,
             "#8e0152"
            ],
            [
             0.1,
             "#c51b7d"
            ],
            [
             0.2,
             "#de77ae"
            ],
            [
             0.3,
             "#f1b6da"
            ],
            [
             0.4,
             "#fde0ef"
            ],
            [
             0.5,
             "#f7f7f7"
            ],
            [
             0.6,
             "#e6f5d0"
            ],
            [
             0.7,
             "#b8e186"
            ],
            [
             0.8,
             "#7fbc41"
            ],
            [
             0.9,
             "#4d9221"
            ],
            [
             1,
             "#276419"
            ]
           ],
           "sequential": [
            [
             0,
             "#0d0887"
            ],
            [
             0.1111111111111111,
             "#46039f"
            ],
            [
             0.2222222222222222,
             "#7201a8"
            ],
            [
             0.3333333333333333,
             "#9c179e"
            ],
            [
             0.4444444444444444,
             "#bd3786"
            ],
            [
             0.5555555555555556,
             "#d8576b"
            ],
            [
             0.6666666666666666,
             "#ed7953"
            ],
            [
             0.7777777777777778,
             "#fb9f3a"
            ],
            [
             0.8888888888888888,
             "#fdca26"
            ],
            [
             1,
             "#f0f921"
            ]
           ],
           "sequentialminus": [
            [
             0,
             "#0d0887"
            ],
            [
             0.1111111111111111,
             "#46039f"
            ],
            [
             0.2222222222222222,
             "#7201a8"
            ],
            [
             0.3333333333333333,
             "#9c179e"
            ],
            [
             0.4444444444444444,
             "#bd3786"
            ],
            [
             0.5555555555555556,
             "#d8576b"
            ],
            [
             0.6666666666666666,
             "#ed7953"
            ],
            [
             0.7777777777777778,
             "#fb9f3a"
            ],
            [
             0.8888888888888888,
             "#fdca26"
            ],
            [
             1,
             "#f0f921"
            ]
           ]
          },
          "colorway": [
           "#636efa",
           "#EF553B",
           "#00cc96",
           "#ab63fa",
           "#FFA15A",
           "#19d3f3",
           "#FF6692",
           "#B6E880",
           "#FF97FF",
           "#FECB52"
          ],
          "font": {
           "color": "#f2f5fa"
          },
          "geo": {
           "bgcolor": "rgb(17,17,17)",
           "lakecolor": "rgb(17,17,17)",
           "landcolor": "rgb(17,17,17)",
           "showlakes": true,
           "showland": true,
           "subunitcolor": "#506784"
          },
          "hoverlabel": {
           "align": "left"
          },
          "hovermode": "closest",
          "mapbox": {
           "style": "dark"
          },
          "paper_bgcolor": "rgb(17,17,17)",
          "plot_bgcolor": "rgb(17,17,17)",
          "polar": {
           "angularaxis": {
            "gridcolor": "#506784",
            "linecolor": "#506784",
            "ticks": ""
           },
           "bgcolor": "rgb(17,17,17)",
           "radialaxis": {
            "gridcolor": "#506784",
            "linecolor": "#506784",
            "ticks": ""
           }
          },
          "scene": {
           "xaxis": {
            "backgroundcolor": "rgb(17,17,17)",
            "gridcolor": "#506784",
            "gridwidth": 2,
            "linecolor": "#506784",
            "showbackground": true,
            "ticks": "",
            "zerolinecolor": "#C8D4E3"
           },
           "yaxis": {
            "backgroundcolor": "rgb(17,17,17)",
            "gridcolor": "#506784",
            "gridwidth": 2,
            "linecolor": "#506784",
            "showbackground": true,
            "ticks": "",
            "zerolinecolor": "#C8D4E3"
           },
           "zaxis": {
            "backgroundcolor": "rgb(17,17,17)",
            "gridcolor": "#506784",
            "gridwidth": 2,
            "linecolor": "#506784",
            "showbackground": true,
            "ticks": "",
            "zerolinecolor": "#C8D4E3"
           }
          },
          "shapedefaults": {
           "line": {
            "color": "#f2f5fa"
           }
          },
          "sliderdefaults": {
           "bgcolor": "#C8D4E3",
           "bordercolor": "rgb(17,17,17)",
           "borderwidth": 1,
           "tickwidth": 0
          },
          "ternary": {
           "aaxis": {
            "gridcolor": "#506784",
            "linecolor": "#506784",
            "ticks": ""
           },
           "baxis": {
            "gridcolor": "#506784",
            "linecolor": "#506784",
            "ticks": ""
           },
           "bgcolor": "rgb(17,17,17)",
           "caxis": {
            "gridcolor": "#506784",
            "linecolor": "#506784",
            "ticks": ""
           }
          },
          "title": {
           "x": 0.05
          },
          "updatemenudefaults": {
           "bgcolor": "#506784",
           "borderwidth": 0
          },
          "xaxis": {
           "automargin": true,
           "gridcolor": "#283442",
           "linecolor": "#506784",
           "ticks": "",
           "title": {
            "standoff": 15
           },
           "zerolinecolor": "#283442",
           "zerolinewidth": 2
          },
          "yaxis": {
           "automargin": true,
           "gridcolor": "#283442",
           "linecolor": "#506784",
           "ticks": "",
           "title": {
            "standoff": 15
           },
           "zerolinecolor": "#283442",
           "zerolinewidth": 2
          }
         }
        },
        "title": {
         "text": "2025-05-09 10Y Tail, Expiry-Strike Vol Surface"
        },
        "width": 1250,
        "xaxis": {
         "showspikes": true,
         "spikecolor": "white",
         "spikemode": "across",
         "spikesnap": "cursor"
        },
        "yaxis": {
         "showspikes": true,
         "spikecolor": "white",
         "spikesnap": "cursor",
         "spikethickness": 0.5
        }
       }
      }
     },
     "metadata": {},
     "output_type": "display_data"
    }
   ],
   "source": [
    "usd_swaptions.vol_surface_plotter(date=datetime(2025, 5, 9), tail=\"10Y\", use_plotly=True)"
   ]
  },
  {
   "cell_type": "markdown",
   "id": "6432ce77",
   "metadata": {},
   "source": [
    "## Timeseries"
   ]
  },
  {
   "cell_type": "code",
   "execution_count": 7,
   "id": "8010da53",
   "metadata": {},
   "outputs": [
    {
     "name": "stderr",
     "output_type": "stream",
     "text": [
      "PRICING SWAPTIONS…: 0it [00:00, ?it/s]\n"
     ]
    },
    {
     "data": {
      "text/html": [
       "<div>\n",
       "<style scoped>\n",
       "    .dataframe tbody tr th:only-of-type {\n",
       "        vertical-align: middle;\n",
       "    }\n",
       "\n",
       "    .dataframe tbody tr th {\n",
       "        vertical-align: top;\n",
       "    }\n",
       "\n",
       "    .dataframe thead th {\n",
       "        text-align: right;\n",
       "    }\n",
       "</style>\n",
       "<table border=\"1\" class=\"dataframe\">\n",
       "  <thead>\n",
       "    <tr style=\"text-align: right;\">\n",
       "      <th></th>\n",
       "      <th>USD-SOFR-1D 3Mx10Y ATMF STRADDLE NVOL</th>\n",
       "    </tr>\n",
       "    <tr>\n",
       "      <th>Date</th>\n",
       "      <th></th>\n",
       "    </tr>\n",
       "  </thead>\n",
       "  <tbody>\n",
       "    <tr>\n",
       "      <th>2025-01-09 22:00:00+00:00</th>\n",
       "      <td>179.310143</td>\n",
       "    </tr>\n",
       "    <tr>\n",
       "      <th>2025-01-10 22:00:00+00:00</th>\n",
       "      <td>181.235537</td>\n",
       "    </tr>\n",
       "    <tr>\n",
       "      <th>2025-01-13 22:00:00+00:00</th>\n",
       "      <td>182.043189</td>\n",
       "    </tr>\n",
       "    <tr>\n",
       "      <th>2025-01-14 22:00:00+00:00</th>\n",
       "      <td>182.112887</td>\n",
       "    </tr>\n",
       "    <tr>\n",
       "      <th>2025-01-15 22:00:00+00:00</th>\n",
       "      <td>179.873279</td>\n",
       "    </tr>\n",
       "    <tr>\n",
       "      <th>...</th>\n",
       "      <td>...</td>\n",
       "    </tr>\n",
       "    <tr>\n",
       "      <th>2025-05-05 21:00:00+00:00</th>\n",
       "      <td>177.968590</td>\n",
       "    </tr>\n",
       "    <tr>\n",
       "      <th>2025-05-06 21:00:00+00:00</th>\n",
       "      <td>175.776211</td>\n",
       "    </tr>\n",
       "    <tr>\n",
       "      <th>2025-05-07 21:00:00+00:00</th>\n",
       "      <td>174.130876</td>\n",
       "    </tr>\n",
       "    <tr>\n",
       "      <th>2025-05-08 21:00:00+00:00</th>\n",
       "      <td>177.297223</td>\n",
       "    </tr>\n",
       "    <tr>\n",
       "      <th>2025-05-09 21:00:00+00:00</th>\n",
       "      <td>178.481764</td>\n",
       "    </tr>\n",
       "  </tbody>\n",
       "</table>\n",
       "<p>84 rows × 1 columns</p>\n",
       "</div>"
      ],
      "text/plain": [
       "                           USD-SOFR-1D 3Mx10Y ATMF STRADDLE NVOL\n",
       "Date                                                            \n",
       "2025-01-09 22:00:00+00:00                             179.310143\n",
       "2025-01-10 22:00:00+00:00                             181.235537\n",
       "2025-01-13 22:00:00+00:00                             182.043189\n",
       "2025-01-14 22:00:00+00:00                             182.112887\n",
       "2025-01-15 22:00:00+00:00                             179.873279\n",
       "...                                                          ...\n",
       "2025-05-05 21:00:00+00:00                             177.968590\n",
       "2025-05-06 21:00:00+00:00                             175.776211\n",
       "2025-05-07 21:00:00+00:00                             174.130876\n",
       "2025-05-08 21:00:00+00:00                             177.297223\n",
       "2025-05-09 21:00:00+00:00                             178.481764\n",
       "\n",
       "[84 rows x 1 columns]"
      ]
     },
     "execution_count": 7,
     "metadata": {},
     "output_type": "execute_result"
    }
   ],
   "source": [
    "ts_df = usd_swaptions.timeseries_builder(\n",
    "    start_date=datetime(2025, 1, 9),\n",
    "    end_date=datetime(2025, 5, 9),\n",
    "    queries=[\n",
    "        IRSwaptionQuery(expiry=\"3M\", tail=\"10Y\", value=IRSwaptionValue.NVOL, structure=IRSwaptionStructure.STRADDLE, structure_kwargs={\"strike\": \"ATMF\"}),\n",
    "        # IRSwaptionQuery(expiry=\"1Y\", tail=\"10Y\", value=IRSwaptionValue.NVOL, structure=IRSwaptionStructure.STRADDLE, structure_kwargs={\"strike\": \"ATMF\"}),\n",
    "        # IRSwaptionQuery(expiry=\"3M\", tail=\"2Y\", value=IRSwaptionValue.NVOL, structure=IRSwaptionStructure.STRADDLE, structure_kwargs={\"strike\": \"ATMF\"}),\n",
    "        # IRSwaptionQuery(expiry=\"1Y\", tail=\"2Y\", value=IRSwaptionValue.NVOL, structure=IRSwaptionStructure.STRADDLE, structure_kwargs={\"strike\": \"ATMF\"}),\n",
    "        # IRSwaptionQuery(expiry=\"10Y\", tail=\"10Y\", value=IRSwaptionValue.NVOL, structure=IRSwaptionStructure.STRADDLE, structure_kwargs={\"strike\": \"ATMF\"}),\n",
    "    ],\n",
    "    n_jobs=-1,\n",
    ")\n",
    "\n",
    "ts_df"
   ]
  },
  {
   "cell_type": "code",
   "execution_count": 56,
   "id": "dd8b0169",
   "metadata": {},
   "outputs": [
    {
     "data": {
      "application/vnd.plotly.v1+json": {
       "config": {
        "modeBarButtonsToAdd": [
         "drawline",
         "drawopenpath",
         "drawclosedpath",
         "drawcircle",
         "drawrect",
         "eraseshape"
        ],
        "plotlyServerURL": "https://plot.ly"
       },
       "data": [
        {
         "hovertemplate": "%{x|%Y-%m-%d %H:%M:%S}<br>%{y}<extra></extra>",
         "mode": "lines",
         "name": "USD-SOFR-1D 3Mx10Y ATMF STRADDLE NVOL (lhs)",
         "type": "scatter",
         "x": [
          "2025-01-09T22:00:00+00:00",
          "2025-01-10T22:00:00+00:00",
          "2025-01-13T22:00:00+00:00",
          "2025-01-14T22:00:00+00:00",
          "2025-01-15T22:00:00+00:00",
          "2025-01-16T22:00:00+00:00",
          "2025-01-17T22:00:00+00:00",
          "2025-01-21T22:00:00+00:00",
          "2025-01-22T22:00:00+00:00",
          "2025-01-23T22:00:00+00:00",
          "2025-01-24T22:00:00+00:00",
          "2025-01-27T22:00:00+00:00",
          "2025-01-28T22:00:00+00:00",
          "2025-01-29T22:00:00+00:00",
          "2025-01-30T22:00:00+00:00",
          "2025-01-31T22:00:00+00:00",
          "2025-02-03T22:00:00+00:00",
          "2025-02-04T22:00:00+00:00",
          "2025-02-05T22:00:00+00:00",
          "2025-02-06T22:00:00+00:00",
          "2025-02-07T22:00:00+00:00",
          "2025-02-10T22:00:00+00:00",
          "2025-02-11T22:00:00+00:00",
          "2025-02-12T22:00:00+00:00",
          "2025-02-13T22:00:00+00:00",
          "2025-02-14T22:00:00+00:00",
          "2025-02-18T22:00:00+00:00",
          "2025-02-19T22:00:00+00:00",
          "2025-02-20T22:00:00+00:00",
          "2025-02-21T22:00:00+00:00",
          "2025-02-24T22:00:00+00:00",
          "2025-02-25T22:00:00+00:00",
          "2025-02-26T22:00:00+00:00",
          "2025-02-27T22:00:00+00:00",
          "2025-02-28T22:00:00+00:00",
          "2025-03-03T22:00:00+00:00",
          "2025-03-04T22:00:00+00:00",
          "2025-03-05T22:00:00+00:00",
          "2025-03-06T22:00:00+00:00",
          "2025-03-07T22:00:00+00:00",
          "2025-03-10T21:00:00+00:00",
          "2025-03-11T21:00:00+00:00",
          "2025-03-12T21:00:00+00:00",
          "2025-03-13T21:00:00+00:00",
          "2025-03-14T21:00:00+00:00",
          "2025-03-17T21:00:00+00:00",
          "2025-03-18T21:00:00+00:00",
          "2025-03-19T21:00:00+00:00",
          "2025-03-20T21:00:00+00:00",
          "2025-03-21T21:00:00+00:00",
          "2025-03-24T21:00:00+00:00",
          "2025-03-25T21:00:00+00:00",
          "2025-03-26T21:00:00+00:00",
          "2025-03-27T21:00:00+00:00",
          "2025-03-28T21:00:00+00:00",
          "2025-03-31T21:00:00+00:00",
          "2025-04-01T21:00:00+00:00",
          "2025-04-02T21:00:00+00:00",
          "2025-04-03T21:00:00+00:00",
          "2025-04-04T21:00:00+00:00",
          "2025-04-07T21:00:00+00:00",
          "2025-04-08T21:00:00+00:00",
          "2025-04-09T21:00:00+00:00",
          "2025-04-10T21:00:00+00:00",
          "2025-04-11T21:00:00+00:00",
          "2025-04-14T21:00:00+00:00",
          "2025-04-15T21:00:00+00:00",
          "2025-04-16T21:00:00+00:00",
          "2025-04-17T21:00:00+00:00",
          "2025-04-21T21:00:00+00:00",
          "2025-04-22T21:00:00+00:00",
          "2025-04-23T21:00:00+00:00",
          "2025-04-24T21:00:00+00:00",
          "2025-04-25T21:00:00+00:00",
          "2025-04-28T21:00:00+00:00",
          "2025-04-29T21:00:00+00:00",
          "2025-04-30T21:00:00+00:00",
          "2025-05-01T21:00:00+00:00",
          "2025-05-02T21:00:00+00:00",
          "2025-05-05T21:00:00+00:00",
          "2025-05-06T21:00:00+00:00",
          "2025-05-07T21:00:00+00:00",
          "2025-05-08T21:00:00+00:00",
          "2025-05-09T21:00:00+00:00"
         ],
         "y": [
          179.31014271878547,
          181.23553723402657,
          182.04318942520217,
          182.11288747864168,
          179.87327934248572,
          179.90448588209293,
          178.35914176041976,
          175.87064427349966,
          173.7087464439394,
          175.55859465466534,
          172.29395534637806,
          165.4642396162826,
          170.05175554493744,
          167.84680720489817,
          166.78762578376657,
          173.77639684838812,
          176.26607298315102,
          174.92384955135202,
          173.98887442954035,
          166.36629008675354,
          167.61557410253144,
          172.17383909747215,
          162.45695190828127,
          162.70988506100963,
          160.61231465171457,
          169.5270768550567,
          172.99549138026606,
          171.14593531923038,
          161.85342892300008,
          166.79641655633918,
          166.6378419674828,
          168.35188133540848,
          167.39649253613547,
          167.228040177025,
          170.15317230955225,
          167.1038615678186,
          166.9551712813147,
          169.08373917131635,
          170.53822494349782,
          170.3894172840611,
          174.05868028923402,
          178.0788422687117,
          177.98681782120462,
          177.26283881844333,
          178.26018459032974,
          176.62624705744796,
          175.04253070919833,
          173.76277221905514,
          173.53256351439543,
          179.32617962173686,
          182.73654697662272,
          181.2068228073414,
          182.77476137720578,
          183.69676538837132,
          180.64428324860071,
          181.94605430622929,
          179.7718622151513,
          180.66230501200033,
          176.73190099589,
          175.0696106783584,
          186.9652427429609,
          189.3117487887491,
          193.5969648903286,
          194.26025402868208,
          201.2772186771674,
          194.78650703416145,
          191.51863193758015,
          187.5641299495426,
          133.47010706109236,
          189.8774671422027,
          190.31220617590904,
          190.5197733128249,
          189.02786263877994,
          183.72768057849646,
          180.6520722581363,
          173.21551137139457,
          173.3473237787258,
          175.46354443399792,
          177.51776659159611,
          177.96858974005505,
          175.77621055644647,
          174.13087556430054,
          177.2972227715041,
          178.48176429063528
         ],
         "yaxis": "y"
        },
        {
         "hovertemplate": "%{x|%Y-%m-%d %H:%M:%S}<br>%{y}<extra></extra>",
         "mode": "lines",
         "name": "USD-SOFR-1D 3Mx2Y ATMF STRADDLE NVOL (lhs)",
         "type": "scatter",
         "x": [
          "2025-01-09T22:00:00+00:00",
          "2025-01-10T22:00:00+00:00",
          "2025-01-13T22:00:00+00:00",
          "2025-01-14T22:00:00+00:00",
          "2025-01-15T22:00:00+00:00",
          "2025-01-16T22:00:00+00:00",
          "2025-01-17T22:00:00+00:00",
          "2025-01-21T22:00:00+00:00",
          "2025-01-22T22:00:00+00:00",
          "2025-01-23T22:00:00+00:00",
          "2025-01-24T22:00:00+00:00",
          "2025-01-27T22:00:00+00:00",
          "2025-01-28T22:00:00+00:00",
          "2025-01-29T22:00:00+00:00",
          "2025-01-30T22:00:00+00:00",
          "2025-01-31T22:00:00+00:00",
          "2025-02-03T22:00:00+00:00",
          "2025-02-04T22:00:00+00:00",
          "2025-02-05T22:00:00+00:00",
          "2025-02-06T22:00:00+00:00",
          "2025-02-07T22:00:00+00:00",
          "2025-02-10T22:00:00+00:00",
          "2025-02-11T22:00:00+00:00",
          "2025-02-12T22:00:00+00:00",
          "2025-02-13T22:00:00+00:00",
          "2025-02-14T22:00:00+00:00",
          "2025-02-18T22:00:00+00:00",
          "2025-02-19T22:00:00+00:00",
          "2025-02-20T22:00:00+00:00",
          "2025-02-21T22:00:00+00:00",
          "2025-02-24T22:00:00+00:00",
          "2025-02-25T22:00:00+00:00",
          "2025-02-26T22:00:00+00:00",
          "2025-02-27T22:00:00+00:00",
          "2025-02-28T22:00:00+00:00",
          "2025-03-03T22:00:00+00:00",
          "2025-03-04T22:00:00+00:00",
          "2025-03-05T22:00:00+00:00",
          "2025-03-06T22:00:00+00:00",
          "2025-03-07T22:00:00+00:00",
          "2025-03-10T21:00:00+00:00",
          "2025-03-11T21:00:00+00:00",
          "2025-03-12T21:00:00+00:00",
          "2025-03-13T21:00:00+00:00",
          "2025-03-14T21:00:00+00:00",
          "2025-03-17T21:00:00+00:00",
          "2025-03-18T21:00:00+00:00",
          "2025-03-19T21:00:00+00:00",
          "2025-03-20T21:00:00+00:00",
          "2025-03-21T21:00:00+00:00",
          "2025-03-24T21:00:00+00:00",
          "2025-03-25T21:00:00+00:00",
          "2025-03-26T21:00:00+00:00",
          "2025-03-27T21:00:00+00:00",
          "2025-03-28T21:00:00+00:00",
          "2025-03-31T21:00:00+00:00",
          "2025-04-01T21:00:00+00:00",
          "2025-04-02T21:00:00+00:00",
          "2025-04-03T21:00:00+00:00",
          "2025-04-04T21:00:00+00:00",
          "2025-04-07T21:00:00+00:00",
          "2025-04-08T21:00:00+00:00",
          "2025-04-09T21:00:00+00:00",
          "2025-04-10T21:00:00+00:00",
          "2025-04-11T21:00:00+00:00",
          "2025-04-14T21:00:00+00:00",
          "2025-04-15T21:00:00+00:00",
          "2025-04-16T21:00:00+00:00",
          "2025-04-17T21:00:00+00:00",
          "2025-04-21T21:00:00+00:00",
          "2025-04-22T21:00:00+00:00",
          "2025-04-23T21:00:00+00:00",
          "2025-04-24T21:00:00+00:00",
          "2025-04-25T21:00:00+00:00",
          "2025-04-28T21:00:00+00:00",
          "2025-04-29T21:00:00+00:00",
          "2025-04-30T21:00:00+00:00",
          "2025-05-01T21:00:00+00:00",
          "2025-05-02T21:00:00+00:00",
          "2025-05-05T21:00:00+00:00",
          "2025-05-06T21:00:00+00:00",
          "2025-05-07T21:00:00+00:00",
          "2025-05-08T21:00:00+00:00",
          "2025-05-09T21:00:00+00:00"
         ],
         "y": [
          195.3598173093419,
          198.70026715482703,
          201.76668742162767,
          203.9363180084813,
          206.16529946219265,
          206.68997661231776,
          208.38404223585755,
          205.31186456366356,
          204.1279607611167,
          201.01551253923515,
          202.09133129156612,
          196.81591928558657,
          198.31585070796632,
          196.51402306774202,
          196.5742751462315,
          197.524071217495,
          200.9496580763705,
          200.27500394111289,
          200.5520974755799,
          199.75195610028095,
          201.76721371937577,
          196.55226275431798,
          197.96592918650282,
          201.36961755977424,
          197.28307049795163,
          194.65640089041355,
          193.80894448347888,
          193.96771580866192,
          194.2455208452866,
          191.7276176191118,
          191.60270936038378,
          192.89300451092492,
          190.6949874625262,
          193.78845729630706,
          194.8459646541781,
          188.6102007174096,
          189.6004418145696,
          189.81868024222587,
          192.28280128535667,
          193.35304744761638,
          192.97549493074757,
          198.24209841634385,
          195.9892830663065,
          195.08605743684805,
          197.7996287526119,
          193.92048903371713,
          193.49383624622607,
          189.69915914493922,
          190.18483527886505,
          193.67740140915888,
          195.76234847182909,
          194.12818819907022,
          196.18261090456573,
          196.43595305638163,
          196.57246416292224,
          197.950282808171,
          195.35936788954496,
          195.77077408214257,
          189.48866562192566,
          188.22216414205099,
          184.04030406812376,
          186.03530969245102,
          202.64499850179362,
          193.69354456833406,
          195.25427970130193,
          186.1975675233184,
          197.45698187426444,
          193.98585718800712,
          188.64585217802193,
          188.44187339630122,
          195.38587695040826,
          198.9251430423417,
          197.56166295935782,
          191.37668354805203,
          186.39973553719966,
          183.6521427176944,
          180.62822856806199,
          186.53672853900815,
          192.9972140461542,
          213.1062810954835,
          188.98316847124912,
          187.2643786480287,
          193.25873299007827,
          193.54695069779243
         ],
         "yaxis": "y"
        },
        {
         "hovertemplate": "%{x|%Y-%m-%d %H:%M:%S}<br>%{y}<extra></extra>",
         "mode": "lines",
         "name": "USD-SOFR-1D 1Yx10Y ATMF STRADDLE NVOL (lhs)",
         "type": "scatter",
         "x": [
          "2025-01-09T22:00:00+00:00",
          "2025-01-10T22:00:00+00:00",
          "2025-01-13T22:00:00+00:00",
          "2025-01-14T22:00:00+00:00",
          "2025-01-15T22:00:00+00:00",
          "2025-01-16T22:00:00+00:00",
          "2025-01-17T22:00:00+00:00",
          "2025-01-21T22:00:00+00:00",
          "2025-01-22T22:00:00+00:00",
          "2025-01-23T22:00:00+00:00",
          "2025-01-24T22:00:00+00:00",
          "2025-01-27T22:00:00+00:00",
          "2025-01-28T22:00:00+00:00",
          "2025-01-29T22:00:00+00:00",
          "2025-01-30T22:00:00+00:00",
          "2025-01-31T22:00:00+00:00",
          "2025-02-03T22:00:00+00:00",
          "2025-02-04T22:00:00+00:00",
          "2025-02-05T22:00:00+00:00",
          "2025-02-06T22:00:00+00:00",
          "2025-02-07T22:00:00+00:00",
          "2025-02-10T22:00:00+00:00",
          "2025-02-11T22:00:00+00:00",
          "2025-02-12T22:00:00+00:00",
          "2025-02-13T22:00:00+00:00",
          "2025-02-14T22:00:00+00:00",
          "2025-02-18T22:00:00+00:00",
          "2025-02-19T22:00:00+00:00",
          "2025-02-20T22:00:00+00:00",
          "2025-02-21T22:00:00+00:00",
          "2025-02-24T22:00:00+00:00",
          "2025-02-25T22:00:00+00:00",
          "2025-02-26T22:00:00+00:00",
          "2025-02-27T22:00:00+00:00",
          "2025-02-28T22:00:00+00:00",
          "2025-03-03T22:00:00+00:00",
          "2025-03-04T22:00:00+00:00",
          "2025-03-05T22:00:00+00:00",
          "2025-03-06T22:00:00+00:00",
          "2025-03-07T22:00:00+00:00",
          "2025-03-10T21:00:00+00:00",
          "2025-03-11T21:00:00+00:00",
          "2025-03-12T21:00:00+00:00",
          "2025-03-13T21:00:00+00:00",
          "2025-03-14T21:00:00+00:00",
          "2025-03-17T21:00:00+00:00",
          "2025-03-18T21:00:00+00:00",
          "2025-03-19T21:00:00+00:00",
          "2025-03-20T21:00:00+00:00",
          "2025-03-21T21:00:00+00:00",
          "2025-03-24T21:00:00+00:00",
          "2025-03-25T21:00:00+00:00",
          "2025-03-26T21:00:00+00:00",
          "2025-03-27T21:00:00+00:00",
          "2025-03-28T21:00:00+00:00",
          "2025-03-31T21:00:00+00:00",
          "2025-04-01T21:00:00+00:00",
          "2025-04-02T21:00:00+00:00",
          "2025-04-03T21:00:00+00:00",
          "2025-04-04T21:00:00+00:00",
          "2025-04-07T21:00:00+00:00",
          "2025-04-08T21:00:00+00:00",
          "2025-04-09T21:00:00+00:00",
          "2025-04-10T21:00:00+00:00",
          "2025-04-11T21:00:00+00:00",
          "2025-04-14T21:00:00+00:00",
          "2025-04-15T21:00:00+00:00",
          "2025-04-16T21:00:00+00:00",
          "2025-04-17T21:00:00+00:00",
          "2025-04-21T21:00:00+00:00",
          "2025-04-22T21:00:00+00:00",
          "2025-04-23T21:00:00+00:00",
          "2025-04-24T21:00:00+00:00",
          "2025-04-25T21:00:00+00:00",
          "2025-04-28T21:00:00+00:00",
          "2025-04-29T21:00:00+00:00",
          "2025-04-30T21:00:00+00:00",
          "2025-05-01T21:00:00+00:00",
          "2025-05-02T21:00:00+00:00",
          "2025-05-05T21:00:00+00:00",
          "2025-05-06T21:00:00+00:00",
          "2025-05-07T21:00:00+00:00",
          "2025-05-08T21:00:00+00:00",
          "2025-05-09T21:00:00+00:00"
         ],
         "y": [
          131.37629327739108,
          132.04595410707182,
          133.4949200251123,
          133.99037875696015,
          128.06935804124635,
          125.86840976598984,
          130.1535316299357,
          129.17900523894932,
          128.326849624877,
          126.03648621578033,
          129.22470520300052,
          127.5542962093726,
          127.14740643390125,
          126.4305662403069,
          126.1513035485808,
          123.568768430866,
          128.00795383474883,
          127.9726269767136,
          127.0460327915164,
          127.46836086184207,
          128.01476032421957,
          127.26747258755998,
          127.52487646452784,
          129.9846256565327,
          127.79430389833722,
          126.34296070188489,
          126.82045493722896,
          126.64805320692939,
          125.70933577586136,
          125.22077714398303,
          123.93885648008253,
          122.4592540376924,
          121.35475196558183,
          122.26821116057585,
          122.99013668850111,
          121.34337896530606,
          121.43996344970986,
          123.24306262551876,
          125.47379610635727,
          125.3432989260997,
          126.49813238799362,
          128.08553058160055,
          129.16889440139477,
          128.4204345353313,
          128.6709290957608,
          127.45742350780588,
          127.17371214679285,
          125.33017129799583,
          125.17608577765704,
          126.1243347559331,
          127.61666446890254,
          126.95567723013076,
          128.109412780674,
          128.98313249764223,
          127.38964949492072,
          126.50998267706152,
          125.91328882943243,
          126.21746642342738,
          123.95450750208448,
          123.43515553544368,
          130.2858464824567,
          131.58471638382488,
          132.83735363334478,
          133.33318365666992,
          136.5931598393849,
          132.88058060721036,
          130.83465197248728,
          128.55808065127454,
          128.6675598111329,
          130.87720762290718,
          132.29888016894955,
          131.72755663059073,
          131.19351450646823,
          127.87823348087217,
          126.65812049037353,
          123.00950157612402,
          123.71501307380669,
          124.78172170550255,
          126.50546963972464,
          127.00666225178846,
          126.55780886202604,
          124.46881702681023,
          126.66886280767646,
          127.17886981965238
         ],
         "yaxis": "y"
        },
        {
         "hovertemplate": "%{x|%Y-%m-%d %H:%M:%S}<br>%{y}<extra></extra>",
         "mode": "lines",
         "name": "USD-SOFR-1D 1Yx2Y ATMF STRADDLE NVOL (lhs)",
         "type": "scatter",
         "x": [
          "2025-01-09T22:00:00+00:00",
          "2025-01-10T22:00:00+00:00",
          "2025-01-13T22:00:00+00:00",
          "2025-01-14T22:00:00+00:00",
          "2025-01-15T22:00:00+00:00",
          "2025-01-16T22:00:00+00:00",
          "2025-01-17T22:00:00+00:00",
          "2025-01-21T22:00:00+00:00",
          "2025-01-22T22:00:00+00:00",
          "2025-01-23T22:00:00+00:00",
          "2025-01-24T22:00:00+00:00",
          "2025-01-27T22:00:00+00:00",
          "2025-01-28T22:00:00+00:00",
          "2025-01-29T22:00:00+00:00",
          "2025-01-30T22:00:00+00:00",
          "2025-01-31T22:00:00+00:00",
          "2025-02-03T22:00:00+00:00",
          "2025-02-04T22:00:00+00:00",
          "2025-02-05T22:00:00+00:00",
          "2025-02-06T22:00:00+00:00",
          "2025-02-07T22:00:00+00:00",
          "2025-02-10T22:00:00+00:00",
          "2025-02-11T22:00:00+00:00",
          "2025-02-12T22:00:00+00:00",
          "2025-02-13T22:00:00+00:00",
          "2025-02-14T22:00:00+00:00",
          "2025-02-18T22:00:00+00:00",
          "2025-02-19T22:00:00+00:00",
          "2025-02-20T22:00:00+00:00",
          "2025-02-21T22:00:00+00:00",
          "2025-02-24T22:00:00+00:00",
          "2025-02-25T22:00:00+00:00",
          "2025-02-26T22:00:00+00:00",
          "2025-02-27T22:00:00+00:00",
          "2025-02-28T22:00:00+00:00",
          "2025-03-03T22:00:00+00:00",
          "2025-03-04T22:00:00+00:00",
          "2025-03-05T22:00:00+00:00",
          "2025-03-06T22:00:00+00:00",
          "2025-03-07T22:00:00+00:00",
          "2025-03-10T21:00:00+00:00",
          "2025-03-11T21:00:00+00:00",
          "2025-03-12T21:00:00+00:00",
          "2025-03-13T21:00:00+00:00",
          "2025-03-14T21:00:00+00:00",
          "2025-03-17T21:00:00+00:00",
          "2025-03-18T21:00:00+00:00",
          "2025-03-19T21:00:00+00:00",
          "2025-03-20T21:00:00+00:00",
          "2025-03-21T21:00:00+00:00",
          "2025-03-24T21:00:00+00:00",
          "2025-03-25T21:00:00+00:00",
          "2025-03-26T21:00:00+00:00",
          "2025-03-27T21:00:00+00:00",
          "2025-03-28T21:00:00+00:00",
          "2025-03-31T21:00:00+00:00",
          "2025-04-01T21:00:00+00:00",
          "2025-04-02T21:00:00+00:00",
          "2025-04-03T21:00:00+00:00",
          "2025-04-04T21:00:00+00:00",
          "2025-04-07T21:00:00+00:00",
          "2025-04-08T21:00:00+00:00",
          "2025-04-09T21:00:00+00:00",
          "2025-04-10T21:00:00+00:00",
          "2025-04-11T21:00:00+00:00",
          "2025-04-14T21:00:00+00:00",
          "2025-04-15T21:00:00+00:00",
          "2025-04-16T21:00:00+00:00",
          "2025-04-17T21:00:00+00:00",
          "2025-04-21T21:00:00+00:00",
          "2025-04-22T21:00:00+00:00",
          "2025-04-23T21:00:00+00:00",
          "2025-04-24T21:00:00+00:00",
          "2025-04-25T21:00:00+00:00",
          "2025-04-28T21:00:00+00:00",
          "2025-04-29T21:00:00+00:00",
          "2025-04-30T21:00:00+00:00",
          "2025-05-01T21:00:00+00:00",
          "2025-05-02T21:00:00+00:00",
          "2025-05-05T21:00:00+00:00",
          "2025-05-06T21:00:00+00:00",
          "2025-05-07T21:00:00+00:00",
          "2025-05-08T21:00:00+00:00",
          "2025-05-09T21:00:00+00:00"
         ],
         "y": [
          149.9398489313924,
          151.57975573190416,
          156.73491878677328,
          157.03761097035252,
          150.89016531481377,
          148.51734983328222,
          150.2236485105439,
          148.79336762485687,
          147.80801467556688,
          137.18611841245286,
          145.86741524380602,
          143.82959239023606,
          143.4287310234499,
          142.71854398690348,
          141.21841677067977,
          134.2535133963063,
          144.5296793938283,
          143.82078143561267,
          143.31064290335146,
          143.8776045181183,
          144.55878651720502,
          141.9917644474633,
          142.066535158622,
          146.11534582587524,
          143.13852976863095,
          141.22970412293208,
          130.83625262050757,
          129.89820427830068,
          129.0562494332476,
          139.09922596279554,
          138.14392437857182,
          138.23794896126546,
          136.83171747146662,
          137.76148105414873,
          140.57227712865674,
          136.57804906707207,
          136.88774466209904,
          138.94044738499426,
          138.92050654822629,
          137.72913338854624,
          137.7112692583342,
          138.61489746072056,
          138.09702411365421,
          138.65043907198276,
          138.12342380672445,
          137.28601335892293,
          135.78527917740809,
          133.91241479888413,
          135.88838482658497,
          139.45615540878634,
          139.25049171118158,
          138.27491229234047,
          139.73536944041643,
          140.01149503791493,
          139.7074515041007,
          139.96419004730552,
          139.27862383180212,
          138.1202921163534,
          136.15464332135733,
          136.14617887815965,
          147.3899139988127,
          147.10375081118883,
          144.5048300746905,
          145.756917352916,
          150.09243953436945,
          145.6409596398519,
          134.71859405819063,
          134.3316656234804,
          132.04117197188305,
          135.48799416255332,
          137.30386814345394,
          139.7235066316007,
          139.5619529718728,
          136.5931699039678,
          135.9714657126341,
          135.75303182124557,
          136.29537670941772,
          137.1328240982358,
          139.0812249315579,
          139.8897675220582,
          137.58024856997466,
          134.56349356786808,
          137.60792822467576,
          137.59581572034747
         ],
         "yaxis": "y"
        }
       ],
       "layout": {
        "font": {
         "size": 11
        },
        "height": 750,
        "legend": {
         "orientation": "h",
         "title": {
          "text": "Tenors"
         },
         "x": 1,
         "xanchor": "right",
         "y": 1.02,
         "yanchor": "bottom"
        },
        "newshape": {
         "line": {
          "color": "red"
         }
        },
        "showlegend": true,
        "template": {
         "data": {
          "bar": [
           {
            "error_x": {
             "color": "#f2f5fa"
            },
            "error_y": {
             "color": "#f2f5fa"
            },
            "marker": {
             "line": {
              "color": "rgb(17,17,17)",
              "width": 0.5
             },
             "pattern": {
              "fillmode": "overlay",
              "size": 10,
              "solidity": 0.2
             }
            },
            "type": "bar"
           }
          ],
          "barpolar": [
           {
            "marker": {
             "line": {
              "color": "rgb(17,17,17)",
              "width": 0.5
             },
             "pattern": {
              "fillmode": "overlay",
              "size": 10,
              "solidity": 0.2
             }
            },
            "type": "barpolar"
           }
          ],
          "carpet": [
           {
            "aaxis": {
             "endlinecolor": "#A2B1C6",
             "gridcolor": "#506784",
             "linecolor": "#506784",
             "minorgridcolor": "#506784",
             "startlinecolor": "#A2B1C6"
            },
            "baxis": {
             "endlinecolor": "#A2B1C6",
             "gridcolor": "#506784",
             "linecolor": "#506784",
             "minorgridcolor": "#506784",
             "startlinecolor": "#A2B1C6"
            },
            "type": "carpet"
           }
          ],
          "choropleth": [
           {
            "colorbar": {
             "outlinewidth": 0,
             "ticks": ""
            },
            "type": "choropleth"
           }
          ],
          "contour": [
           {
            "colorbar": {
             "outlinewidth": 0,
             "ticks": ""
            },
            "colorscale": [
             [
              0,
              "#0d0887"
             ],
             [
              0.1111111111111111,
              "#46039f"
             ],
             [
              0.2222222222222222,
              "#7201a8"
             ],
             [
              0.3333333333333333,
              "#9c179e"
             ],
             [
              0.4444444444444444,
              "#bd3786"
             ],
             [
              0.5555555555555556,
              "#d8576b"
             ],
             [
              0.6666666666666666,
              "#ed7953"
             ],
             [
              0.7777777777777778,
              "#fb9f3a"
             ],
             [
              0.8888888888888888,
              "#fdca26"
             ],
             [
              1,
              "#f0f921"
             ]
            ],
            "type": "contour"
           }
          ],
          "contourcarpet": [
           {
            "colorbar": {
             "outlinewidth": 0,
             "ticks": ""
            },
            "type": "contourcarpet"
           }
          ],
          "heatmap": [
           {
            "colorbar": {
             "outlinewidth": 0,
             "ticks": ""
            },
            "colorscale": [
             [
              0,
              "#0d0887"
             ],
             [
              0.1111111111111111,
              "#46039f"
             ],
             [
              0.2222222222222222,
              "#7201a8"
             ],
             [
              0.3333333333333333,
              "#9c179e"
             ],
             [
              0.4444444444444444,
              "#bd3786"
             ],
             [
              0.5555555555555556,
              "#d8576b"
             ],
             [
              0.6666666666666666,
              "#ed7953"
             ],
             [
              0.7777777777777778,
              "#fb9f3a"
             ],
             [
              0.8888888888888888,
              "#fdca26"
             ],
             [
              1,
              "#f0f921"
             ]
            ],
            "type": "heatmap"
           }
          ],
          "heatmapgl": [
           {
            "colorbar": {
             "outlinewidth": 0,
             "ticks": ""
            },
            "colorscale": [
             [
              0,
              "#0d0887"
             ],
             [
              0.1111111111111111,
              "#46039f"
             ],
             [
              0.2222222222222222,
              "#7201a8"
             ],
             [
              0.3333333333333333,
              "#9c179e"
             ],
             [
              0.4444444444444444,
              "#bd3786"
             ],
             [
              0.5555555555555556,
              "#d8576b"
             ],
             [
              0.6666666666666666,
              "#ed7953"
             ],
             [
              0.7777777777777778,
              "#fb9f3a"
             ],
             [
              0.8888888888888888,
              "#fdca26"
             ],
             [
              1,
              "#f0f921"
             ]
            ],
            "type": "heatmapgl"
           }
          ],
          "histogram": [
           {
            "marker": {
             "pattern": {
              "fillmode": "overlay",
              "size": 10,
              "solidity": 0.2
             }
            },
            "type": "histogram"
           }
          ],
          "histogram2d": [
           {
            "colorbar": {
             "outlinewidth": 0,
             "ticks": ""
            },
            "colorscale": [
             [
              0,
              "#0d0887"
             ],
             [
              0.1111111111111111,
              "#46039f"
             ],
             [
              0.2222222222222222,
              "#7201a8"
             ],
             [
              0.3333333333333333,
              "#9c179e"
             ],
             [
              0.4444444444444444,
              "#bd3786"
             ],
             [
              0.5555555555555556,
              "#d8576b"
             ],
             [
              0.6666666666666666,
              "#ed7953"
             ],
             [
              0.7777777777777778,
              "#fb9f3a"
             ],
             [
              0.8888888888888888,
              "#fdca26"
             ],
             [
              1,
              "#f0f921"
             ]
            ],
            "type": "histogram2d"
           }
          ],
          "histogram2dcontour": [
           {
            "colorbar": {
             "outlinewidth": 0,
             "ticks": ""
            },
            "colorscale": [
             [
              0,
              "#0d0887"
             ],
             [
              0.1111111111111111,
              "#46039f"
             ],
             [
              0.2222222222222222,
              "#7201a8"
             ],
             [
              0.3333333333333333,
              "#9c179e"
             ],
             [
              0.4444444444444444,
              "#bd3786"
             ],
             [
              0.5555555555555556,
              "#d8576b"
             ],
             [
              0.6666666666666666,
              "#ed7953"
             ],
             [
              0.7777777777777778,
              "#fb9f3a"
             ],
             [
              0.8888888888888888,
              "#fdca26"
             ],
             [
              1,
              "#f0f921"
             ]
            ],
            "type": "histogram2dcontour"
           }
          ],
          "mesh3d": [
           {
            "colorbar": {
             "outlinewidth": 0,
             "ticks": ""
            },
            "type": "mesh3d"
           }
          ],
          "parcoords": [
           {
            "line": {
             "colorbar": {
              "outlinewidth": 0,
              "ticks": ""
             }
            },
            "type": "parcoords"
           }
          ],
          "pie": [
           {
            "automargin": true,
            "type": "pie"
           }
          ],
          "scatter": [
           {
            "marker": {
             "line": {
              "color": "#283442"
             }
            },
            "type": "scatter"
           }
          ],
          "scatter3d": [
           {
            "line": {
             "colorbar": {
              "outlinewidth": 0,
              "ticks": ""
             }
            },
            "marker": {
             "colorbar": {
              "outlinewidth": 0,
              "ticks": ""
             }
            },
            "type": "scatter3d"
           }
          ],
          "scattercarpet": [
           {
            "marker": {
             "colorbar": {
              "outlinewidth": 0,
              "ticks": ""
             }
            },
            "type": "scattercarpet"
           }
          ],
          "scattergeo": [
           {
            "marker": {
             "colorbar": {
              "outlinewidth": 0,
              "ticks": ""
             }
            },
            "type": "scattergeo"
           }
          ],
          "scattergl": [
           {
            "marker": {
             "line": {
              "color": "#283442"
             }
            },
            "type": "scattergl"
           }
          ],
          "scattermapbox": [
           {
            "marker": {
             "colorbar": {
              "outlinewidth": 0,
              "ticks": ""
             }
            },
            "type": "scattermapbox"
           }
          ],
          "scatterpolar": [
           {
            "marker": {
             "colorbar": {
              "outlinewidth": 0,
              "ticks": ""
             }
            },
            "type": "scatterpolar"
           }
          ],
          "scatterpolargl": [
           {
            "marker": {
             "colorbar": {
              "outlinewidth": 0,
              "ticks": ""
             }
            },
            "type": "scatterpolargl"
           }
          ],
          "scatterternary": [
           {
            "marker": {
             "colorbar": {
              "outlinewidth": 0,
              "ticks": ""
             }
            },
            "type": "scatterternary"
           }
          ],
          "surface": [
           {
            "colorbar": {
             "outlinewidth": 0,
             "ticks": ""
            },
            "colorscale": [
             [
              0,
              "#0d0887"
             ],
             [
              0.1111111111111111,
              "#46039f"
             ],
             [
              0.2222222222222222,
              "#7201a8"
             ],
             [
              0.3333333333333333,
              "#9c179e"
             ],
             [
              0.4444444444444444,
              "#bd3786"
             ],
             [
              0.5555555555555556,
              "#d8576b"
             ],
             [
              0.6666666666666666,
              "#ed7953"
             ],
             [
              0.7777777777777778,
              "#fb9f3a"
             ],
             [
              0.8888888888888888,
              "#fdca26"
             ],
             [
              1,
              "#f0f921"
             ]
            ],
            "type": "surface"
           }
          ],
          "table": [
           {
            "cells": {
             "fill": {
              "color": "#506784"
             },
             "line": {
              "color": "rgb(17,17,17)"
             }
            },
            "header": {
             "fill": {
              "color": "#2a3f5f"
             },
             "line": {
              "color": "rgb(17,17,17)"
             }
            },
            "type": "table"
           }
          ]
         },
         "layout": {
          "annotationdefaults": {
           "arrowcolor": "#f2f5fa",
           "arrowhead": 0,
           "arrowwidth": 1
          },
          "autotypenumbers": "strict",
          "coloraxis": {
           "colorbar": {
            "outlinewidth": 0,
            "ticks": ""
           }
          },
          "colorscale": {
           "diverging": [
            [
             0,
             "#8e0152"
            ],
            [
             0.1,
             "#c51b7d"
            ],
            [
             0.2,
             "#de77ae"
            ],
            [
             0.3,
             "#f1b6da"
            ],
            [
             0.4,
             "#fde0ef"
            ],
            [
             0.5,
             "#f7f7f7"
            ],
            [
             0.6,
             "#e6f5d0"
            ],
            [
             0.7,
             "#b8e186"
            ],
            [
             0.8,
             "#7fbc41"
            ],
            [
             0.9,
             "#4d9221"
            ],
            [
             1,
             "#276419"
            ]
           ],
           "sequential": [
            [
             0,
             "#0d0887"
            ],
            [
             0.1111111111111111,
             "#46039f"
            ],
            [
             0.2222222222222222,
             "#7201a8"
            ],
            [
             0.3333333333333333,
             "#9c179e"
            ],
            [
             0.4444444444444444,
             "#bd3786"
            ],
            [
             0.5555555555555556,
             "#d8576b"
            ],
            [
             0.6666666666666666,
             "#ed7953"
            ],
            [
             0.7777777777777778,
             "#fb9f3a"
            ],
            [
             0.8888888888888888,
             "#fdca26"
            ],
            [
             1,
             "#f0f921"
            ]
           ],
           "sequentialminus": [
            [
             0,
             "#0d0887"
            ],
            [
             0.1111111111111111,
             "#46039f"
            ],
            [
             0.2222222222222222,
             "#7201a8"
            ],
            [
             0.3333333333333333,
             "#9c179e"
            ],
            [
             0.4444444444444444,
             "#bd3786"
            ],
            [
             0.5555555555555556,
             "#d8576b"
            ],
            [
             0.6666666666666666,
             "#ed7953"
            ],
            [
             0.7777777777777778,
             "#fb9f3a"
            ],
            [
             0.8888888888888888,
             "#fdca26"
            ],
            [
             1,
             "#f0f921"
            ]
           ]
          },
          "colorway": [
           "#636efa",
           "#EF553B",
           "#00cc96",
           "#ab63fa",
           "#FFA15A",
           "#19d3f3",
           "#FF6692",
           "#B6E880",
           "#FF97FF",
           "#FECB52"
          ],
          "font": {
           "color": "#f2f5fa"
          },
          "geo": {
           "bgcolor": "rgb(17,17,17)",
           "lakecolor": "rgb(17,17,17)",
           "landcolor": "rgb(17,17,17)",
           "showlakes": true,
           "showland": true,
           "subunitcolor": "#506784"
          },
          "hoverlabel": {
           "align": "left"
          },
          "hovermode": "closest",
          "mapbox": {
           "style": "dark"
          },
          "paper_bgcolor": "rgb(17,17,17)",
          "plot_bgcolor": "rgb(17,17,17)",
          "polar": {
           "angularaxis": {
            "gridcolor": "#506784",
            "linecolor": "#506784",
            "ticks": ""
           },
           "bgcolor": "rgb(17,17,17)",
           "radialaxis": {
            "gridcolor": "#506784",
            "linecolor": "#506784",
            "ticks": ""
           }
          },
          "scene": {
           "xaxis": {
            "backgroundcolor": "rgb(17,17,17)",
            "gridcolor": "#506784",
            "gridwidth": 2,
            "linecolor": "#506784",
            "showbackground": true,
            "ticks": "",
            "zerolinecolor": "#C8D4E3"
           },
           "yaxis": {
            "backgroundcolor": "rgb(17,17,17)",
            "gridcolor": "#506784",
            "gridwidth": 2,
            "linecolor": "#506784",
            "showbackground": true,
            "ticks": "",
            "zerolinecolor": "#C8D4E3"
           },
           "zaxis": {
            "backgroundcolor": "rgb(17,17,17)",
            "gridcolor": "#506784",
            "gridwidth": 2,
            "linecolor": "#506784",
            "showbackground": true,
            "ticks": "",
            "zerolinecolor": "#C8D4E3"
           }
          },
          "shapedefaults": {
           "line": {
            "color": "#f2f5fa"
           }
          },
          "sliderdefaults": {
           "bgcolor": "#C8D4E3",
           "bordercolor": "rgb(17,17,17)",
           "borderwidth": 1,
           "tickwidth": 0
          },
          "ternary": {
           "aaxis": {
            "gridcolor": "#506784",
            "linecolor": "#506784",
            "ticks": ""
           },
           "baxis": {
            "gridcolor": "#506784",
            "linecolor": "#506784",
            "ticks": ""
           },
           "bgcolor": "rgb(17,17,17)",
           "caxis": {
            "gridcolor": "#506784",
            "linecolor": "#506784",
            "ticks": ""
           }
          },
          "title": {
           "x": 0.05
          },
          "updatemenudefaults": {
           "bgcolor": "#506784",
           "borderwidth": 0
          },
          "xaxis": {
           "automargin": true,
           "gridcolor": "#283442",
           "linecolor": "#506784",
           "ticks": "",
           "title": {
            "standoff": 15
           },
           "zerolinecolor": "#283442",
           "zerolinewidth": 2
          },
          "yaxis": {
           "automargin": true,
           "gridcolor": "#283442",
           "linecolor": "#506784",
           "ticks": "",
           "title": {
            "standoff": 15
           },
           "zerolinecolor": "#283442",
           "zerolinewidth": 2
          }
         }
        },
        "title": {
         "text": "USD-SOFR-1D 3Mx10Y ATMF STRADDLE NVOL, USD-SOFR-1D 3Mx2Y ATMF STRADDLE NVOL, USD-SOFR-1D 1Yx10Y ATMF STRADDLE NVOL, USD-SOFR-1D 1Yx2Y ATMF STRADDLE NVOL Timeseries "
        },
        "xaxis": {
         "showgrid": true,
         "showspikes": true,
         "spikecolor": "white",
         "spikemode": "across",
         "spikesnap": "cursor",
         "title": {
          "text": "Date"
         }
        },
        "yaxis": {
         "showgrid": true,
         "showspikes": true,
         "side": "left",
         "spikecolor": "white",
         "spikesnap": "cursor",
         "spikethickness": 0.5,
         "title": {
          "text": "USD-SOFR-1D 3Mx10Y ATMF STRADDLE NVOL, USD-SOFR-1D 3Mx2Y ATMF STRADDLE NVOL, USD-SOFR-1D 1Yx10Y ATMF STRADDLE NVOL, USD-SOFR-1D 1Yx2Y ATMF STRADDLE NVOL"
         }
        },
        "yaxis2": {
         "overlaying": "y",
         "showgrid": true,
         "showspikes": true,
         "side": "right",
         "spikecolor": "white",
         "spikesnap": "cursor",
         "spikethickness": 0.5,
         "title": {}
        }
       }
      }
     },
     "metadata": {},
     "output_type": "display_data"
    }
   ],
   "source": [
    "usd_swaptions.timeseries_df_plotter(\n",
    "    df=ts_df,\n",
    "    cols_to_plot=[\n",
    "        \"USD-SOFR-1D 3Mx10Y ATMF STRADDLE NVOL\",\n",
    "        \"USD-SOFR-1D 3Mx2Y ATMF STRADDLE NVOL\",\n",
    "        \"USD-SOFR-1D 1Yx10Y ATMF STRADDLE NVOL\",\n",
    "        \"USD-SOFR-1D 1Yx2Y ATMF STRADDLE NVOL\",\n",
    "    ],\n",
    "    use_plotly=True,\n",
    ")"
   ]
  },
  {
   "cell_type": "code",
   "execution_count": null,
   "id": "8c5a6edd",
   "metadata": {},
   "outputs": [],
   "source": []
  }
 ],
 "metadata": {
  "kernelspec": {
   "display_name": "Python 3",
   "language": "python",
   "name": "python3"
  },
  "language_info": {
   "codemirror_mode": {
    "name": "ipython",
    "version": 3
   },
   "file_extension": ".py",
   "mimetype": "text/x-python",
   "name": "python",
   "nbconvert_exporter": "python",
   "pygments_lexer": "ipython3",
   "version": "3.13.0"
  }
 },
 "nbformat": 4,
 "nbformat_minor": 5
}
