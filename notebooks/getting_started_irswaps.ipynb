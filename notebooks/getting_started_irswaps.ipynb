{
 "cells": [
  {
   "cell_type": "code",
   "execution_count": 1,
   "id": "ecade34f",
   "metadata": {},
   "outputs": [],
   "source": [
    "import sys\n",
    "sys.path.append(\"../\")\n",
    "\n",
    "import os\n",
    "from dotenv import dotenv_values\n",
    "env_path = os.path.join(os.getcwd(), \"../.env\")\n",
    "config = dotenv_values(env_path)"
   ]
  },
  {
   "cell_type": "code",
   "execution_count": 2,
   "id": "3e1f84f4",
   "metadata": {},
   "outputs": [
    {
     "name": "stdout",
     "output_type": "stream",
     "text": [
      "Unknown QuantLib backend 'quantlib_hehehehe'. Please set QL_BACKEND to 'quantlib', 'quantlib_risks' or 'quantlib_aadc' ... Using quantlib\n"
     ]
    }
   ],
   "source": [
    "%load_ext autoreload\n",
    "%autoreload 2\n",
    "%reload_ext autoreload\n",
    "\n",
    "import pandas as pd\n",
    "from core.utils.ql_loader import ql\n",
    "from datetime import datetime, timedelta\n",
    "from typing import List\n",
    "\n",
    "from core.IRSwaps import IRSwaps, IRSwapQuery, IRSwapValue, IRSwapStructure, IRSwapStructureFunctionMap, IRSwapValueFunctionMap\n",
    "from core.IRSwaptions import IRSwaptions, IRSwaptionQuery, IRSwaptionValue, IRSwaptionStructure, IRSwaptionStructureFunctionMap, IRSwaptionValueFunctionMap\n",
    "from core.DataFetching.FixingsFetcher import FixingsFetcher\n",
    "from core.utils.ql_utils import ql_date_to_datetime, datetime_to_ql_date\n",
    "\n",
    "import matplotlib.pyplot as plt\n",
    "import matplotlib.pylab as pylab\n",
    "import matplotlib.dates as mdates\n",
    "plt.style.use('ggplot')\n",
    "params = {'legend.fontsize': 'x-large',\n",
    "        'figure.figsize': (12, 8),\n",
    "        'axes.labelsize': 'x-large',\n",
    "        'axes.titlesize':'x-large',\n",
    "        'xtick.labelsize':'x-large',\n",
    "        'ytick.labelsize':'x-large'}\n",
    "pylab.rcParams.update(params)\n",
    "\n",
    "import nest_asyncio\n",
    "nest_asyncio.apply()"
   ]
  },
  {
   "cell_type": "code",
   "execution_count": 9,
   "id": "ddc4b1ce",
   "metadata": {},
   "outputs": [],
   "source": [
    "curve = \"USD-SOFR-1D\"\n",
    "swaps_data_source = rf\"CSV_{os.path.join(os.getcwd(), \"..\", \"data\", \"usd_ois.csv\")}\"\n",
    "\n",
    "ff = FixingsFetcher(fred_api_key=config[\"FRED_API_KEY\"]) \n",
    "fixings = ff.get_fixings(\"USD-SOFR-1D\")\n",
    "\n",
    "usd_ois = IRSwaps(\n",
    "    curve=curve,\n",
    "    data_source=swaps_data_source,\n",
    "    fixings=fixings,\n",
    "    ql_interpolation_algo=\"log_linear\",\n",
    "    # pre_fetch_curves=True,\n",
    "    error_verbose=True,\n",
    "    max_njobs=-1,\n",
    ")"
   ]
  },
  {
   "cell_type": "code",
   "execution_count": 11,
   "id": "b9975c8e",
   "metadata": {},
   "outputs": [
    {
     "name": "stderr",
     "output_type": "stream",
     "text": [
      "BOOTSTRAPPING HISTORICAL IRSWAPS CURVE...: 100%|██████████| 6313/6313 [05:39<00:00, 18.62it/s]\n"
     ]
    }
   ],
   "source": [
    "curves = usd_ois.fetch_ql_irswap_curves(start_date=datetime(2000, 1, 1), end_date=datetime(2025, 5, 16))\n",
    "# curves"
   ]
  },
  {
   "cell_type": "code",
   "execution_count": 12,
   "id": "88b54030",
   "metadata": {},
   "outputs": [],
   "source": [
    "qs = []\n",
    "for f in usd_ois._DEFAULT_FWD_TENORS:\n",
    "    for u in usd_ois._DEFAULT_UNDERLYING_TENORS:\n",
    "        qs.append(IRSwapQuery(tenor=f\"{f}x{u}\" if f != \"0D\" else u, structure=IRSwapStructure.OUTRIGHT))"
   ]
  },
  {
   "cell_type": "code",
   "execution_count": null,
   "id": "bf64058a",
   "metadata": {},
   "outputs": [],
   "source": [
    "ts_df = usd_ois.irswaps_timeseries_builder(\n",
    "    start_date=datetime(2025, 1, 1),\n",
    "    end_date=datetime(2025, 5, 10),\n",
    "    # queries=[\n",
    "    #     IRSwapQuery(tenor=\"10Yx10Y\", structure=IRSwapStructure.OUTRIGHT),\n",
    "    #     IRSwapQuery(tenor=\"1Yx10Y\", structure=IRSwapStructure.OUTRIGHT),\n",
    "    #     IRSwapQuery(tenor=\"05Yx10Y\", structure=IRSwapStructure.OUTRIGHT),\n",
    "    # ],\n",
    "    queries=qs,\n",
    "    n_jobs=-1,\n",
    ")"
   ]
  },
  {
   "cell_type": "code",
   "execution_count": 16,
   "id": "fb3afa42",
   "metadata": {},
   "outputs": [
    {
     "data": {
      "text/html": [
       "<div>\n",
       "<style scoped>\n",
       "    .dataframe tbody tr th:only-of-type {\n",
       "        vertical-align: middle;\n",
       "    }\n",
       "\n",
       "    .dataframe tbody tr th {\n",
       "        vertical-align: top;\n",
       "    }\n",
       "\n",
       "    .dataframe thead th {\n",
       "        text-align: right;\n",
       "    }\n",
       "</style>\n",
       "<table border=\"1\" class=\"dataframe\">\n",
       "  <thead>\n",
       "    <tr style=\"text-align: right;\">\n",
       "      <th></th>\n",
       "      <th>USD-SOFR-1D 1Yx10Y  OUTRIGHT RATE</th>\n",
       "      <th>USD-SOFR-1D 10Yx10Y  OUTRIGHT RATE</th>\n",
       "      <th>USD-SOFR-1D 05Yx10Y  OUTRIGHT RATE</th>\n",
       "    </tr>\n",
       "    <tr>\n",
       "      <th>Date</th>\n",
       "      <th></th>\n",
       "      <th></th>\n",
       "      <th></th>\n",
       "    </tr>\n",
       "  </thead>\n",
       "  <tbody>\n",
       "    <tr>\n",
       "      <th>2025-01-02 17:00:00-05:00</th>\n",
       "      <td>4.083310</td>\n",
       "      <td>4.166258</td>\n",
       "      <td>4.186833</td>\n",
       "    </tr>\n",
       "    <tr>\n",
       "      <th>2025-01-03 17:00:00-05:00</th>\n",
       "      <td>4.102165</td>\n",
       "      <td>4.175861</td>\n",
       "      <td>4.192377</td>\n",
       "    </tr>\n",
       "    <tr>\n",
       "      <th>2025-01-06 17:00:00-05:00</th>\n",
       "      <td>4.146316</td>\n",
       "      <td>4.218979</td>\n",
       "      <td>4.239025</td>\n",
       "    </tr>\n",
       "    <tr>\n",
       "      <th>2025-01-07 17:00:00-05:00</th>\n",
       "      <td>4.223963</td>\n",
       "      <td>4.304254</td>\n",
       "      <td>4.328716</td>\n",
       "    </tr>\n",
       "    <tr>\n",
       "      <th>2025-01-08 17:00:00-05:00</th>\n",
       "      <td>4.236124</td>\n",
       "      <td>4.332602</td>\n",
       "      <td>4.353596</td>\n",
       "    </tr>\n",
       "    <tr>\n",
       "      <th>...</th>\n",
       "      <td>...</td>\n",
       "      <td>...</td>\n",
       "      <td>...</td>\n",
       "    </tr>\n",
       "    <tr>\n",
       "      <th>2025-05-05 17:00:00-04:00</th>\n",
       "      <td>3.839351</td>\n",
       "      <td>4.348576</td>\n",
       "      <td>4.236885</td>\n",
       "    </tr>\n",
       "    <tr>\n",
       "      <th>2025-05-06 17:00:00-04:00</th>\n",
       "      <td>3.800225</td>\n",
       "      <td>4.341714</td>\n",
       "      <td>4.213016</td>\n",
       "    </tr>\n",
       "    <tr>\n",
       "      <th>2025-05-07 17:00:00-04:00</th>\n",
       "      <td>3.763311</td>\n",
       "      <td>4.306954</td>\n",
       "      <td>4.169355</td>\n",
       "    </tr>\n",
       "    <tr>\n",
       "      <th>2025-05-08 17:00:00-04:00</th>\n",
       "      <td>3.876831</td>\n",
       "      <td>4.378892</td>\n",
       "      <td>4.256160</td>\n",
       "    </tr>\n",
       "    <tr>\n",
       "      <th>2025-05-09 17:00:00-04:00</th>\n",
       "      <td>3.877035</td>\n",
       "      <td>4.384597</td>\n",
       "      <td>4.259934</td>\n",
       "    </tr>\n",
       "  </tbody>\n",
       "</table>\n",
       "<p>89 rows × 3 columns</p>\n",
       "</div>"
      ],
      "text/plain": [
       "                           USD-SOFR-1D 1Yx10Y  OUTRIGHT RATE  \\\n",
       "Date                                                           \n",
       "2025-01-02 17:00:00-05:00                           4.083310   \n",
       "2025-01-03 17:00:00-05:00                           4.102165   \n",
       "2025-01-06 17:00:00-05:00                           4.146316   \n",
       "2025-01-07 17:00:00-05:00                           4.223963   \n",
       "2025-01-08 17:00:00-05:00                           4.236124   \n",
       "...                                                      ...   \n",
       "2025-05-05 17:00:00-04:00                           3.839351   \n",
       "2025-05-06 17:00:00-04:00                           3.800225   \n",
       "2025-05-07 17:00:00-04:00                           3.763311   \n",
       "2025-05-08 17:00:00-04:00                           3.876831   \n",
       "2025-05-09 17:00:00-04:00                           3.877035   \n",
       "\n",
       "                           USD-SOFR-1D 10Yx10Y  OUTRIGHT RATE  \\\n",
       "Date                                                            \n",
       "2025-01-02 17:00:00-05:00                            4.166258   \n",
       "2025-01-03 17:00:00-05:00                            4.175861   \n",
       "2025-01-06 17:00:00-05:00                            4.218979   \n",
       "2025-01-07 17:00:00-05:00                            4.304254   \n",
       "2025-01-08 17:00:00-05:00                            4.332602   \n",
       "...                                                       ...   \n",
       "2025-05-05 17:00:00-04:00                            4.348576   \n",
       "2025-05-06 17:00:00-04:00                            4.341714   \n",
       "2025-05-07 17:00:00-04:00                            4.306954   \n",
       "2025-05-08 17:00:00-04:00                            4.378892   \n",
       "2025-05-09 17:00:00-04:00                            4.384597   \n",
       "\n",
       "                           USD-SOFR-1D 05Yx10Y  OUTRIGHT RATE  \n",
       "Date                                                           \n",
       "2025-01-02 17:00:00-05:00                            4.186833  \n",
       "2025-01-03 17:00:00-05:00                            4.192377  \n",
       "2025-01-06 17:00:00-05:00                            4.239025  \n",
       "2025-01-07 17:00:00-05:00                            4.328716  \n",
       "2025-01-08 17:00:00-05:00                            4.353596  \n",
       "...                                                       ...  \n",
       "2025-05-05 17:00:00-04:00                            4.236885  \n",
       "2025-05-06 17:00:00-04:00                            4.213016  \n",
       "2025-05-07 17:00:00-04:00                            4.169355  \n",
       "2025-05-08 17:00:00-04:00                            4.256160  \n",
       "2025-05-09 17:00:00-04:00                            4.259934  \n",
       "\n",
       "[89 rows x 3 columns]"
      ]
     },
     "execution_count": 16,
     "metadata": {},
     "output_type": "execute_result"
    }
   ],
   "source": [
    "ts_df"
   ]
  },
  {
   "cell_type": "code",
   "execution_count": 21,
   "id": "ead9399a",
   "metadata": {},
   "outputs": [
    {
     "data": {
      "text/plain": [
       "datetime.datetime(2024, 1, 2, 0, 0)"
      ]
     },
     "execution_count": 21,
     "metadata": {},
     "output_type": "execute_result"
    }
   ],
   "source": [
    "\n",
    "datetime(2025, 1, 1) - timedelta(days=365)"
   ]
  },
  {
   "cell_type": "code",
   "execution_count": 5,
   "id": "967711a8",
   "metadata": {},
   "outputs": [],
   "source": [
    "eur_ois = IRSwaps(\n",
    "    curve=\"EUR-ESTR\",\n",
    "    data_source=\"CME\",\n",
    "    # fixings=ff.get_fixings(\"EUR-ESTR\"),\n",
    "    ql_interpolation_algo=\"log_linear\",\n",
    "    pre_fetch_curves=True,\n",
    "    error_verbose=True,\n",
    "    max_njobs=-1,\n",
    ")"
   ]
  },
  {
   "cell_type": "code",
   "execution_count": 28,
   "id": "b6b8d1d0",
   "metadata": {},
   "outputs": [],
   "source": [
    "# eur_ois.irswaps_term_structure_plotter(bdates=[datetime(2025, 3, 31), datetime(2025, 5, 9)], fwd_tenors=[\"0D\", \"1Y\"], use_plotly=True)"
   ]
  },
  {
   "cell_type": "code",
   "execution_count": null,
   "id": "a146d00e",
   "metadata": {},
   "outputs": [
    {
     "name": "stderr",
     "output_type": "stream",
     "text": [
      "Fetching Curve Reports:   0%|          | 0/1027 [00:00<?, ?it/s]"
     ]
    }
   ],
   "source": [
    "PAR_TENORS = [\n",
    "    \"1D\",\n",
    "    \"1W\",\n",
    "    \"2W\",\n",
    "    \"3W\",\n",
    "    \"1M\",\n",
    "    \"2M\",\n",
    "    \"3M\",\n",
    "    \"4M\",\n",
    "    \"5M\",\n",
    "    \"6M\",\n",
    "    \"7M\",\n",
    "    \"8M\",\n",
    "    \"9M\",\n",
    "    \"10M\",\n",
    "    \"11M\",\n",
    "    \"12M\",\n",
    "    \"15M\",\n",
    "    \"18M\",\n",
    "    \"21M\",\n",
    "    \"2Y\",\n",
    "    \"3Y\",\n",
    "    \"4Y\",\n",
    "    \"5Y\",\n",
    "    \"6Y\",\n",
    "    \"7Y\",\n",
    "    \"8Y\",\n",
    "    \"9Y\",\n",
    "    \"10Y\",\n",
    "    \"12Y\",\n",
    "    \"15Y\",\n",
    "    \"20Y\",\n",
    "    \"25Y\",\n",
    "    \"30Y\",\n",
    "    \"40Y\",\n",
    "    \"50Y\",\n",
    "]\n",
    "\n",
    "ts_df = eur_ois.irswaps_timeseries_builder(\n",
    "\tstart_date=datetime(2020, 1, 1),\n",
    "\tend_date=datetime(2025, 5, 16),\n",
    "\tqueries=[(IRSwapQuery(tenor=t), t) for t in PAR_TENORS],\n",
    "\tn_jobs=-1,\n",
    "    ignore_cache=True\n",
    ")"
   ]
  },
  {
   "cell_type": "code",
   "execution_count": 16,
   "id": "742f2314",
   "metadata": {},
   "outputs": [],
   "source": [
    "ts_df[PAR_TENORS].to_csv(r\"C:\\Users\\chris\\Project Bond King\\rvcore\\data\\eur_ois.csv\")"
   ]
  },
  {
   "cell_type": "code",
   "execution_count": null,
   "id": "0d3a1944",
   "metadata": {},
   "outputs": [],
   "source": []
  }
 ],
 "metadata": {
  "kernelspec": {
   "display_name": "Python 3",
   "language": "python",
   "name": "python3"
  },
  "language_info": {
   "codemirror_mode": {
    "name": "ipython",
    "version": 3
   },
   "file_extension": ".py",
   "mimetype": "text/x-python",
   "name": "python",
   "nbconvert_exporter": "python",
   "pygments_lexer": "ipython3",
   "version": "3.13.0"
  }
 },
 "nbformat": 4,
 "nbformat_minor": 5
}
