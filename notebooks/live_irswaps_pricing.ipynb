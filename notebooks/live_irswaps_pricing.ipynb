{
 "cells": [
  {
   "cell_type": "markdown",
   "id": "d21b32c5",
   "metadata": {},
   "source": [
    "# \"Live\" Market USD Swaps Pricer\n",
    "- Using Eris' Discount Curve: https://www.erisfutures.com/forum/ftp-site-guide"
   ]
  },
  {
   "cell_type": "code",
   "execution_count": 3,
   "id": "1aef6cb5",
   "metadata": {},
   "outputs": [],
   "source": [
    "import sys\n",
    "sys.path.append(\"../\")\n",
    "\n",
    "import os\n",
    "from dotenv import dotenv_values\n",
    "env_path = os.path.join(os.getcwd(), \"../.env\")\n",
    "config = dotenv_values(env_path)"
   ]
  },
  {
   "cell_type": "code",
   "execution_count": 11,
   "id": "32b6485f",
   "metadata": {},
   "outputs": [
    {
     "name": "stdout",
     "output_type": "stream",
     "text": [
      "The autoreload extension is already loaded. To reload it, use:\n",
      "  %reload_ext autoreload\n"
     ]
    }
   ],
   "source": [
    "%load_ext autoreload\n",
    "%autoreload 2\n",
    "%reload_ext autoreload\n",
    "\n",
    "from core.utils.ql_loader import ql\n",
    "\n",
    "from core.IRSwaps import IRSwaps, IRSwapQuery, IRSwapStructure, IRSwapStructureFunctionMap\n",
    "\n",
    "import nest_asyncio\n",
    "nest_asyncio.apply()"
   ]
  },
  {
   "cell_type": "code",
   "execution_count": 8,
   "id": "0459c049",
   "metadata": {},
   "outputs": [],
   "source": [
    "curve = \"USD-SOFR-1D\"\n",
    "\n",
    "usd_ois = IRSwaps(\n",
    "    curve=curve,\n",
    "    data_source=\"CME\",\n",
    "    ql_interpolation_algo=\"mono_log_parabolic_cubic\",\n",
    "    max_njobs=-1,\n",
    ")"
   ]
  },
  {
   "cell_type": "code",
   "execution_count": 9,
   "id": "4fe572c3",
   "metadata": {},
   "outputs": [
    {
     "name": "stderr",
     "output_type": "stream",
     "text": [
      "FETCHING ERIS INTRADAY DISC CURVE...: 100%|██████████| 1/1 [00:00<00:00,  2.27it/s]\n"
     ]
    },
    {
     "data": {
      "text/plain": [
       "(datetime.datetime(2025, 5, 12, 18, 33, 19, tzinfo=<UTC>),\n",
       " <QuantLib.QuantLib.MonotonicLogParabolicCubicDiscountCurve; proxy of <Swig Object of type 'ext::shared_ptr< InterpolatedDiscountCurve< MonotonicLogParabolicCubic > > *' at 0x000001EFD32A2F70> >)"
      ]
     },
     "execution_count": 9,
     "metadata": {},
     "output_type": "execute_result"
    }
   ],
   "source": [
    "ts, ql_curve = usd_ois.fetch_latest_curve()\n",
    "curve_handle = ql.YieldTermStructureHandle(ql_curve)\n",
    "\n",
    "ts, ql_curve"
   ]
  },
  {
   "cell_type": "markdown",
   "id": "99b18077",
   "metadata": {},
   "source": [
    "## \"Live\" Level for an Outright Rec 100k/bp in spot 10s"
   ]
  },
  {
   "cell_type": "code",
   "execution_count": 10,
   "id": "be3fba90",
   "metadata": {},
   "outputs": [
    {
     "name": "stdout",
     "output_type": "stream",
     "text": [
      "Eff/Mat Dates  May 14th, 2025 May 14th, 2035\n",
      "Par Rate:  3.942955797694999\n",
      "Notional:  121005521.44907977\n",
      "NPV:  4.470348358154297e-08\n",
      "BPV:  100000.0\n"
     ]
    }
   ],
   "source": [
    "q = IRSwapQuery(tenor=\"10Y\", structure=IRSwapStructure.OUTRIGHT, structure_kwargs={\"bpv\": 100_000})\n",
    "package, risk_weights = IRSwapStructureFunctionMap(curve=curve, curve_handle=curve_handle).apply(structure=q.structure, tenor=q.tenor, **q.structure_kwargs)\n",
    "\n",
    "outright: ql.OvernightIndexedSwap = package[0]\n",
    "\n",
    "print(\"Eff/Mat Dates \", outright.startDate(), outright.maturityDate())\n",
    "print(\"Par Rate: \", outright.fairRate() * 100)\n",
    "print(\"Notional: \", outright.nominal())\n",
    "print(\"NPV: \", outright.NPV())\n",
    "print(\"BPV: \", outright.fixedLegBPS())"
   ]
  },
  {
   "cell_type": "code",
   "execution_count": null,
   "id": "d7521073",
   "metadata": {},
   "outputs": [],
   "source": []
  }
 ],
 "metadata": {
  "kernelspec": {
   "display_name": "Python 3",
   "language": "python",
   "name": "python3"
  },
  "language_info": {
   "codemirror_mode": {
    "name": "ipython",
    "version": 3
   },
   "file_extension": ".py",
   "mimetype": "text/x-python",
   "name": "python",
   "nbconvert_exporter": "python",
   "pygments_lexer": "ipython3",
   "version": "3.13.0"
  }
 },
 "nbformat": 4,
 "nbformat_minor": 5
}
